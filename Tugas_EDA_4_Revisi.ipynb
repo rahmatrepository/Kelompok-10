{
  "cells": [
    {
      "cell_type": "markdown",
      "metadata": {
        "id": "h5fQeFBsZrHY"
      },
      "source": [
        "# Tugas 4 (EDA dan Klasifikasi)"
      ]
    },
    {
      "cell_type": "markdown",
      "metadata": {
        "id": "KKX70FHj272w"
      },
      "source": [
        "# **Exploratory Data Analysis**"
      ]
    },
    {
      "cell_type": "markdown",
      "metadata": {
        "id": "ciareR2Kd9BO"
      },
      "source": [
        "# Pendahuluan\n",
        "\n",
        "Dalam tugas ini, kami melakukan analisis eksplorasi data (EDA) dan klasifikasi menggunakan dataset yang berkaitan dengan prediksi pesanan. Dataset terdiri dari dua bagian utama: data latih dan data uji, yang masing-masing berisi berbagai fitur yang menggambarkan perilaku pelanggan dan karakteristik produk. Kami menggunakan berbagai teknik praproses untuk membersihkan dan menyiapkan data, termasuk mengatasi nilai yang hilang dan melakukan one-hot encoding untuk kolom kategorikal. Setelah itu, kami melatih model klasifikasi menggunakan algoritma Random Forest untuk memprediksi apakah sebuah pesanan akan terjadi atau tidak. Hasil dari model dievaluasi menggunakan metrik seperti akurasi, precision, recall, dan F1-score, serta divisualisasikan menggunakan confusion matrix dan ROC curve untuk memberikan pemahaman yang lebih baik tentang kinerja model."
      ]
    },
    {
      "cell_type": "markdown",
      "metadata": {
        "id": "JRDCwZPUZ-ad"
      },
      "source": [
        "Kelompok 10\n",
        "\n",
        "1.  Muhammad Igin Adigholib (2301125)\n",
        "2.  Rahmat Taufik Al-Hidayah (2300414)\n",
        "3.  Anugrah Bayu Satrio (2300624)\n",
        "4.  Muhamad Khafabillah Sopian (2307824)\n",
        "5.  Rexy Putra Nur Laksana (2309578)\n",
        "\n"
      ]
    },
    {
      "cell_type": "markdown",
      "metadata": {
        "id": "tb9x_yv-bLh7"
      },
      "source": [
        "# Perpustakaan"
      ]
    },
    {
      "cell_type": "code",
      "execution_count": 128,
      "metadata": {
        "id": "o2y7LlqgbdpT"
      },
      "outputs": [],
      "source": [
        "# Import libraries\n",
        "import pandas as pd\n",
        "import numpy as np\n",
        "import matplotlib.pyplot as plt\n",
        "import seaborn as sns\n",
        "from matplotlib.ticker import FuncFormatter\n",
        "from os.path import join\n",
        "from IPython.core.display import display, HTML"
      ]
    },
    {
      "cell_type": "markdown",
      "metadata": {
        "id": "p-37qXr0buRS"
      },
      "source": [
        "# Impor Drive"
      ]
    },
    {
      "cell_type": "markdown",
      "metadata": {
        "id": "tPIw51lQcEf7"
      },
      "source": [
        "**Menghubungkan Google Colab dengan Google Drive untuk mengakses file yang tersimpan di dalamnya.**"
      ]
    },
    {
      "cell_type": "code",
      "execution_count": 129,
      "metadata": {
        "colab": {
          "base_uri": "https://localhost:8080/"
        },
        "id": "UOGXKStmb0Xm",
        "outputId": "6e209c87-4441-4804-e9ff-3017a9c8fd50"
      },
      "outputs": [
        {
          "output_type": "stream",
          "name": "stdout",
          "text": [
            "Drive already mounted at /content/drive; to attempt to forcibly remount, call drive.mount(\"/content/drive\", force_remount=True).\n"
          ]
        }
      ],
      "source": [
        "from google.colab import drive\n",
        "drive.mount('/content/drive')\n",
        "dir = \"/content/drive/MyDrive/Tugas EDA 3/\""
      ]
    },
    {
      "cell_type": "markdown",
      "metadata": {
        "id": "3fDA9XhQifxf"
      },
      "source": [
        "# **Mengakses File**"
      ]
    },
    {
      "cell_type": "code",
      "execution_count": 130,
      "metadata": {
        "id": "Br4MSZ2rfSox"
      },
      "outputs": [],
      "source": [
        "# memuat data dari csv\n",
        "Transact_Train = pd.read_csv(join(dir, \"Transact_Train.csv\"))\n",
        "Transact_Class = pd.read_csv(join(dir, \"transact_class.csv\"))\n",
        "Task_1 = pd.read_csv(join(dir, \"task1.csv\"))"
      ]
    },
    {
      "cell_type": "markdown",
      "metadata": {
        "id": "7NgDmYi5eJNk"
      },
      "source": [
        "# **Menampilkan Isi Data Teratas Data Transact Train**"
      ]
    },
    {
      "cell_type": "code",
      "execution_count": 131,
      "metadata": {
        "colab": {
          "base_uri": "https://localhost:8080/",
          "height": 325
        },
        "id": "SVNEOzbdew5K",
        "outputId": "2135f93d-f902-4e72-8329-a44b6e5ab502"
      },
      "outputs": [
        {
          "output_type": "execute_result",
          "data": {
            "text/plain": [
              "   sessionNo  startHour  startWeekday  duration  cCount cMinPrice cMaxPrice  \\\n",
              "0          1          6             5     0.000       1     59.99     59.99   \n",
              "1          1          6             5    11.940       1     59.99     59.99   \n",
              "2          1          6             5    39.887       1     59.99     59.99   \n",
              "3          2          6             5     0.000       0         ?         ?   \n",
              "4          2          6             5    15.633       0         ?         ?   \n",
              "\n",
              "  cSumPrice  bCount bMinPrice  ...          availability customerNo maxVal  \\\n",
              "0     59.99       1     59.99  ...                     ?          1    600   \n",
              "1     59.99       1     59.99  ...  completely orderable          1    600   \n",
              "2     59.99       1     59.99  ...  completely orderable          1    600   \n",
              "3         ?       0         ?  ...  completely orderable          ?      ?   \n",
              "4         ?       0         ?  ...  completely orderable          ?      ?   \n",
              "\n",
              "  customerScore accountLifetime payments age address lastOrder order  \n",
              "0            70              21        1  43       1        49     y  \n",
              "1            70              21        1  43       1        49     y  \n",
              "2            70              21        1  43       1        49     y  \n",
              "3             ?               ?        ?   ?       ?         ?     y  \n",
              "4             ?               ?        ?   ?       ?         ?     y  \n",
              "\n",
              "[5 rows x 24 columns]"
            ],
            "text/html": [
              "\n",
              "  <div id=\"df-74414ad7-b51c-4892-99bb-4a1f37991216\" class=\"colab-df-container\">\n",
              "    <div>\n",
              "<style scoped>\n",
              "    .dataframe tbody tr th:only-of-type {\n",
              "        vertical-align: middle;\n",
              "    }\n",
              "\n",
              "    .dataframe tbody tr th {\n",
              "        vertical-align: top;\n",
              "    }\n",
              "\n",
              "    .dataframe thead th {\n",
              "        text-align: right;\n",
              "    }\n",
              "</style>\n",
              "<table border=\"1\" class=\"dataframe\">\n",
              "  <thead>\n",
              "    <tr style=\"text-align: right;\">\n",
              "      <th></th>\n",
              "      <th>sessionNo</th>\n",
              "      <th>startHour</th>\n",
              "      <th>startWeekday</th>\n",
              "      <th>duration</th>\n",
              "      <th>cCount</th>\n",
              "      <th>cMinPrice</th>\n",
              "      <th>cMaxPrice</th>\n",
              "      <th>cSumPrice</th>\n",
              "      <th>bCount</th>\n",
              "      <th>bMinPrice</th>\n",
              "      <th>...</th>\n",
              "      <th>availability</th>\n",
              "      <th>customerNo</th>\n",
              "      <th>maxVal</th>\n",
              "      <th>customerScore</th>\n",
              "      <th>accountLifetime</th>\n",
              "      <th>payments</th>\n",
              "      <th>age</th>\n",
              "      <th>address</th>\n",
              "      <th>lastOrder</th>\n",
              "      <th>order</th>\n",
              "    </tr>\n",
              "  </thead>\n",
              "  <tbody>\n",
              "    <tr>\n",
              "      <th>0</th>\n",
              "      <td>1</td>\n",
              "      <td>6</td>\n",
              "      <td>5</td>\n",
              "      <td>0.000</td>\n",
              "      <td>1</td>\n",
              "      <td>59.99</td>\n",
              "      <td>59.99</td>\n",
              "      <td>59.99</td>\n",
              "      <td>1</td>\n",
              "      <td>59.99</td>\n",
              "      <td>...</td>\n",
              "      <td>?</td>\n",
              "      <td>1</td>\n",
              "      <td>600</td>\n",
              "      <td>70</td>\n",
              "      <td>21</td>\n",
              "      <td>1</td>\n",
              "      <td>43</td>\n",
              "      <td>1</td>\n",
              "      <td>49</td>\n",
              "      <td>y</td>\n",
              "    </tr>\n",
              "    <tr>\n",
              "      <th>1</th>\n",
              "      <td>1</td>\n",
              "      <td>6</td>\n",
              "      <td>5</td>\n",
              "      <td>11.940</td>\n",
              "      <td>1</td>\n",
              "      <td>59.99</td>\n",
              "      <td>59.99</td>\n",
              "      <td>59.99</td>\n",
              "      <td>1</td>\n",
              "      <td>59.99</td>\n",
              "      <td>...</td>\n",
              "      <td>completely orderable</td>\n",
              "      <td>1</td>\n",
              "      <td>600</td>\n",
              "      <td>70</td>\n",
              "      <td>21</td>\n",
              "      <td>1</td>\n",
              "      <td>43</td>\n",
              "      <td>1</td>\n",
              "      <td>49</td>\n",
              "      <td>y</td>\n",
              "    </tr>\n",
              "    <tr>\n",
              "      <th>2</th>\n",
              "      <td>1</td>\n",
              "      <td>6</td>\n",
              "      <td>5</td>\n",
              "      <td>39.887</td>\n",
              "      <td>1</td>\n",
              "      <td>59.99</td>\n",
              "      <td>59.99</td>\n",
              "      <td>59.99</td>\n",
              "      <td>1</td>\n",
              "      <td>59.99</td>\n",
              "      <td>...</td>\n",
              "      <td>completely orderable</td>\n",
              "      <td>1</td>\n",
              "      <td>600</td>\n",
              "      <td>70</td>\n",
              "      <td>21</td>\n",
              "      <td>1</td>\n",
              "      <td>43</td>\n",
              "      <td>1</td>\n",
              "      <td>49</td>\n",
              "      <td>y</td>\n",
              "    </tr>\n",
              "    <tr>\n",
              "      <th>3</th>\n",
              "      <td>2</td>\n",
              "      <td>6</td>\n",
              "      <td>5</td>\n",
              "      <td>0.000</td>\n",
              "      <td>0</td>\n",
              "      <td>?</td>\n",
              "      <td>?</td>\n",
              "      <td>?</td>\n",
              "      <td>0</td>\n",
              "      <td>?</td>\n",
              "      <td>...</td>\n",
              "      <td>completely orderable</td>\n",
              "      <td>?</td>\n",
              "      <td>?</td>\n",
              "      <td>?</td>\n",
              "      <td>?</td>\n",
              "      <td>?</td>\n",
              "      <td>?</td>\n",
              "      <td>?</td>\n",
              "      <td>?</td>\n",
              "      <td>y</td>\n",
              "    </tr>\n",
              "    <tr>\n",
              "      <th>4</th>\n",
              "      <td>2</td>\n",
              "      <td>6</td>\n",
              "      <td>5</td>\n",
              "      <td>15.633</td>\n",
              "      <td>0</td>\n",
              "      <td>?</td>\n",
              "      <td>?</td>\n",
              "      <td>?</td>\n",
              "      <td>0</td>\n",
              "      <td>?</td>\n",
              "      <td>...</td>\n",
              "      <td>completely orderable</td>\n",
              "      <td>?</td>\n",
              "      <td>?</td>\n",
              "      <td>?</td>\n",
              "      <td>?</td>\n",
              "      <td>?</td>\n",
              "      <td>?</td>\n",
              "      <td>?</td>\n",
              "      <td>?</td>\n",
              "      <td>y</td>\n",
              "    </tr>\n",
              "  </tbody>\n",
              "</table>\n",
              "<p>5 rows × 24 columns</p>\n",
              "</div>\n",
              "    <div class=\"colab-df-buttons\">\n",
              "\n",
              "  <div class=\"colab-df-container\">\n",
              "    <button class=\"colab-df-convert\" onclick=\"convertToInteractive('df-74414ad7-b51c-4892-99bb-4a1f37991216')\"\n",
              "            title=\"Convert this dataframe to an interactive table.\"\n",
              "            style=\"display:none;\">\n",
              "\n",
              "  <svg xmlns=\"http://www.w3.org/2000/svg\" height=\"24px\" viewBox=\"0 -960 960 960\">\n",
              "    <path d=\"M120-120v-720h720v720H120Zm60-500h600v-160H180v160Zm220 220h160v-160H400v160Zm0 220h160v-160H400v160ZM180-400h160v-160H180v160Zm440 0h160v-160H620v160ZM180-180h160v-160H180v160Zm440 0h160v-160H620v160Z\"/>\n",
              "  </svg>\n",
              "    </button>\n",
              "\n",
              "  <style>\n",
              "    .colab-df-container {\n",
              "      display:flex;\n",
              "      gap: 12px;\n",
              "    }\n",
              "\n",
              "    .colab-df-convert {\n",
              "      background-color: #E8F0FE;\n",
              "      border: none;\n",
              "      border-radius: 50%;\n",
              "      cursor: pointer;\n",
              "      display: none;\n",
              "      fill: #1967D2;\n",
              "      height: 32px;\n",
              "      padding: 0 0 0 0;\n",
              "      width: 32px;\n",
              "    }\n",
              "\n",
              "    .colab-df-convert:hover {\n",
              "      background-color: #E2EBFA;\n",
              "      box-shadow: 0px 1px 2px rgba(60, 64, 67, 0.3), 0px 1px 3px 1px rgba(60, 64, 67, 0.15);\n",
              "      fill: #174EA6;\n",
              "    }\n",
              "\n",
              "    .colab-df-buttons div {\n",
              "      margin-bottom: 4px;\n",
              "    }\n",
              "\n",
              "    [theme=dark] .colab-df-convert {\n",
              "      background-color: #3B4455;\n",
              "      fill: #D2E3FC;\n",
              "    }\n",
              "\n",
              "    [theme=dark] .colab-df-convert:hover {\n",
              "      background-color: #434B5C;\n",
              "      box-shadow: 0px 1px 3px 1px rgba(0, 0, 0, 0.15);\n",
              "      filter: drop-shadow(0px 1px 2px rgba(0, 0, 0, 0.3));\n",
              "      fill: #FFFFFF;\n",
              "    }\n",
              "  </style>\n",
              "\n",
              "    <script>\n",
              "      const buttonEl =\n",
              "        document.querySelector('#df-74414ad7-b51c-4892-99bb-4a1f37991216 button.colab-df-convert');\n",
              "      buttonEl.style.display =\n",
              "        google.colab.kernel.accessAllowed ? 'block' : 'none';\n",
              "\n",
              "      async function convertToInteractive(key) {\n",
              "        const element = document.querySelector('#df-74414ad7-b51c-4892-99bb-4a1f37991216');\n",
              "        const dataTable =\n",
              "          await google.colab.kernel.invokeFunction('convertToInteractive',\n",
              "                                                    [key], {});\n",
              "        if (!dataTable) return;\n",
              "\n",
              "        const docLinkHtml = 'Like what you see? Visit the ' +\n",
              "          '<a target=\"_blank\" href=https://colab.research.google.com/notebooks/data_table.ipynb>data table notebook</a>'\n",
              "          + ' to learn more about interactive tables.';\n",
              "        element.innerHTML = '';\n",
              "        dataTable['output_type'] = 'display_data';\n",
              "        await google.colab.output.renderOutput(dataTable, element);\n",
              "        const docLink = document.createElement('div');\n",
              "        docLink.innerHTML = docLinkHtml;\n",
              "        element.appendChild(docLink);\n",
              "      }\n",
              "    </script>\n",
              "  </div>\n",
              "\n",
              "\n",
              "<div id=\"df-94f6964d-b793-4a3a-91c5-2abd2e5f7e01\">\n",
              "  <button class=\"colab-df-quickchart\" onclick=\"quickchart('df-94f6964d-b793-4a3a-91c5-2abd2e5f7e01')\"\n",
              "            title=\"Suggest charts\"\n",
              "            style=\"display:none;\">\n",
              "\n",
              "<svg xmlns=\"http://www.w3.org/2000/svg\" height=\"24px\"viewBox=\"0 0 24 24\"\n",
              "     width=\"24px\">\n",
              "    <g>\n",
              "        <path d=\"M19 3H5c-1.1 0-2 .9-2 2v14c0 1.1.9 2 2 2h14c1.1 0 2-.9 2-2V5c0-1.1-.9-2-2-2zM9 17H7v-7h2v7zm4 0h-2V7h2v10zm4 0h-2v-4h2v4z\"/>\n",
              "    </g>\n",
              "</svg>\n",
              "  </button>\n",
              "\n",
              "<style>\n",
              "  .colab-df-quickchart {\n",
              "      --bg-color: #E8F0FE;\n",
              "      --fill-color: #1967D2;\n",
              "      --hover-bg-color: #E2EBFA;\n",
              "      --hover-fill-color: #174EA6;\n",
              "      --disabled-fill-color: #AAA;\n",
              "      --disabled-bg-color: #DDD;\n",
              "  }\n",
              "\n",
              "  [theme=dark] .colab-df-quickchart {\n",
              "      --bg-color: #3B4455;\n",
              "      --fill-color: #D2E3FC;\n",
              "      --hover-bg-color: #434B5C;\n",
              "      --hover-fill-color: #FFFFFF;\n",
              "      --disabled-bg-color: #3B4455;\n",
              "      --disabled-fill-color: #666;\n",
              "  }\n",
              "\n",
              "  .colab-df-quickchart {\n",
              "    background-color: var(--bg-color);\n",
              "    border: none;\n",
              "    border-radius: 50%;\n",
              "    cursor: pointer;\n",
              "    display: none;\n",
              "    fill: var(--fill-color);\n",
              "    height: 32px;\n",
              "    padding: 0;\n",
              "    width: 32px;\n",
              "  }\n",
              "\n",
              "  .colab-df-quickchart:hover {\n",
              "    background-color: var(--hover-bg-color);\n",
              "    box-shadow: 0 1px 2px rgba(60, 64, 67, 0.3), 0 1px 3px 1px rgba(60, 64, 67, 0.15);\n",
              "    fill: var(--button-hover-fill-color);\n",
              "  }\n",
              "\n",
              "  .colab-df-quickchart-complete:disabled,\n",
              "  .colab-df-quickchart-complete:disabled:hover {\n",
              "    background-color: var(--disabled-bg-color);\n",
              "    fill: var(--disabled-fill-color);\n",
              "    box-shadow: none;\n",
              "  }\n",
              "\n",
              "  .colab-df-spinner {\n",
              "    border: 2px solid var(--fill-color);\n",
              "    border-color: transparent;\n",
              "    border-bottom-color: var(--fill-color);\n",
              "    animation:\n",
              "      spin 1s steps(1) infinite;\n",
              "  }\n",
              "\n",
              "  @keyframes spin {\n",
              "    0% {\n",
              "      border-color: transparent;\n",
              "      border-bottom-color: var(--fill-color);\n",
              "      border-left-color: var(--fill-color);\n",
              "    }\n",
              "    20% {\n",
              "      border-color: transparent;\n",
              "      border-left-color: var(--fill-color);\n",
              "      border-top-color: var(--fill-color);\n",
              "    }\n",
              "    30% {\n",
              "      border-color: transparent;\n",
              "      border-left-color: var(--fill-color);\n",
              "      border-top-color: var(--fill-color);\n",
              "      border-right-color: var(--fill-color);\n",
              "    }\n",
              "    40% {\n",
              "      border-color: transparent;\n",
              "      border-right-color: var(--fill-color);\n",
              "      border-top-color: var(--fill-color);\n",
              "    }\n",
              "    60% {\n",
              "      border-color: transparent;\n",
              "      border-right-color: var(--fill-color);\n",
              "    }\n",
              "    80% {\n",
              "      border-color: transparent;\n",
              "      border-right-color: var(--fill-color);\n",
              "      border-bottom-color: var(--fill-color);\n",
              "    }\n",
              "    90% {\n",
              "      border-color: transparent;\n",
              "      border-bottom-color: var(--fill-color);\n",
              "    }\n",
              "  }\n",
              "</style>\n",
              "\n",
              "  <script>\n",
              "    async function quickchart(key) {\n",
              "      const quickchartButtonEl =\n",
              "        document.querySelector('#' + key + ' button');\n",
              "      quickchartButtonEl.disabled = true;  // To prevent multiple clicks.\n",
              "      quickchartButtonEl.classList.add('colab-df-spinner');\n",
              "      try {\n",
              "        const charts = await google.colab.kernel.invokeFunction(\n",
              "            'suggestCharts', [key], {});\n",
              "      } catch (error) {\n",
              "        console.error('Error during call to suggestCharts:', error);\n",
              "      }\n",
              "      quickchartButtonEl.classList.remove('colab-df-spinner');\n",
              "      quickchartButtonEl.classList.add('colab-df-quickchart-complete');\n",
              "    }\n",
              "    (() => {\n",
              "      let quickchartButtonEl =\n",
              "        document.querySelector('#df-94f6964d-b793-4a3a-91c5-2abd2e5f7e01 button');\n",
              "      quickchartButtonEl.style.display =\n",
              "        google.colab.kernel.accessAllowed ? 'block' : 'none';\n",
              "    })();\n",
              "  </script>\n",
              "</div>\n",
              "\n",
              "    </div>\n",
              "  </div>\n"
            ],
            "application/vnd.google.colaboratory.intrinsic+json": {
              "type": "dataframe",
              "variable_name": "Transact_Train"
            }
          },
          "metadata": {},
          "execution_count": 131
        }
      ],
      "source": [
        "Transact_Train.head()"
      ]
    },
    {
      "cell_type": "markdown",
      "metadata": {
        "id": "buxNlLMYdvUM"
      },
      "source": [
        "# **Struktur dan Informasi Data Transact Train**"
      ]
    },
    {
      "cell_type": "code",
      "execution_count": 132,
      "metadata": {
        "colab": {
          "base_uri": "https://localhost:8080/"
        },
        "id": "4cVOUec4c1qV",
        "outputId": "a62bbbcb-0a82-4554-cff5-eda66d472eec"
      },
      "outputs": [
        {
          "output_type": "stream",
          "name": "stdout",
          "text": [
            "<class 'pandas.core.frame.DataFrame'>\n",
            "RangeIndex: 429013 entries, 0 to 429012\n",
            "Data columns (total 24 columns):\n",
            " #   Column           Non-Null Count   Dtype  \n",
            "---  ------           --------------   -----  \n",
            " 0   sessionNo        429013 non-null  int64  \n",
            " 1   startHour        429013 non-null  int64  \n",
            " 2   startWeekday     429013 non-null  int64  \n",
            " 3   duration         429013 non-null  float64\n",
            " 4   cCount           429013 non-null  int64  \n",
            " 5   cMinPrice        429013 non-null  object \n",
            " 6   cMaxPrice        429013 non-null  object \n",
            " 7   cSumPrice        429013 non-null  object \n",
            " 8   bCount           429013 non-null  int64  \n",
            " 9   bMinPrice        429013 non-null  object \n",
            " 10  bMaxPrice        429013 non-null  object \n",
            " 11  bSumPrice        429013 non-null  object \n",
            " 12  bStep            429013 non-null  object \n",
            " 13  onlineStatus     429013 non-null  object \n",
            " 14  availability     429013 non-null  object \n",
            " 15  customerNo       429013 non-null  object \n",
            " 16  maxVal           429013 non-null  object \n",
            " 17  customerScore    429013 non-null  object \n",
            " 18  accountLifetime  429013 non-null  object \n",
            " 19  payments         429013 non-null  object \n",
            " 20  age              429013 non-null  object \n",
            " 21  address          429013 non-null  object \n",
            " 22  lastOrder        429013 non-null  object \n",
            " 23  order            429013 non-null  object \n",
            "dtypes: float64(1), int64(5), object(18)\n",
            "memory usage: 78.6+ MB\n"
          ]
        }
      ],
      "source": [
        "Transact_Train.info()"
      ]
    },
    {
      "cell_type": "markdown",
      "metadata": {
        "id": "NPwu_r--eDp5"
      },
      "source": [
        "# **Statistik Deskriptif Dataset Transact Train**"
      ]
    },
    {
      "cell_type": "code",
      "execution_count": 133,
      "metadata": {
        "colab": {
          "base_uri": "https://localhost:8080/",
          "height": 300
        },
        "id": "wfG_i5-ec5b7",
        "outputId": "de07bd91-e272-428d-a98a-7e88a2f8add2"
      },
      "outputs": [
        {
          "output_type": "execute_result",
          "data": {
            "text/plain": [
              "           sessionNo      startHour   startWeekday       duration  \\\n",
              "count  429013.000000  429013.000000  429013.000000  429013.000000   \n",
              "mean    25274.631293      14.617061       5.924839    1573.901640   \n",
              "std     14441.366146       4.485914       0.790930    2427.123356   \n",
              "min         1.000000       0.000000       5.000000       0.000000   \n",
              "25%     12731.000000      11.000000       5.000000     225.070000   \n",
              "50%     25470.000000      15.000000       6.000000     738.199000   \n",
              "75%     37542.000000      18.000000       7.000000    1880.265000   \n",
              "max     50000.000000      23.000000       7.000000   21580.092000   \n",
              "\n",
              "              cCount         bCount  \n",
              "count  429013.000000  429013.000000  \n",
              "mean       24.140317       4.135168  \n",
              "std        30.398164       4.451778  \n",
              "min         0.000000       0.000000  \n",
              "25%         5.000000       1.000000  \n",
              "50%        13.000000       3.000000  \n",
              "75%        31.000000       5.000000  \n",
              "max       200.000000     108.000000  "
            ],
            "text/html": [
              "\n",
              "  <div id=\"df-27e5c5cc-2617-476f-828d-08e5bba5e99f\" class=\"colab-df-container\">\n",
              "    <div>\n",
              "<style scoped>\n",
              "    .dataframe tbody tr th:only-of-type {\n",
              "        vertical-align: middle;\n",
              "    }\n",
              "\n",
              "    .dataframe tbody tr th {\n",
              "        vertical-align: top;\n",
              "    }\n",
              "\n",
              "    .dataframe thead th {\n",
              "        text-align: right;\n",
              "    }\n",
              "</style>\n",
              "<table border=\"1\" class=\"dataframe\">\n",
              "  <thead>\n",
              "    <tr style=\"text-align: right;\">\n",
              "      <th></th>\n",
              "      <th>sessionNo</th>\n",
              "      <th>startHour</th>\n",
              "      <th>startWeekday</th>\n",
              "      <th>duration</th>\n",
              "      <th>cCount</th>\n",
              "      <th>bCount</th>\n",
              "    </tr>\n",
              "  </thead>\n",
              "  <tbody>\n",
              "    <tr>\n",
              "      <th>count</th>\n",
              "      <td>429013.000000</td>\n",
              "      <td>429013.000000</td>\n",
              "      <td>429013.000000</td>\n",
              "      <td>429013.000000</td>\n",
              "      <td>429013.000000</td>\n",
              "      <td>429013.000000</td>\n",
              "    </tr>\n",
              "    <tr>\n",
              "      <th>mean</th>\n",
              "      <td>25274.631293</td>\n",
              "      <td>14.617061</td>\n",
              "      <td>5.924839</td>\n",
              "      <td>1573.901640</td>\n",
              "      <td>24.140317</td>\n",
              "      <td>4.135168</td>\n",
              "    </tr>\n",
              "    <tr>\n",
              "      <th>std</th>\n",
              "      <td>14441.366146</td>\n",
              "      <td>4.485914</td>\n",
              "      <td>0.790930</td>\n",
              "      <td>2427.123356</td>\n",
              "      <td>30.398164</td>\n",
              "      <td>4.451778</td>\n",
              "    </tr>\n",
              "    <tr>\n",
              "      <th>min</th>\n",
              "      <td>1.000000</td>\n",
              "      <td>0.000000</td>\n",
              "      <td>5.000000</td>\n",
              "      <td>0.000000</td>\n",
              "      <td>0.000000</td>\n",
              "      <td>0.000000</td>\n",
              "    </tr>\n",
              "    <tr>\n",
              "      <th>25%</th>\n",
              "      <td>12731.000000</td>\n",
              "      <td>11.000000</td>\n",
              "      <td>5.000000</td>\n",
              "      <td>225.070000</td>\n",
              "      <td>5.000000</td>\n",
              "      <td>1.000000</td>\n",
              "    </tr>\n",
              "    <tr>\n",
              "      <th>50%</th>\n",
              "      <td>25470.000000</td>\n",
              "      <td>15.000000</td>\n",
              "      <td>6.000000</td>\n",
              "      <td>738.199000</td>\n",
              "      <td>13.000000</td>\n",
              "      <td>3.000000</td>\n",
              "    </tr>\n",
              "    <tr>\n",
              "      <th>75%</th>\n",
              "      <td>37542.000000</td>\n",
              "      <td>18.000000</td>\n",
              "      <td>7.000000</td>\n",
              "      <td>1880.265000</td>\n",
              "      <td>31.000000</td>\n",
              "      <td>5.000000</td>\n",
              "    </tr>\n",
              "    <tr>\n",
              "      <th>max</th>\n",
              "      <td>50000.000000</td>\n",
              "      <td>23.000000</td>\n",
              "      <td>7.000000</td>\n",
              "      <td>21580.092000</td>\n",
              "      <td>200.000000</td>\n",
              "      <td>108.000000</td>\n",
              "    </tr>\n",
              "  </tbody>\n",
              "</table>\n",
              "</div>\n",
              "    <div class=\"colab-df-buttons\">\n",
              "\n",
              "  <div class=\"colab-df-container\">\n",
              "    <button class=\"colab-df-convert\" onclick=\"convertToInteractive('df-27e5c5cc-2617-476f-828d-08e5bba5e99f')\"\n",
              "            title=\"Convert this dataframe to an interactive table.\"\n",
              "            style=\"display:none;\">\n",
              "\n",
              "  <svg xmlns=\"http://www.w3.org/2000/svg\" height=\"24px\" viewBox=\"0 -960 960 960\">\n",
              "    <path d=\"M120-120v-720h720v720H120Zm60-500h600v-160H180v160Zm220 220h160v-160H400v160Zm0 220h160v-160H400v160ZM180-400h160v-160H180v160Zm440 0h160v-160H620v160ZM180-180h160v-160H180v160Zm440 0h160v-160H620v160Z\"/>\n",
              "  </svg>\n",
              "    </button>\n",
              "\n",
              "  <style>\n",
              "    .colab-df-container {\n",
              "      display:flex;\n",
              "      gap: 12px;\n",
              "    }\n",
              "\n",
              "    .colab-df-convert {\n",
              "      background-color: #E8F0FE;\n",
              "      border: none;\n",
              "      border-radius: 50%;\n",
              "      cursor: pointer;\n",
              "      display: none;\n",
              "      fill: #1967D2;\n",
              "      height: 32px;\n",
              "      padding: 0 0 0 0;\n",
              "      width: 32px;\n",
              "    }\n",
              "\n",
              "    .colab-df-convert:hover {\n",
              "      background-color: #E2EBFA;\n",
              "      box-shadow: 0px 1px 2px rgba(60, 64, 67, 0.3), 0px 1px 3px 1px rgba(60, 64, 67, 0.15);\n",
              "      fill: #174EA6;\n",
              "    }\n",
              "\n",
              "    .colab-df-buttons div {\n",
              "      margin-bottom: 4px;\n",
              "    }\n",
              "\n",
              "    [theme=dark] .colab-df-convert {\n",
              "      background-color: #3B4455;\n",
              "      fill: #D2E3FC;\n",
              "    }\n",
              "\n",
              "    [theme=dark] .colab-df-convert:hover {\n",
              "      background-color: #434B5C;\n",
              "      box-shadow: 0px 1px 3px 1px rgba(0, 0, 0, 0.15);\n",
              "      filter: drop-shadow(0px 1px 2px rgba(0, 0, 0, 0.3));\n",
              "      fill: #FFFFFF;\n",
              "    }\n",
              "  </style>\n",
              "\n",
              "    <script>\n",
              "      const buttonEl =\n",
              "        document.querySelector('#df-27e5c5cc-2617-476f-828d-08e5bba5e99f button.colab-df-convert');\n",
              "      buttonEl.style.display =\n",
              "        google.colab.kernel.accessAllowed ? 'block' : 'none';\n",
              "\n",
              "      async function convertToInteractive(key) {\n",
              "        const element = document.querySelector('#df-27e5c5cc-2617-476f-828d-08e5bba5e99f');\n",
              "        const dataTable =\n",
              "          await google.colab.kernel.invokeFunction('convertToInteractive',\n",
              "                                                    [key], {});\n",
              "        if (!dataTable) return;\n",
              "\n",
              "        const docLinkHtml = 'Like what you see? Visit the ' +\n",
              "          '<a target=\"_blank\" href=https://colab.research.google.com/notebooks/data_table.ipynb>data table notebook</a>'\n",
              "          + ' to learn more about interactive tables.';\n",
              "        element.innerHTML = '';\n",
              "        dataTable['output_type'] = 'display_data';\n",
              "        await google.colab.output.renderOutput(dataTable, element);\n",
              "        const docLink = document.createElement('div');\n",
              "        docLink.innerHTML = docLinkHtml;\n",
              "        element.appendChild(docLink);\n",
              "      }\n",
              "    </script>\n",
              "  </div>\n",
              "\n",
              "\n",
              "<div id=\"df-d755d3cc-03db-4e5b-85e4-9136f4cb267a\">\n",
              "  <button class=\"colab-df-quickchart\" onclick=\"quickchart('df-d755d3cc-03db-4e5b-85e4-9136f4cb267a')\"\n",
              "            title=\"Suggest charts\"\n",
              "            style=\"display:none;\">\n",
              "\n",
              "<svg xmlns=\"http://www.w3.org/2000/svg\" height=\"24px\"viewBox=\"0 0 24 24\"\n",
              "     width=\"24px\">\n",
              "    <g>\n",
              "        <path d=\"M19 3H5c-1.1 0-2 .9-2 2v14c0 1.1.9 2 2 2h14c1.1 0 2-.9 2-2V5c0-1.1-.9-2-2-2zM9 17H7v-7h2v7zm4 0h-2V7h2v10zm4 0h-2v-4h2v4z\"/>\n",
              "    </g>\n",
              "</svg>\n",
              "  </button>\n",
              "\n",
              "<style>\n",
              "  .colab-df-quickchart {\n",
              "      --bg-color: #E8F0FE;\n",
              "      --fill-color: #1967D2;\n",
              "      --hover-bg-color: #E2EBFA;\n",
              "      --hover-fill-color: #174EA6;\n",
              "      --disabled-fill-color: #AAA;\n",
              "      --disabled-bg-color: #DDD;\n",
              "  }\n",
              "\n",
              "  [theme=dark] .colab-df-quickchart {\n",
              "      --bg-color: #3B4455;\n",
              "      --fill-color: #D2E3FC;\n",
              "      --hover-bg-color: #434B5C;\n",
              "      --hover-fill-color: #FFFFFF;\n",
              "      --disabled-bg-color: #3B4455;\n",
              "      --disabled-fill-color: #666;\n",
              "  }\n",
              "\n",
              "  .colab-df-quickchart {\n",
              "    background-color: var(--bg-color);\n",
              "    border: none;\n",
              "    border-radius: 50%;\n",
              "    cursor: pointer;\n",
              "    display: none;\n",
              "    fill: var(--fill-color);\n",
              "    height: 32px;\n",
              "    padding: 0;\n",
              "    width: 32px;\n",
              "  }\n",
              "\n",
              "  .colab-df-quickchart:hover {\n",
              "    background-color: var(--hover-bg-color);\n",
              "    box-shadow: 0 1px 2px rgba(60, 64, 67, 0.3), 0 1px 3px 1px rgba(60, 64, 67, 0.15);\n",
              "    fill: var(--button-hover-fill-color);\n",
              "  }\n",
              "\n",
              "  .colab-df-quickchart-complete:disabled,\n",
              "  .colab-df-quickchart-complete:disabled:hover {\n",
              "    background-color: var(--disabled-bg-color);\n",
              "    fill: var(--disabled-fill-color);\n",
              "    box-shadow: none;\n",
              "  }\n",
              "\n",
              "  .colab-df-spinner {\n",
              "    border: 2px solid var(--fill-color);\n",
              "    border-color: transparent;\n",
              "    border-bottom-color: var(--fill-color);\n",
              "    animation:\n",
              "      spin 1s steps(1) infinite;\n",
              "  }\n",
              "\n",
              "  @keyframes spin {\n",
              "    0% {\n",
              "      border-color: transparent;\n",
              "      border-bottom-color: var(--fill-color);\n",
              "      border-left-color: var(--fill-color);\n",
              "    }\n",
              "    20% {\n",
              "      border-color: transparent;\n",
              "      border-left-color: var(--fill-color);\n",
              "      border-top-color: var(--fill-color);\n",
              "    }\n",
              "    30% {\n",
              "      border-color: transparent;\n",
              "      border-left-color: var(--fill-color);\n",
              "      border-top-color: var(--fill-color);\n",
              "      border-right-color: var(--fill-color);\n",
              "    }\n",
              "    40% {\n",
              "      border-color: transparent;\n",
              "      border-right-color: var(--fill-color);\n",
              "      border-top-color: var(--fill-color);\n",
              "    }\n",
              "    60% {\n",
              "      border-color: transparent;\n",
              "      border-right-color: var(--fill-color);\n",
              "    }\n",
              "    80% {\n",
              "      border-color: transparent;\n",
              "      border-right-color: var(--fill-color);\n",
              "      border-bottom-color: var(--fill-color);\n",
              "    }\n",
              "    90% {\n",
              "      border-color: transparent;\n",
              "      border-bottom-color: var(--fill-color);\n",
              "    }\n",
              "  }\n",
              "</style>\n",
              "\n",
              "  <script>\n",
              "    async function quickchart(key) {\n",
              "      const quickchartButtonEl =\n",
              "        document.querySelector('#' + key + ' button');\n",
              "      quickchartButtonEl.disabled = true;  // To prevent multiple clicks.\n",
              "      quickchartButtonEl.classList.add('colab-df-spinner');\n",
              "      try {\n",
              "        const charts = await google.colab.kernel.invokeFunction(\n",
              "            'suggestCharts', [key], {});\n",
              "      } catch (error) {\n",
              "        console.error('Error during call to suggestCharts:', error);\n",
              "      }\n",
              "      quickchartButtonEl.classList.remove('colab-df-spinner');\n",
              "      quickchartButtonEl.classList.add('colab-df-quickchart-complete');\n",
              "    }\n",
              "    (() => {\n",
              "      let quickchartButtonEl =\n",
              "        document.querySelector('#df-d755d3cc-03db-4e5b-85e4-9136f4cb267a button');\n",
              "      quickchartButtonEl.style.display =\n",
              "        google.colab.kernel.accessAllowed ? 'block' : 'none';\n",
              "    })();\n",
              "  </script>\n",
              "</div>\n",
              "\n",
              "    </div>\n",
              "  </div>\n"
            ],
            "application/vnd.google.colaboratory.intrinsic+json": {
              "type": "dataframe",
              "summary": "{\n  \"name\": \"Transact_Train\",\n  \"rows\": 8,\n  \"fields\": [\n    {\n      \"column\": \"sessionNo\",\n      \"properties\": {\n        \"dtype\": \"number\",\n        \"std\": 144145.23784443727,\n        \"min\": 1.0,\n        \"max\": 429013.0,\n        \"num_unique_values\": 8,\n        \"samples\": [\n          25274.631293224214,\n          25470.0,\n          429013.0\n        ],\n        \"semantic_type\": \"\",\n        \"description\": \"\"\n      }\n    },\n    {\n      \"column\": \"startHour\",\n      \"properties\": {\n        \"dtype\": \"number\",\n        \"std\": 151674.65207760333,\n        \"min\": 0.0,\n        \"max\": 429013.0,\n        \"num_unique_values\": 8,\n        \"samples\": [\n          14.617060555274549,\n          15.0,\n          429013.0\n        ],\n        \"semantic_type\": \"\",\n        \"description\": \"\"\n      }\n    },\n    {\n      \"column\": \"startWeekday\",\n      \"properties\": {\n        \"dtype\": \"number\",\n        \"std\": 151677.1463449775,\n        \"min\": 0.7909304222165832,\n        \"max\": 429013.0,\n        \"num_unique_values\": 6,\n        \"samples\": [\n          429013.0,\n          5.9248391074396345,\n          7.0\n        ],\n        \"semantic_type\": \"\",\n        \"description\": \"\"\n      }\n    },\n    {\n      \"column\": \"duration\",\n      \"properties\": {\n        \"dtype\": \"number\",\n        \"std\": 150415.7111170807,\n        \"min\": 0.0,\n        \"max\": 429013.0,\n        \"num_unique_values\": 8,\n        \"samples\": [\n          1573.9016404840881,\n          738.199,\n          429013.0\n        ],\n        \"semantic_type\": \"\",\n        \"description\": \"\"\n      }\n    },\n    {\n      \"column\": \"cCount\",\n      \"properties\": {\n        \"dtype\": \"number\",\n        \"std\": 151663.68364343807,\n        \"min\": 0.0,\n        \"max\": 429013.0,\n        \"num_unique_values\": 8,\n        \"samples\": [\n          24.140317426278457,\n          13.0,\n          429013.0\n        ],\n        \"semantic_type\": \"\",\n        \"description\": \"\"\n      }\n    },\n    {\n      \"column\": \"bCount\",\n      \"properties\": {\n        \"dtype\": \"number\",\n        \"std\": 151672.66212574238,\n        \"min\": 0.0,\n        \"max\": 429013.0,\n        \"num_unique_values\": 8,\n        \"samples\": [\n          4.135168398160428,\n          3.0,\n          429013.0\n        ],\n        \"semantic_type\": \"\",\n        \"description\": \"\"\n      }\n    }\n  ]\n}"
            }
          },
          "metadata": {},
          "execution_count": 133
        }
      ],
      "source": [
        "Transact_Train.describe()"
      ]
    },
    {
      "cell_type": "markdown",
      "metadata": {
        "id": "dpV7HwoReRO7"
      },
      "source": [
        "# **Menampilkan Isi Data Teratas Data Transact Class**"
      ]
    },
    {
      "cell_type": "code",
      "execution_count": 134,
      "metadata": {
        "colab": {
          "base_uri": "https://localhost:8080/",
          "height": 290
        },
        "id": "LEv-2A6YdIUY",
        "outputId": "d6c0c693-ac60-476a-c5bc-244718217ec8"
      },
      "outputs": [
        {
          "output_type": "execute_result",
          "data": {
            "text/plain": [
              "   sessionNo  startHour  startWeekday  duration  cCount  cMinPrice  cMaxPrice  \\\n",
              "0          1         18             7   136.833       3      39.99      39.99   \n",
              "1          1         18             7   189.984       3      39.99      39.99   \n",
              "2          1         18             7   342.894       6      16.99      39.99   \n",
              "3          1         18             7   411.051       8      16.99      39.99   \n",
              "4          1         18             7   460.049      10      16.99      39.99   \n",
              "\n",
              "   cSumPrice  bCount  bMinPrice  ...  onlineStatus          availability  \\\n",
              "0      79.98       1      39.99  ...             y  completely orderable   \n",
              "1      79.98       1      39.99  ...             y  completely orderable   \n",
              "2     113.96       2      16.99  ...             ?                     ?   \n",
              "3     149.94       3      16.99  ...             ?                     ?   \n",
              "4     189.92       4      16.99  ...             ?                     ?   \n",
              "\n",
              "  customerNo maxVal customerScore accountLifetime payments age address  \\\n",
              "0      25039   1300           489             188        5  49       1   \n",
              "1      25039   1300           489             188        5  49       1   \n",
              "2      25039   1300           489             188        5  49       1   \n",
              "3      25039   1300           489             188        5  49       1   \n",
              "4      25039   1300           489             188        5  49       1   \n",
              "\n",
              "  lastOrder  \n",
              "0        65  \n",
              "1        65  \n",
              "2        65  \n",
              "3        65  \n",
              "4        65  \n",
              "\n",
              "[5 rows x 23 columns]"
            ],
            "text/html": [
              "\n",
              "  <div id=\"df-8b75f069-0310-40cf-a8ba-698a26431eb3\" class=\"colab-df-container\">\n",
              "    <div>\n",
              "<style scoped>\n",
              "    .dataframe tbody tr th:only-of-type {\n",
              "        vertical-align: middle;\n",
              "    }\n",
              "\n",
              "    .dataframe tbody tr th {\n",
              "        vertical-align: top;\n",
              "    }\n",
              "\n",
              "    .dataframe thead th {\n",
              "        text-align: right;\n",
              "    }\n",
              "</style>\n",
              "<table border=\"1\" class=\"dataframe\">\n",
              "  <thead>\n",
              "    <tr style=\"text-align: right;\">\n",
              "      <th></th>\n",
              "      <th>sessionNo</th>\n",
              "      <th>startHour</th>\n",
              "      <th>startWeekday</th>\n",
              "      <th>duration</th>\n",
              "      <th>cCount</th>\n",
              "      <th>cMinPrice</th>\n",
              "      <th>cMaxPrice</th>\n",
              "      <th>cSumPrice</th>\n",
              "      <th>bCount</th>\n",
              "      <th>bMinPrice</th>\n",
              "      <th>...</th>\n",
              "      <th>onlineStatus</th>\n",
              "      <th>availability</th>\n",
              "      <th>customerNo</th>\n",
              "      <th>maxVal</th>\n",
              "      <th>customerScore</th>\n",
              "      <th>accountLifetime</th>\n",
              "      <th>payments</th>\n",
              "      <th>age</th>\n",
              "      <th>address</th>\n",
              "      <th>lastOrder</th>\n",
              "    </tr>\n",
              "  </thead>\n",
              "  <tbody>\n",
              "    <tr>\n",
              "      <th>0</th>\n",
              "      <td>1</td>\n",
              "      <td>18</td>\n",
              "      <td>7</td>\n",
              "      <td>136.833</td>\n",
              "      <td>3</td>\n",
              "      <td>39.99</td>\n",
              "      <td>39.99</td>\n",
              "      <td>79.98</td>\n",
              "      <td>1</td>\n",
              "      <td>39.99</td>\n",
              "      <td>...</td>\n",
              "      <td>y</td>\n",
              "      <td>completely orderable</td>\n",
              "      <td>25039</td>\n",
              "      <td>1300</td>\n",
              "      <td>489</td>\n",
              "      <td>188</td>\n",
              "      <td>5</td>\n",
              "      <td>49</td>\n",
              "      <td>1</td>\n",
              "      <td>65</td>\n",
              "    </tr>\n",
              "    <tr>\n",
              "      <th>1</th>\n",
              "      <td>1</td>\n",
              "      <td>18</td>\n",
              "      <td>7</td>\n",
              "      <td>189.984</td>\n",
              "      <td>3</td>\n",
              "      <td>39.99</td>\n",
              "      <td>39.99</td>\n",
              "      <td>79.98</td>\n",
              "      <td>1</td>\n",
              "      <td>39.99</td>\n",
              "      <td>...</td>\n",
              "      <td>y</td>\n",
              "      <td>completely orderable</td>\n",
              "      <td>25039</td>\n",
              "      <td>1300</td>\n",
              "      <td>489</td>\n",
              "      <td>188</td>\n",
              "      <td>5</td>\n",
              "      <td>49</td>\n",
              "      <td>1</td>\n",
              "      <td>65</td>\n",
              "    </tr>\n",
              "    <tr>\n",
              "      <th>2</th>\n",
              "      <td>1</td>\n",
              "      <td>18</td>\n",
              "      <td>7</td>\n",
              "      <td>342.894</td>\n",
              "      <td>6</td>\n",
              "      <td>16.99</td>\n",
              "      <td>39.99</td>\n",
              "      <td>113.96</td>\n",
              "      <td>2</td>\n",
              "      <td>16.99</td>\n",
              "      <td>...</td>\n",
              "      <td>?</td>\n",
              "      <td>?</td>\n",
              "      <td>25039</td>\n",
              "      <td>1300</td>\n",
              "      <td>489</td>\n",
              "      <td>188</td>\n",
              "      <td>5</td>\n",
              "      <td>49</td>\n",
              "      <td>1</td>\n",
              "      <td>65</td>\n",
              "    </tr>\n",
              "    <tr>\n",
              "      <th>3</th>\n",
              "      <td>1</td>\n",
              "      <td>18</td>\n",
              "      <td>7</td>\n",
              "      <td>411.051</td>\n",
              "      <td>8</td>\n",
              "      <td>16.99</td>\n",
              "      <td>39.99</td>\n",
              "      <td>149.94</td>\n",
              "      <td>3</td>\n",
              "      <td>16.99</td>\n",
              "      <td>...</td>\n",
              "      <td>?</td>\n",
              "      <td>?</td>\n",
              "      <td>25039</td>\n",
              "      <td>1300</td>\n",
              "      <td>489</td>\n",
              "      <td>188</td>\n",
              "      <td>5</td>\n",
              "      <td>49</td>\n",
              "      <td>1</td>\n",
              "      <td>65</td>\n",
              "    </tr>\n",
              "    <tr>\n",
              "      <th>4</th>\n",
              "      <td>1</td>\n",
              "      <td>18</td>\n",
              "      <td>7</td>\n",
              "      <td>460.049</td>\n",
              "      <td>10</td>\n",
              "      <td>16.99</td>\n",
              "      <td>39.99</td>\n",
              "      <td>189.92</td>\n",
              "      <td>4</td>\n",
              "      <td>16.99</td>\n",
              "      <td>...</td>\n",
              "      <td>?</td>\n",
              "      <td>?</td>\n",
              "      <td>25039</td>\n",
              "      <td>1300</td>\n",
              "      <td>489</td>\n",
              "      <td>188</td>\n",
              "      <td>5</td>\n",
              "      <td>49</td>\n",
              "      <td>1</td>\n",
              "      <td>65</td>\n",
              "    </tr>\n",
              "  </tbody>\n",
              "</table>\n",
              "<p>5 rows × 23 columns</p>\n",
              "</div>\n",
              "    <div class=\"colab-df-buttons\">\n",
              "\n",
              "  <div class=\"colab-df-container\">\n",
              "    <button class=\"colab-df-convert\" onclick=\"convertToInteractive('df-8b75f069-0310-40cf-a8ba-698a26431eb3')\"\n",
              "            title=\"Convert this dataframe to an interactive table.\"\n",
              "            style=\"display:none;\">\n",
              "\n",
              "  <svg xmlns=\"http://www.w3.org/2000/svg\" height=\"24px\" viewBox=\"0 -960 960 960\">\n",
              "    <path d=\"M120-120v-720h720v720H120Zm60-500h600v-160H180v160Zm220 220h160v-160H400v160Zm0 220h160v-160H400v160ZM180-400h160v-160H180v160Zm440 0h160v-160H620v160ZM180-180h160v-160H180v160Zm440 0h160v-160H620v160Z\"/>\n",
              "  </svg>\n",
              "    </button>\n",
              "\n",
              "  <style>\n",
              "    .colab-df-container {\n",
              "      display:flex;\n",
              "      gap: 12px;\n",
              "    }\n",
              "\n",
              "    .colab-df-convert {\n",
              "      background-color: #E8F0FE;\n",
              "      border: none;\n",
              "      border-radius: 50%;\n",
              "      cursor: pointer;\n",
              "      display: none;\n",
              "      fill: #1967D2;\n",
              "      height: 32px;\n",
              "      padding: 0 0 0 0;\n",
              "      width: 32px;\n",
              "    }\n",
              "\n",
              "    .colab-df-convert:hover {\n",
              "      background-color: #E2EBFA;\n",
              "      box-shadow: 0px 1px 2px rgba(60, 64, 67, 0.3), 0px 1px 3px 1px rgba(60, 64, 67, 0.15);\n",
              "      fill: #174EA6;\n",
              "    }\n",
              "\n",
              "    .colab-df-buttons div {\n",
              "      margin-bottom: 4px;\n",
              "    }\n",
              "\n",
              "    [theme=dark] .colab-df-convert {\n",
              "      background-color: #3B4455;\n",
              "      fill: #D2E3FC;\n",
              "    }\n",
              "\n",
              "    [theme=dark] .colab-df-convert:hover {\n",
              "      background-color: #434B5C;\n",
              "      box-shadow: 0px 1px 3px 1px rgba(0, 0, 0, 0.15);\n",
              "      filter: drop-shadow(0px 1px 2px rgba(0, 0, 0, 0.3));\n",
              "      fill: #FFFFFF;\n",
              "    }\n",
              "  </style>\n",
              "\n",
              "    <script>\n",
              "      const buttonEl =\n",
              "        document.querySelector('#df-8b75f069-0310-40cf-a8ba-698a26431eb3 button.colab-df-convert');\n",
              "      buttonEl.style.display =\n",
              "        google.colab.kernel.accessAllowed ? 'block' : 'none';\n",
              "\n",
              "      async function convertToInteractive(key) {\n",
              "        const element = document.querySelector('#df-8b75f069-0310-40cf-a8ba-698a26431eb3');\n",
              "        const dataTable =\n",
              "          await google.colab.kernel.invokeFunction('convertToInteractive',\n",
              "                                                    [key], {});\n",
              "        if (!dataTable) return;\n",
              "\n",
              "        const docLinkHtml = 'Like what you see? Visit the ' +\n",
              "          '<a target=\"_blank\" href=https://colab.research.google.com/notebooks/data_table.ipynb>data table notebook</a>'\n",
              "          + ' to learn more about interactive tables.';\n",
              "        element.innerHTML = '';\n",
              "        dataTable['output_type'] = 'display_data';\n",
              "        await google.colab.output.renderOutput(dataTable, element);\n",
              "        const docLink = document.createElement('div');\n",
              "        docLink.innerHTML = docLinkHtml;\n",
              "        element.appendChild(docLink);\n",
              "      }\n",
              "    </script>\n",
              "  </div>\n",
              "\n",
              "\n",
              "<div id=\"df-8fcd5b03-4d05-4058-9609-f485571c3b1c\">\n",
              "  <button class=\"colab-df-quickchart\" onclick=\"quickchart('df-8fcd5b03-4d05-4058-9609-f485571c3b1c')\"\n",
              "            title=\"Suggest charts\"\n",
              "            style=\"display:none;\">\n",
              "\n",
              "<svg xmlns=\"http://www.w3.org/2000/svg\" height=\"24px\"viewBox=\"0 0 24 24\"\n",
              "     width=\"24px\">\n",
              "    <g>\n",
              "        <path d=\"M19 3H5c-1.1 0-2 .9-2 2v14c0 1.1.9 2 2 2h14c1.1 0 2-.9 2-2V5c0-1.1-.9-2-2-2zM9 17H7v-7h2v7zm4 0h-2V7h2v10zm4 0h-2v-4h2v4z\"/>\n",
              "    </g>\n",
              "</svg>\n",
              "  </button>\n",
              "\n",
              "<style>\n",
              "  .colab-df-quickchart {\n",
              "      --bg-color: #E8F0FE;\n",
              "      --fill-color: #1967D2;\n",
              "      --hover-bg-color: #E2EBFA;\n",
              "      --hover-fill-color: #174EA6;\n",
              "      --disabled-fill-color: #AAA;\n",
              "      --disabled-bg-color: #DDD;\n",
              "  }\n",
              "\n",
              "  [theme=dark] .colab-df-quickchart {\n",
              "      --bg-color: #3B4455;\n",
              "      --fill-color: #D2E3FC;\n",
              "      --hover-bg-color: #434B5C;\n",
              "      --hover-fill-color: #FFFFFF;\n",
              "      --disabled-bg-color: #3B4455;\n",
              "      --disabled-fill-color: #666;\n",
              "  }\n",
              "\n",
              "  .colab-df-quickchart {\n",
              "    background-color: var(--bg-color);\n",
              "    border: none;\n",
              "    border-radius: 50%;\n",
              "    cursor: pointer;\n",
              "    display: none;\n",
              "    fill: var(--fill-color);\n",
              "    height: 32px;\n",
              "    padding: 0;\n",
              "    width: 32px;\n",
              "  }\n",
              "\n",
              "  .colab-df-quickchart:hover {\n",
              "    background-color: var(--hover-bg-color);\n",
              "    box-shadow: 0 1px 2px rgba(60, 64, 67, 0.3), 0 1px 3px 1px rgba(60, 64, 67, 0.15);\n",
              "    fill: var(--button-hover-fill-color);\n",
              "  }\n",
              "\n",
              "  .colab-df-quickchart-complete:disabled,\n",
              "  .colab-df-quickchart-complete:disabled:hover {\n",
              "    background-color: var(--disabled-bg-color);\n",
              "    fill: var(--disabled-fill-color);\n",
              "    box-shadow: none;\n",
              "  }\n",
              "\n",
              "  .colab-df-spinner {\n",
              "    border: 2px solid var(--fill-color);\n",
              "    border-color: transparent;\n",
              "    border-bottom-color: var(--fill-color);\n",
              "    animation:\n",
              "      spin 1s steps(1) infinite;\n",
              "  }\n",
              "\n",
              "  @keyframes spin {\n",
              "    0% {\n",
              "      border-color: transparent;\n",
              "      border-bottom-color: var(--fill-color);\n",
              "      border-left-color: var(--fill-color);\n",
              "    }\n",
              "    20% {\n",
              "      border-color: transparent;\n",
              "      border-left-color: var(--fill-color);\n",
              "      border-top-color: var(--fill-color);\n",
              "    }\n",
              "    30% {\n",
              "      border-color: transparent;\n",
              "      border-left-color: var(--fill-color);\n",
              "      border-top-color: var(--fill-color);\n",
              "      border-right-color: var(--fill-color);\n",
              "    }\n",
              "    40% {\n",
              "      border-color: transparent;\n",
              "      border-right-color: var(--fill-color);\n",
              "      border-top-color: var(--fill-color);\n",
              "    }\n",
              "    60% {\n",
              "      border-color: transparent;\n",
              "      border-right-color: var(--fill-color);\n",
              "    }\n",
              "    80% {\n",
              "      border-color: transparent;\n",
              "      border-right-color: var(--fill-color);\n",
              "      border-bottom-color: var(--fill-color);\n",
              "    }\n",
              "    90% {\n",
              "      border-color: transparent;\n",
              "      border-bottom-color: var(--fill-color);\n",
              "    }\n",
              "  }\n",
              "</style>\n",
              "\n",
              "  <script>\n",
              "    async function quickchart(key) {\n",
              "      const quickchartButtonEl =\n",
              "        document.querySelector('#' + key + ' button');\n",
              "      quickchartButtonEl.disabled = true;  // To prevent multiple clicks.\n",
              "      quickchartButtonEl.classList.add('colab-df-spinner');\n",
              "      try {\n",
              "        const charts = await google.colab.kernel.invokeFunction(\n",
              "            'suggestCharts', [key], {});\n",
              "      } catch (error) {\n",
              "        console.error('Error during call to suggestCharts:', error);\n",
              "      }\n",
              "      quickchartButtonEl.classList.remove('colab-df-spinner');\n",
              "      quickchartButtonEl.classList.add('colab-df-quickchart-complete');\n",
              "    }\n",
              "    (() => {\n",
              "      let quickchartButtonEl =\n",
              "        document.querySelector('#df-8fcd5b03-4d05-4058-9609-f485571c3b1c button');\n",
              "      quickchartButtonEl.style.display =\n",
              "        google.colab.kernel.accessAllowed ? 'block' : 'none';\n",
              "    })();\n",
              "  </script>\n",
              "</div>\n",
              "\n",
              "    </div>\n",
              "  </div>\n"
            ],
            "application/vnd.google.colaboratory.intrinsic+json": {
              "type": "dataframe",
              "variable_name": "Transact_Class"
            }
          },
          "metadata": {},
          "execution_count": 134
        }
      ],
      "source": [
        "Transact_Class.head()"
      ]
    },
    {
      "cell_type": "markdown",
      "metadata": {
        "id": "CIviq4xteVwi"
      },
      "source": [
        "# **Struktur dan Informasi Data Transact Class**"
      ]
    },
    {
      "cell_type": "code",
      "execution_count": 135,
      "metadata": {
        "colab": {
          "base_uri": "https://localhost:8080/"
        },
        "id": "SA8CjlAgdPes",
        "outputId": "c84b1e2b-4486-413d-9bfb-68f509dc06f6"
      },
      "outputs": [
        {
          "output_type": "stream",
          "name": "stdout",
          "text": [
            "<class 'pandas.core.frame.DataFrame'>\n",
            "RangeIndex: 45068 entries, 0 to 45067\n",
            "Data columns (total 23 columns):\n",
            " #   Column           Non-Null Count  Dtype  \n",
            "---  ------           --------------  -----  \n",
            " 0   sessionNo        45068 non-null  int64  \n",
            " 1   startHour        45068 non-null  int64  \n",
            " 2   startWeekday     45068 non-null  int64  \n",
            " 3   duration         45068 non-null  float64\n",
            " 4   cCount           45068 non-null  int64  \n",
            " 5   cMinPrice        44742 non-null  float64\n",
            " 6   cMaxPrice        44742 non-null  float64\n",
            " 7   cSumPrice        44742 non-null  float64\n",
            " 8   bCount           45068 non-null  int64  \n",
            " 9   bMinPrice        44479 non-null  float64\n",
            " 10  bMaxPrice        44479 non-null  float64\n",
            " 11  bSumPrice        44479 non-null  float64\n",
            " 12  bStep            45068 non-null  object \n",
            " 13  onlineStatus     45068 non-null  object \n",
            " 14  availability     45068 non-null  object \n",
            " 15  customerNo       45068 non-null  object \n",
            " 16  maxVal           45068 non-null  object \n",
            " 17  customerScore    45068 non-null  object \n",
            " 18  accountLifetime  45068 non-null  object \n",
            " 19  payments         45068 non-null  object \n",
            " 20  age              45068 non-null  object \n",
            " 21  address          45068 non-null  object \n",
            " 22  lastOrder        45068 non-null  object \n",
            "dtypes: float64(7), int64(5), object(11)\n",
            "memory usage: 7.9+ MB\n"
          ]
        }
      ],
      "source": [
        "Transact_Class.info()"
      ]
    },
    {
      "cell_type": "markdown",
      "metadata": {
        "id": "7sFNLkZPeaMB"
      },
      "source": [
        "# **Statistik Deskriptif Dataset Transact Class**"
      ]
    },
    {
      "cell_type": "code",
      "execution_count": 136,
      "metadata": {
        "colab": {
          "base_uri": "https://localhost:8080/",
          "height": 300
        },
        "id": "AD5YPVOSdSBf",
        "outputId": "3ab646e3-8f6e-4d1f-ba1d-8df0443a29ac"
      },
      "outputs": [
        {
          "output_type": "execute_result",
          "data": {
            "text/plain": [
              "          sessionNo     startHour  startWeekday      duration        cCount  \\\n",
              "count  45068.000000  45068.000000  45068.000000  45068.000000  45068.000000   \n",
              "mean    2385.701185     18.589509      6.458418   1645.291183     27.316810   \n",
              "std     1426.206838      5.543531      1.719373   2279.003964     32.549188   \n",
              "min        1.000000      0.000000      1.000000      0.000000      0.000000   \n",
              "25%     1166.000000     19.000000      7.000000    259.884500      6.000000   \n",
              "50%     2331.000000     20.000000      7.000000    864.808000     15.000000   \n",
              "75%     3600.000000     21.000000      7.000000   2148.555000     36.000000   \n",
              "max     5111.000000     23.000000      7.000000  21320.113000    200.000000   \n",
              "\n",
              "          cMinPrice     cMaxPrice      cSumPrice        bCount     bMinPrice  \\\n",
              "count  44742.000000  44742.000000   44742.000000  45068.000000  44479.000000   \n",
              "mean      53.299304    149.135132    1240.985675      4.366668     65.935684   \n",
              "std      146.774665    272.250373    3523.665302      4.333860    172.340996   \n",
              "min        0.000000      0.000000       0.000000      0.000000      0.000000   \n",
              "25%        5.000000     29.990000     154.370000      1.000000      7.990000   \n",
              "50%        9.990000     49.990000     445.540000      3.000000     12.990000   \n",
              "75%       24.990000     99.990000    1164.570000      6.000000     29.990000   \n",
              "max     1999.990000   4799.000000  117310.700000     43.000000   1999.990000   \n",
              "\n",
              "          bMaxPrice     bSumPrice  \n",
              "count  44479.000000  44479.000000  \n",
              "mean     105.750478    209.595122  \n",
              "std      204.394800    414.707600  \n",
              "min        0.000000      0.000000  \n",
              "25%       19.990000     39.990000  \n",
              "50%       34.990000     89.970000  \n",
              "75%       69.990000    209.850000  \n",
              "max     2299.990000   8948.960000  "
            ],
            "text/html": [
              "\n",
              "  <div id=\"df-ccab01ab-ab8b-45ad-954f-e0a3010ff843\" class=\"colab-df-container\">\n",
              "    <div>\n",
              "<style scoped>\n",
              "    .dataframe tbody tr th:only-of-type {\n",
              "        vertical-align: middle;\n",
              "    }\n",
              "\n",
              "    .dataframe tbody tr th {\n",
              "        vertical-align: top;\n",
              "    }\n",
              "\n",
              "    .dataframe thead th {\n",
              "        text-align: right;\n",
              "    }\n",
              "</style>\n",
              "<table border=\"1\" class=\"dataframe\">\n",
              "  <thead>\n",
              "    <tr style=\"text-align: right;\">\n",
              "      <th></th>\n",
              "      <th>sessionNo</th>\n",
              "      <th>startHour</th>\n",
              "      <th>startWeekday</th>\n",
              "      <th>duration</th>\n",
              "      <th>cCount</th>\n",
              "      <th>cMinPrice</th>\n",
              "      <th>cMaxPrice</th>\n",
              "      <th>cSumPrice</th>\n",
              "      <th>bCount</th>\n",
              "      <th>bMinPrice</th>\n",
              "      <th>bMaxPrice</th>\n",
              "      <th>bSumPrice</th>\n",
              "    </tr>\n",
              "  </thead>\n",
              "  <tbody>\n",
              "    <tr>\n",
              "      <th>count</th>\n",
              "      <td>45068.000000</td>\n",
              "      <td>45068.000000</td>\n",
              "      <td>45068.000000</td>\n",
              "      <td>45068.000000</td>\n",
              "      <td>45068.000000</td>\n",
              "      <td>44742.000000</td>\n",
              "      <td>44742.000000</td>\n",
              "      <td>44742.000000</td>\n",
              "      <td>45068.000000</td>\n",
              "      <td>44479.000000</td>\n",
              "      <td>44479.000000</td>\n",
              "      <td>44479.000000</td>\n",
              "    </tr>\n",
              "    <tr>\n",
              "      <th>mean</th>\n",
              "      <td>2385.701185</td>\n",
              "      <td>18.589509</td>\n",
              "      <td>6.458418</td>\n",
              "      <td>1645.291183</td>\n",
              "      <td>27.316810</td>\n",
              "      <td>53.299304</td>\n",
              "      <td>149.135132</td>\n",
              "      <td>1240.985675</td>\n",
              "      <td>4.366668</td>\n",
              "      <td>65.935684</td>\n",
              "      <td>105.750478</td>\n",
              "      <td>209.595122</td>\n",
              "    </tr>\n",
              "    <tr>\n",
              "      <th>std</th>\n",
              "      <td>1426.206838</td>\n",
              "      <td>5.543531</td>\n",
              "      <td>1.719373</td>\n",
              "      <td>2279.003964</td>\n",
              "      <td>32.549188</td>\n",
              "      <td>146.774665</td>\n",
              "      <td>272.250373</td>\n",
              "      <td>3523.665302</td>\n",
              "      <td>4.333860</td>\n",
              "      <td>172.340996</td>\n",
              "      <td>204.394800</td>\n",
              "      <td>414.707600</td>\n",
              "    </tr>\n",
              "    <tr>\n",
              "      <th>min</th>\n",
              "      <td>1.000000</td>\n",
              "      <td>0.000000</td>\n",
              "      <td>1.000000</td>\n",
              "      <td>0.000000</td>\n",
              "      <td>0.000000</td>\n",
              "      <td>0.000000</td>\n",
              "      <td>0.000000</td>\n",
              "      <td>0.000000</td>\n",
              "      <td>0.000000</td>\n",
              "      <td>0.000000</td>\n",
              "      <td>0.000000</td>\n",
              "      <td>0.000000</td>\n",
              "    </tr>\n",
              "    <tr>\n",
              "      <th>25%</th>\n",
              "      <td>1166.000000</td>\n",
              "      <td>19.000000</td>\n",
              "      <td>7.000000</td>\n",
              "      <td>259.884500</td>\n",
              "      <td>6.000000</td>\n",
              "      <td>5.000000</td>\n",
              "      <td>29.990000</td>\n",
              "      <td>154.370000</td>\n",
              "      <td>1.000000</td>\n",
              "      <td>7.990000</td>\n",
              "      <td>19.990000</td>\n",
              "      <td>39.990000</td>\n",
              "    </tr>\n",
              "    <tr>\n",
              "      <th>50%</th>\n",
              "      <td>2331.000000</td>\n",
              "      <td>20.000000</td>\n",
              "      <td>7.000000</td>\n",
              "      <td>864.808000</td>\n",
              "      <td>15.000000</td>\n",
              "      <td>9.990000</td>\n",
              "      <td>49.990000</td>\n",
              "      <td>445.540000</td>\n",
              "      <td>3.000000</td>\n",
              "      <td>12.990000</td>\n",
              "      <td>34.990000</td>\n",
              "      <td>89.970000</td>\n",
              "    </tr>\n",
              "    <tr>\n",
              "      <th>75%</th>\n",
              "      <td>3600.000000</td>\n",
              "      <td>21.000000</td>\n",
              "      <td>7.000000</td>\n",
              "      <td>2148.555000</td>\n",
              "      <td>36.000000</td>\n",
              "      <td>24.990000</td>\n",
              "      <td>99.990000</td>\n",
              "      <td>1164.570000</td>\n",
              "      <td>6.000000</td>\n",
              "      <td>29.990000</td>\n",
              "      <td>69.990000</td>\n",
              "      <td>209.850000</td>\n",
              "    </tr>\n",
              "    <tr>\n",
              "      <th>max</th>\n",
              "      <td>5111.000000</td>\n",
              "      <td>23.000000</td>\n",
              "      <td>7.000000</td>\n",
              "      <td>21320.113000</td>\n",
              "      <td>200.000000</td>\n",
              "      <td>1999.990000</td>\n",
              "      <td>4799.000000</td>\n",
              "      <td>117310.700000</td>\n",
              "      <td>43.000000</td>\n",
              "      <td>1999.990000</td>\n",
              "      <td>2299.990000</td>\n",
              "      <td>8948.960000</td>\n",
              "    </tr>\n",
              "  </tbody>\n",
              "</table>\n",
              "</div>\n",
              "    <div class=\"colab-df-buttons\">\n",
              "\n",
              "  <div class=\"colab-df-container\">\n",
              "    <button class=\"colab-df-convert\" onclick=\"convertToInteractive('df-ccab01ab-ab8b-45ad-954f-e0a3010ff843')\"\n",
              "            title=\"Convert this dataframe to an interactive table.\"\n",
              "            style=\"display:none;\">\n",
              "\n",
              "  <svg xmlns=\"http://www.w3.org/2000/svg\" height=\"24px\" viewBox=\"0 -960 960 960\">\n",
              "    <path d=\"M120-120v-720h720v720H120Zm60-500h600v-160H180v160Zm220 220h160v-160H400v160Zm0 220h160v-160H400v160ZM180-400h160v-160H180v160Zm440 0h160v-160H620v160ZM180-180h160v-160H180v160Zm440 0h160v-160H620v160Z\"/>\n",
              "  </svg>\n",
              "    </button>\n",
              "\n",
              "  <style>\n",
              "    .colab-df-container {\n",
              "      display:flex;\n",
              "      gap: 12px;\n",
              "    }\n",
              "\n",
              "    .colab-df-convert {\n",
              "      background-color: #E8F0FE;\n",
              "      border: none;\n",
              "      border-radius: 50%;\n",
              "      cursor: pointer;\n",
              "      display: none;\n",
              "      fill: #1967D2;\n",
              "      height: 32px;\n",
              "      padding: 0 0 0 0;\n",
              "      width: 32px;\n",
              "    }\n",
              "\n",
              "    .colab-df-convert:hover {\n",
              "      background-color: #E2EBFA;\n",
              "      box-shadow: 0px 1px 2px rgba(60, 64, 67, 0.3), 0px 1px 3px 1px rgba(60, 64, 67, 0.15);\n",
              "      fill: #174EA6;\n",
              "    }\n",
              "\n",
              "    .colab-df-buttons div {\n",
              "      margin-bottom: 4px;\n",
              "    }\n",
              "\n",
              "    [theme=dark] .colab-df-convert {\n",
              "      background-color: #3B4455;\n",
              "      fill: #D2E3FC;\n",
              "    }\n",
              "\n",
              "    [theme=dark] .colab-df-convert:hover {\n",
              "      background-color: #434B5C;\n",
              "      box-shadow: 0px 1px 3px 1px rgba(0, 0, 0, 0.15);\n",
              "      filter: drop-shadow(0px 1px 2px rgba(0, 0, 0, 0.3));\n",
              "      fill: #FFFFFF;\n",
              "    }\n",
              "  </style>\n",
              "\n",
              "    <script>\n",
              "      const buttonEl =\n",
              "        document.querySelector('#df-ccab01ab-ab8b-45ad-954f-e0a3010ff843 button.colab-df-convert');\n",
              "      buttonEl.style.display =\n",
              "        google.colab.kernel.accessAllowed ? 'block' : 'none';\n",
              "\n",
              "      async function convertToInteractive(key) {\n",
              "        const element = document.querySelector('#df-ccab01ab-ab8b-45ad-954f-e0a3010ff843');\n",
              "        const dataTable =\n",
              "          await google.colab.kernel.invokeFunction('convertToInteractive',\n",
              "                                                    [key], {});\n",
              "        if (!dataTable) return;\n",
              "\n",
              "        const docLinkHtml = 'Like what you see? Visit the ' +\n",
              "          '<a target=\"_blank\" href=https://colab.research.google.com/notebooks/data_table.ipynb>data table notebook</a>'\n",
              "          + ' to learn more about interactive tables.';\n",
              "        element.innerHTML = '';\n",
              "        dataTable['output_type'] = 'display_data';\n",
              "        await google.colab.output.renderOutput(dataTable, element);\n",
              "        const docLink = document.createElement('div');\n",
              "        docLink.innerHTML = docLinkHtml;\n",
              "        element.appendChild(docLink);\n",
              "      }\n",
              "    </script>\n",
              "  </div>\n",
              "\n",
              "\n",
              "<div id=\"df-b5a1e9de-91f3-4d62-add1-bffc9c18000c\">\n",
              "  <button class=\"colab-df-quickchart\" onclick=\"quickchart('df-b5a1e9de-91f3-4d62-add1-bffc9c18000c')\"\n",
              "            title=\"Suggest charts\"\n",
              "            style=\"display:none;\">\n",
              "\n",
              "<svg xmlns=\"http://www.w3.org/2000/svg\" height=\"24px\"viewBox=\"0 0 24 24\"\n",
              "     width=\"24px\">\n",
              "    <g>\n",
              "        <path d=\"M19 3H5c-1.1 0-2 .9-2 2v14c0 1.1.9 2 2 2h14c1.1 0 2-.9 2-2V5c0-1.1-.9-2-2-2zM9 17H7v-7h2v7zm4 0h-2V7h2v10zm4 0h-2v-4h2v4z\"/>\n",
              "    </g>\n",
              "</svg>\n",
              "  </button>\n",
              "\n",
              "<style>\n",
              "  .colab-df-quickchart {\n",
              "      --bg-color: #E8F0FE;\n",
              "      --fill-color: #1967D2;\n",
              "      --hover-bg-color: #E2EBFA;\n",
              "      --hover-fill-color: #174EA6;\n",
              "      --disabled-fill-color: #AAA;\n",
              "      --disabled-bg-color: #DDD;\n",
              "  }\n",
              "\n",
              "  [theme=dark] .colab-df-quickchart {\n",
              "      --bg-color: #3B4455;\n",
              "      --fill-color: #D2E3FC;\n",
              "      --hover-bg-color: #434B5C;\n",
              "      --hover-fill-color: #FFFFFF;\n",
              "      --disabled-bg-color: #3B4455;\n",
              "      --disabled-fill-color: #666;\n",
              "  }\n",
              "\n",
              "  .colab-df-quickchart {\n",
              "    background-color: var(--bg-color);\n",
              "    border: none;\n",
              "    border-radius: 50%;\n",
              "    cursor: pointer;\n",
              "    display: none;\n",
              "    fill: var(--fill-color);\n",
              "    height: 32px;\n",
              "    padding: 0;\n",
              "    width: 32px;\n",
              "  }\n",
              "\n",
              "  .colab-df-quickchart:hover {\n",
              "    background-color: var(--hover-bg-color);\n",
              "    box-shadow: 0 1px 2px rgba(60, 64, 67, 0.3), 0 1px 3px 1px rgba(60, 64, 67, 0.15);\n",
              "    fill: var(--button-hover-fill-color);\n",
              "  }\n",
              "\n",
              "  .colab-df-quickchart-complete:disabled,\n",
              "  .colab-df-quickchart-complete:disabled:hover {\n",
              "    background-color: var(--disabled-bg-color);\n",
              "    fill: var(--disabled-fill-color);\n",
              "    box-shadow: none;\n",
              "  }\n",
              "\n",
              "  .colab-df-spinner {\n",
              "    border: 2px solid var(--fill-color);\n",
              "    border-color: transparent;\n",
              "    border-bottom-color: var(--fill-color);\n",
              "    animation:\n",
              "      spin 1s steps(1) infinite;\n",
              "  }\n",
              "\n",
              "  @keyframes spin {\n",
              "    0% {\n",
              "      border-color: transparent;\n",
              "      border-bottom-color: var(--fill-color);\n",
              "      border-left-color: var(--fill-color);\n",
              "    }\n",
              "    20% {\n",
              "      border-color: transparent;\n",
              "      border-left-color: var(--fill-color);\n",
              "      border-top-color: var(--fill-color);\n",
              "    }\n",
              "    30% {\n",
              "      border-color: transparent;\n",
              "      border-left-color: var(--fill-color);\n",
              "      border-top-color: var(--fill-color);\n",
              "      border-right-color: var(--fill-color);\n",
              "    }\n",
              "    40% {\n",
              "      border-color: transparent;\n",
              "      border-right-color: var(--fill-color);\n",
              "      border-top-color: var(--fill-color);\n",
              "    }\n",
              "    60% {\n",
              "      border-color: transparent;\n",
              "      border-right-color: var(--fill-color);\n",
              "    }\n",
              "    80% {\n",
              "      border-color: transparent;\n",
              "      border-right-color: var(--fill-color);\n",
              "      border-bottom-color: var(--fill-color);\n",
              "    }\n",
              "    90% {\n",
              "      border-color: transparent;\n",
              "      border-bottom-color: var(--fill-color);\n",
              "    }\n",
              "  }\n",
              "</style>\n",
              "\n",
              "  <script>\n",
              "    async function quickchart(key) {\n",
              "      const quickchartButtonEl =\n",
              "        document.querySelector('#' + key + ' button');\n",
              "      quickchartButtonEl.disabled = true;  // To prevent multiple clicks.\n",
              "      quickchartButtonEl.classList.add('colab-df-spinner');\n",
              "      try {\n",
              "        const charts = await google.colab.kernel.invokeFunction(\n",
              "            'suggestCharts', [key], {});\n",
              "      } catch (error) {\n",
              "        console.error('Error during call to suggestCharts:', error);\n",
              "      }\n",
              "      quickchartButtonEl.classList.remove('colab-df-spinner');\n",
              "      quickchartButtonEl.classList.add('colab-df-quickchart-complete');\n",
              "    }\n",
              "    (() => {\n",
              "      let quickchartButtonEl =\n",
              "        document.querySelector('#df-b5a1e9de-91f3-4d62-add1-bffc9c18000c button');\n",
              "      quickchartButtonEl.style.display =\n",
              "        google.colab.kernel.accessAllowed ? 'block' : 'none';\n",
              "    })();\n",
              "  </script>\n",
              "</div>\n",
              "\n",
              "    </div>\n",
              "  </div>\n"
            ],
            "application/vnd.google.colaboratory.intrinsic+json": {
              "type": "dataframe",
              "summary": "{\n  \"name\": \"Transact_Class\",\n  \"rows\": 8,\n  \"fields\": [\n    {\n      \"column\": \"sessionNo\",\n      \"properties\": {\n        \"dtype\": \"number\",\n        \"std\": 15204.528759842407,\n        \"min\": 1.0,\n        \"max\": 45068.0,\n        \"num_unique_values\": 8,\n        \"samples\": [\n          2385.701184876187,\n          2331.0,\n          45068.0\n        ],\n        \"semantic_type\": \"\",\n        \"description\": \"\"\n      }\n    },\n    {\n      \"column\": \"startHour\",\n      \"properties\": {\n        \"dtype\": \"number\",\n        \"std\": 15928.535268748343,\n        \"min\": 0.0,\n        \"max\": 45068.0,\n        \"num_unique_values\": 8,\n        \"samples\": [\n          18.589509186118754,\n          20.0,\n          45068.0\n        ],\n        \"semantic_type\": \"\",\n        \"description\": \"\"\n      }\n    },\n    {\n      \"column\": \"startWeekday\",\n      \"properties\": {\n        \"dtype\": \"number\",\n        \"std\": 15932.066643429207,\n        \"min\": 1.0,\n        \"max\": 45068.0,\n        \"num_unique_values\": 5,\n        \"samples\": [\n          6.458418389988462,\n          7.0,\n          1.7193733204193664\n        ],\n        \"semantic_type\": \"\",\n        \"description\": \"\"\n      }\n    },\n    {\n      \"column\": \"duration\",\n      \"properties\": {\n        \"dtype\": \"number\",\n        \"std\": 16134.029327046006,\n        \"min\": 0.0,\n        \"max\": 45068.0,\n        \"num_unique_values\": 8,\n        \"samples\": [\n          1645.291182568563,\n          864.808,\n          45068.0\n        ],\n        \"semantic_type\": \"\",\n        \"description\": \"\"\n      }\n    },\n    {\n      \"column\": \"cCount\",\n      \"properties\": {\n        \"dtype\": \"number\",\n        \"std\": 15918.070274961008,\n        \"min\": 0.0,\n        \"max\": 45068.0,\n        \"num_unique_values\": 8,\n        \"samples\": [\n          27.316810153545752,\n          15.0,\n          45068.0\n        ],\n        \"semantic_type\": \"\",\n        \"description\": \"\"\n      }\n    },\n    {\n      \"column\": \"cMinPrice\",\n      \"properties\": {\n        \"dtype\": \"number\",\n        \"std\": 15720.585230747123,\n        \"min\": 0.0,\n        \"max\": 44742.0,\n        \"num_unique_values\": 8,\n        \"samples\": [\n          53.29930400965536,\n          9.99,\n          44742.0\n        ],\n        \"semantic_type\": \"\",\n        \"description\": \"\"\n      }\n    },\n    {\n      \"column\": \"cMaxPrice\",\n      \"properties\": {\n        \"dtype\": \"number\",\n        \"std\": 15632.862574956724,\n        \"min\": 0.0,\n        \"max\": 44742.0,\n        \"num_unique_values\": 8,\n        \"samples\": [\n          149.13513186714943,\n          49.99,\n          44742.0\n        ],\n        \"semantic_type\": \"\",\n        \"description\": \"\"\n      }\n    },\n    {\n      \"column\": \"cSumPrice\",\n      \"properties\": {\n        \"dtype\": \"number\",\n        \"std\": 41793.20263155658,\n        \"min\": 0.0,\n        \"max\": 117310.7,\n        \"num_unique_values\": 8,\n        \"samples\": [\n          1240.985675204506,\n          445.54,\n          44742.0\n        ],\n        \"semantic_type\": \"\",\n        \"description\": \"\"\n      }\n    },\n    {\n      \"column\": \"bCount\",\n      \"properties\": {\n        \"dtype\": \"number\",\n        \"std\": 15930.834087798366,\n        \"min\": 0.0,\n        \"max\": 45068.0,\n        \"num_unique_values\": 8,\n        \"samples\": [\n          4.3666681459128425,\n          3.0,\n          45068.0\n        ],\n        \"semantic_type\": \"\",\n        \"description\": \"\"\n      }\n    },\n    {\n      \"column\": \"bMinPrice\",\n      \"properties\": {\n        \"dtype\": \"number\",\n        \"std\": 15625.108395695754,\n        \"min\": 0.0,\n        \"max\": 44479.0,\n        \"num_unique_values\": 8,\n        \"samples\": [\n          65.93568403066615,\n          12.99,\n          44479.0\n        ],\n        \"semantic_type\": \"\",\n        \"description\": \"\"\n      }\n    },\n    {\n      \"column\": \"bMaxPrice\",\n      \"properties\": {\n        \"dtype\": \"number\",\n        \"std\": 15607.161409103177,\n        \"min\": 0.0,\n        \"max\": 44479.0,\n        \"num_unique_values\": 8,\n        \"samples\": [\n          105.750478203197,\n          34.99,\n          44479.0\n        ],\n        \"semantic_type\": \"\",\n        \"description\": \"\"\n      }\n    },\n    {\n      \"column\": \"bSumPrice\",\n      \"properties\": {\n        \"dtype\": \"number\",\n        \"std\": 15533.019081638224,\n        \"min\": 0.0,\n        \"max\": 44479.0,\n        \"num_unique_values\": 8,\n        \"samples\": [\n          209.59512219249532,\n          89.97,\n          44479.0\n        ],\n        \"semantic_type\": \"\",\n        \"description\": \"\"\n      }\n    }\n  ]\n}"
            }
          },
          "metadata": {},
          "execution_count": 136
        }
      ],
      "source": [
        "Transact_Class.describe()"
      ]
    },
    {
      "cell_type": "markdown",
      "metadata": {
        "id": "hLMP4dlE6tzm"
      },
      "source": [
        "# **Ukuran Dataset dan Tipe Data**"
      ]
    },
    {
      "cell_type": "code",
      "execution_count": 137,
      "metadata": {
        "colab": {
          "base_uri": "https://localhost:8080/"
        },
        "id": "TuTGaYxL6TQZ",
        "outputId": "eff70e87-0f20-4c08-ab9f-ca0e5774a337"
      },
      "outputs": [
        {
          "output_type": "stream",
          "name": "stdout",
          "text": [
            "Ukuran dataset: (429013, 24)\n",
            "\n",
            "Tipe data setiap kolom:\n",
            "sessionNo            int64\n",
            "startHour            int64\n",
            "startWeekday         int64\n",
            "duration           float64\n",
            "cCount               int64\n",
            "cMinPrice           object\n",
            "cMaxPrice           object\n",
            "cSumPrice           object\n",
            "bCount               int64\n",
            "bMinPrice           object\n",
            "bMaxPrice           object\n",
            "bSumPrice           object\n",
            "bStep               object\n",
            "onlineStatus        object\n",
            "availability        object\n",
            "customerNo          object\n",
            "maxVal              object\n",
            "customerScore       object\n",
            "accountLifetime     object\n",
            "payments            object\n",
            "age                 object\n",
            "address             object\n",
            "lastOrder           object\n",
            "order               object\n",
            "dtype: object\n"
          ]
        }
      ],
      "source": [
        "# Mengecek ukuran dataset\n",
        "print(\"Ukuran dataset:\", Transact_Train.shape)\n",
        "\n",
        "# Menampilkan tipe data setiap kolom\n",
        "print(\"\\nTipe data setiap kolom:\")\n",
        "print(Transact_Train.dtypes)"
      ]
    },
    {
      "cell_type": "markdown",
      "metadata": {
        "id": "9DMFVQiM7k-N"
      },
      "source": [
        "# **Statistik Deskriptif**"
      ]
    },
    {
      "cell_type": "code",
      "execution_count": 138,
      "metadata": {
        "colab": {
          "base_uri": "https://localhost:8080/"
        },
        "id": "17k5UYHu7eTB",
        "outputId": "27e2c65b-7e3b-4c10-bf24-53c86baabcbb"
      },
      "outputs": [
        {
          "output_type": "stream",
          "name": "stdout",
          "text": [
            "\n",
            "Statistik deskriptif untuk kolom numerik:\n",
            "           sessionNo      startHour   startWeekday       duration  \\\n",
            "count  429013.000000  429013.000000  429013.000000  429013.000000   \n",
            "mean    25274.631293      14.617061       5.924839    1573.901640   \n",
            "std     14441.366146       4.485914       0.790930    2427.123356   \n",
            "min         1.000000       0.000000       5.000000       0.000000   \n",
            "25%     12731.000000      11.000000       5.000000     225.070000   \n",
            "50%     25470.000000      15.000000       6.000000     738.199000   \n",
            "75%     37542.000000      18.000000       7.000000    1880.265000   \n",
            "max     50000.000000      23.000000       7.000000   21580.092000   \n",
            "\n",
            "              cCount         bCount  \n",
            "count  429013.000000  429013.000000  \n",
            "mean       24.140317       4.135168  \n",
            "std        30.398164       4.451778  \n",
            "min         0.000000       0.000000  \n",
            "25%         5.000000       1.000000  \n",
            "50%        13.000000       3.000000  \n",
            "75%        31.000000       5.000000  \n",
            "max       200.000000     108.000000  \n"
          ]
        }
      ],
      "source": [
        "# Menampilkan statistik deskriptif untuk kolom numerik\n",
        "print(\"\\nStatistik deskriptif untuk kolom numerik:\")\n",
        "print(Transact_Train.describe())"
      ]
    },
    {
      "cell_type": "markdown",
      "metadata": {
        "id": "gMRD8nqK7ozA"
      },
      "source": [
        "# **Distribusi Data (Histogram)**"
      ]
    },
    {
      "cell_type": "markdown",
      "metadata": {
        "id": "il9leNwDTzQl"
      },
      "source": [
        "# Grafik Distribusi sessionNo"
      ]
    },
    {
      "cell_type": "markdown",
      "metadata": {
        "id": "wV_I_WDOkXav"
      },
      "source": [
        "Grafik ini adalah histogram dengan garis KDE (Kernel Density Estimation) yang digunakan untuk menggambarkan distribusi data dari variabel sessionNo."
      ]
    },
    {
      "cell_type": "code",
      "execution_count": 139,
      "metadata": {
        "colab": {
          "base_uri": "https://localhost:8080/",
          "height": 410
        },
        "id": "i7cBDNQQ7ojt",
        "outputId": "74ed9478-0b93-4dc3-e32d-dc16e6f2057f"
      },
      "outputs": [
        {
          "output_type": "display_data",
          "data": {
            "text/plain": [
              "<Figure size 600x400 with 1 Axes>"
            ],
            "image/png": "[encoded data removed]"
          },
          "metadata": {}
        }
      ],
      "source": [
        "plt.figure(figsize=(6, 4))\n",
        "sns.histplot(Transact_Train['sessionNo'], kde=True, bins=30)\n",
        "plt.title('Distribusi sessionNo')\n",
        "plt.xlabel('sessionNo')\n",
        "plt.ylabel('Frekuensi')\n",
        "plt.show()\n"
      ]
    },
    {
      "cell_type": "markdown",
      "metadata": {
        "id": "7b0UNccQknf6"
      },
      "source": [
        "Grafik ini dibuat untuk memvisualisasikan distribusi sesi dalam dataset dan melihat apakah sesi tersebut tersebar merata atau ada pola distribusi tertentu, seperti outlier, lonjakan, atau tren lain."
      ]
    },
    {
      "cell_type": "markdown",
      "metadata": {
        "id": "PYjNTMRGT9CK"
      },
      "source": [
        "# Grafik Distribusi startHour"
      ]
    },
    {
      "cell_type": "markdown",
      "metadata": {
        "id": "iVH0slRAkqrJ"
      },
      "source": [
        "Grafik ini adalah histogram dengan garis KDE yang menggambarkan distribusi data berdasarkan variabel startHour. Variabel ini menunjukkan waktu (dalam jam) ketika aktivitas atau transaksi dimulai."
      ]
    },
    {
      "cell_type": "code",
      "execution_count": 140,
      "metadata": {
        "colab": {
          "base_uri": "https://localhost:8080/",
          "height": 410
        },
        "id": "2dJXHf8BUFa2",
        "outputId": "ac43c273-91c8-4e4c-eab8-c7f4760e3b0f"
      },
      "outputs": [
        {
          "output_type": "display_data",
          "data": {
            "text/plain": [
              "<Figure size 600x400 with 1 Axes>"
            ],
            "image/png": "[encoded data removed]"
          },
          "metadata": {}
        }
      ],
      "source": [
        "plt.figure(figsize=(6, 4))\n",
        "sns.histplot(Transact_Train['startHour'], kde=True, bins=30)\n",
        "plt.title('Distribusi startHour')\n",
        "plt.xlabel('startHour')\n",
        "plt.ylabel('Frekuensi')\n",
        "plt.show()\n"
      ]
    },
    {
      "cell_type": "markdown",
      "metadata": {
        "id": "aSkZp-iXkrqD"
      },
      "source": [
        "Grafik ini dibuat untuk memahami pola aktivitas berdasarkan jam, mengidentifikasi waktu puncak aktivitas, serta memanfaatkan informasi ini untuk pengambilan keputusan strategis, seperti optimasi layanan atau perencanaan promosi."
      ]
    },
    {
      "cell_type": "markdown",
      "metadata": {
        "id": "fZcBnMWgUKrM"
      },
      "source": [
        "# Grafik Distribusi startWeekDay"
      ]
    },
    {
      "cell_type": "markdown",
      "metadata": {
        "id": "vEtOigVAkytc"
      },
      "source": [
        "Grafik ini adalah histogram dengan garis KDE yang menggambarkan distribusi data berdasarkan variabel startWeekDay, yang kemungkinan merepresentasikan hari dalam seminggu."
      ]
    },
    {
      "cell_type": "code",
      "execution_count": 141,
      "metadata": {
        "colab": {
          "base_uri": "https://localhost:8080/",
          "height": 410
        },
        "id": "d-bhhZfcUREC",
        "outputId": "8e75aa32-235a-485f-ae3d-15a91e712c30"
      },
      "outputs": [
        {
          "output_type": "display_data",
          "data": {
            "text/plain": [
              "<Figure size 600x400 with 1 Axes>"
            ],
            "image/png": "[encoded data removed]"
          },
          "metadata": {}
        }
      ],
      "source": [
        "plt.figure(figsize=(6, 4))\n",
        "sns.histplot(Transact_Train['startWeekday'], kde=True, bins=30)\n",
        "plt.title('Distribusi startWeekday')\n",
        "plt.xlabel('startWeekday')\n",
        "plt.ylabel('Frekuensi')\n",
        "plt.show()\n"
      ]
    },
    {
      "cell_type": "markdown",
      "metadata": {
        "id": "PJYPfU9fk2-Y"
      },
      "source": [
        "Grafik ini dibuat untuk melihat distribusi aktivitas berdasarkan hari dalam seminggu, sehingga dapat mengidentifikasi perbedaan pola antara hari kerja dan akhir pekan."
      ]
    },
    {
      "cell_type": "markdown",
      "metadata": {
        "id": "6TWdQsHAUgC5"
      },
      "source": [
        "# Grafik Distribusi duration"
      ]
    },
    {
      "cell_type": "markdown",
      "metadata": {
        "id": "dkhuhNR7lMIK"
      },
      "source": [
        "Grafik ini adalah histogram dengan garis KDE yang menggambarkan distribusi data dari variabel duration. Variabel ini mungkin merepresentasikan durasi dalam satuan waktu tertentu (detik, menit, atau jam) terkait aktivitas atau transaksi dalam dataset."
      ]
    },
    {
      "cell_type": "code",
      "execution_count": 142,
      "metadata": {
        "colab": {
          "base_uri": "https://localhost:8080/",
          "height": 410
        },
        "id": "OLdNhDsGUmhD",
        "outputId": "afdb8821-9767-4fb4-ac70-ba1e191819a4"
      },
      "outputs": [
        {
          "output_type": "display_data",
          "data": {
            "text/plain": [
              "<Figure size 600x400 with 1 Axes>"
            ],
            "image/png": "[encoded data removed]"
          },
          "metadata": {}
        }
      ],
      "source": [
        "plt.figure(figsize=(6, 4))\n",
        "sns.histplot(Transact_Train['duration'], kde=True, bins=30)\n",
        "plt.title('Distribusi duration')\n",
        "plt.xlabel('duration')\n",
        "plt.ylabel('Frekuensi')\n",
        "plt.show()\n"
      ]
    },
    {
      "cell_type": "markdown",
      "metadata": {
        "id": "csDS1SKPlNI2"
      },
      "source": [
        "Grafik ini dibuat untuk memahami pola distribusi durasi aktivitas/transaksi dan melihat apakah terdapat anomali, outlier, atau pola distribusi tertentu seperti konsentrasi durasi di rentang tertentu."
      ]
    },
    {
      "cell_type": "markdown",
      "metadata": {
        "id": "Dn9MZ-6z7obC"
      },
      "source": [
        "# **Hubungan Fitur dengan Target**"
      ]
    },
    {
      "cell_type": "markdown",
      "metadata": {
        "id": "njGGO0ETVVNd"
      },
      "source": [
        "# Grafik Hubungan antara sessionNo dan Order"
      ]
    },
    {
      "cell_type": "markdown",
      "metadata": {
        "id": "xBLY8jOcneOB"
      },
      "source": [
        "Grafik ini adalah boxplot yang menggambarkan hubungan antara variabel sessionNo (nomor sesi) dengan target Order (yang diasumsikan memiliki dua kategori: \"y\" untuk ada order, \"n\" untuk tidak ada order)."
      ]
    },
    {
      "cell_type": "code",
      "execution_count": 143,
      "metadata": {
        "colab": {
          "base_uri": "https://localhost:8080/",
          "height": 410
        },
        "id": "wYik4_VT7_C5",
        "outputId": "06684348-0fc0-4a65-b6f9-f68f0d89cec9"
      },
      "outputs": [
        {
          "output_type": "display_data",
          "data": {
            "text/plain": [
              "<Figure size 600x400 with 1 Axes>"
            ],
            "image/png": "[encoded data removed]"
          },
          "metadata": {}
        }
      ],
      "source": [
        "plt.figure(figsize=(6, 4))\n",
        "sns.boxplot(x=Transact_Train['order'], y=Transact_Train['sessionNo'])\n",
        "plt.title('Hubungan antara sessionNo dan Order')\n",
        "plt.xlabel('Order')\n",
        "plt.ylabel('sessionNo')\n",
        "plt.show()\n"
      ]
    },
    {
      "cell_type": "markdown",
      "metadata": {
        "id": "RnjBB_-YnfIc"
      },
      "source": [
        "Grafik ini dibuat untuk menganalisis apakah terdapat perbedaan distribusi sessionNo antara kategori Order (y dan n). Hal ini berguna untuk memahami apakah variabel sessionNo memiliki hubungan atau pengaruh terhadap variabel target Order."
      ]
    },
    {
      "cell_type": "markdown",
      "metadata": {
        "id": "9YIIeZe-Vgs6"
      },
      "source": [
        "# Grafik Hubungan antara startHour dan Order"
      ]
    },
    {
      "cell_type": "markdown",
      "metadata": {
        "id": "ZjDfLagBnkiK"
      },
      "source": [
        "Grafik ini adalah boxplot yang menggambarkan hubungan antara variabel startHour (jam mulai) dengan target Order."
      ]
    },
    {
      "cell_type": "code",
      "execution_count": 144,
      "metadata": {
        "colab": {
          "base_uri": "https://localhost:8080/",
          "height": 410
        },
        "id": "m2545KkxVlNN",
        "outputId": "565fd0d9-71f4-4033-e731-81bd8be77985"
      },
      "outputs": [
        {
          "output_type": "display_data",
          "data": {
            "text/plain": [
              "<Figure size 600x400 with 1 Axes>"
            ],
            "image/png": "[encoded data removed]"
          },
          "metadata": {}
        }
      ],
      "source": [
        "plt.figure(figsize=(6, 4))\n",
        "sns.boxplot(x=Transact_Train['order'], y=Transact_Train['startHour'])\n",
        "plt.title('Hubungan antara startHour dan Order')\n",
        "plt.xlabel('Order')\n",
        "plt.ylabel('startHour')\n",
        "plt.show()\n"
      ]
    },
    {
      "cell_type": "markdown",
      "metadata": {
        "id": "nI_wD3QDnlRv"
      },
      "source": [
        "Grafik ini dibuat untuk menganalisis apakah ada perbedaan pola distribusi startHour antara kategori Order (y dan n). Informasi ini dapat membantu menentukan apakah waktu aktivitas memiliki pengaruh pada terjadinya order."
      ]
    },
    {
      "cell_type": "markdown",
      "metadata": {
        "id": "wwRlkto2Vomc"
      },
      "source": [
        "# Grafik Hubungan antara startWeekDay dan Order"
      ]
    },
    {
      "cell_type": "markdown",
      "metadata": {
        "id": "nru3XH5anLsU"
      },
      "source": [
        "Grafik ini adalah boxplot yang menggambarkan hubungan antara variabel sessionNo (nomor sesi) dengan target Order (yang diasumsikan memiliki dua kategori: \"y\" untuk ada order, \"n\" untuk tidak ada order)."
      ]
    },
    {
      "cell_type": "code",
      "execution_count": 145,
      "metadata": {
        "colab": {
          "base_uri": "https://localhost:8080/",
          "height": 410
        },
        "id": "MGbL8dxhVs_N",
        "outputId": "41cc30c1-6f9a-495b-a2b2-80bc72b94358"
      },
      "outputs": [
        {
          "output_type": "display_data",
          "data": {
            "text/plain": [
              "<Figure size 600x400 with 1 Axes>"
            ],
            "image/png": "[encoded data removed]"
          },
          "metadata": {}
        }
      ],
      "source": [
        "plt.figure(figsize=(6, 4))\n",
        "sns.boxplot(x=Transact_Train['order'], y=Transact_Train['startWeekday'])\n",
        "plt.title('Hubungan antara startWeekday dan Order')\n",
        "plt.xlabel('Order')\n",
        "plt.ylabel('startWeekday')\n",
        "plt.show()\n"
      ]
    },
    {
      "cell_type": "markdown",
      "metadata": {
        "id": "d9LdlH-jnRFi"
      },
      "source": [
        "Grafik ini dibuat untuk menganalisis apakah terdapat perbedaan distribusi sessionNo antara kategori Order (y dan n). Hal ini berguna untuk memahami apakah variabel sessionNo memiliki hubungan atau pengaruh terhadap variabel target Order.\n",
        "Insight:"
      ]
    },
    {
      "cell_type": "markdown",
      "metadata": {
        "id": "JK2iuS-2VwCo"
      },
      "source": [
        "# Grafik Hubungan antara duration dan Order"
      ]
    },
    {
      "cell_type": "markdown",
      "metadata": {
        "id": "1eYgJGQsn0Ti"
      },
      "source": [
        "Grafik ini adalah boxplot yang menggambarkan hubungan antara variabel duration (durasi aktivitas atau transaksi) dengan target Order (kategori \"y\" untuk ada order dan \"n\" untuk tidak ada order)."
      ]
    },
    {
      "cell_type": "code",
      "execution_count": 146,
      "metadata": {
        "colab": {
          "base_uri": "https://localhost:8080/",
          "height": 410
        },
        "id": "2b94dD8nVy0O",
        "outputId": "16cbddea-9a27-46f3-8536-b4d8a6e712d8"
      },
      "outputs": [
        {
          "output_type": "display_data",
          "data": {
            "text/plain": [
              "<Figure size 600x400 with 1 Axes>"
            ],
            "image/png": "[encoded data removed]"
          },
          "metadata": {}
        }
      ],
      "source": [
        "plt.figure(figsize=(6, 4))\n",
        "sns.boxplot(x=Transact_Train['order'], y=Transact_Train['duration'])\n",
        "plt.title('Hubungan antara duration dan Order')\n",
        "plt.xlabel('Order')\n",
        "plt.ylabel('duration')\n",
        "plt.show()\n"
      ]
    },
    {
      "cell_type": "markdown",
      "metadata": {
        "id": "DR8VqOccn1YS"
      },
      "source": [
        "Grafik ini dibuat untuk menganalisis apakah terdapat perbedaan pola distribusi durasi aktivitas (duration) antara kategori \"y\" dan \"n\". Hal ini penting untuk mengetahui apakah durasi suatu aktivitas memengaruhi terjadinya order."
      ]
    },
    {
      "cell_type": "markdown",
      "metadata": {
        "id": "dUONQSF67_X1"
      },
      "source": [
        "# **Frekuensi Kolom Kategorikal**"
      ]
    },
    {
      "cell_type": "markdown",
      "metadata": {
        "id": "hYYANp_0pOOi"
      },
      "source": [
        "Menampilkan Frekuensi Kategori\n",
        "Kode ini digunakan untuk menampilkan frekuensi kemunculan setiap kategori dalam kolom-kolom kategorikal pada dataset Transact_Train."
      ]
    },
    {
      "cell_type": "code",
      "execution_count": 147,
      "metadata": {
        "colab": {
          "base_uri": "https://localhost:8080/"
        },
        "id": "YaaVjNzP8Cw7",
        "outputId": "fef3e5e8-f907-4018-b336-e8c7f98ba988"
      },
      "outputs": [
        {
          "output_type": "stream",
          "name": "stdout",
          "text": [
            "\n",
            "Frekuensi kategori pada kolom cMinPrice:\n",
            "cMinPrice\n",
            "9.99      55667\n",
            "3.99      35395\n",
            "19.99     23352\n",
            "12.99     19007\n",
            "14.99     18227\n",
            "          ...  \n",
            "159.9         1\n",
            "1190.0        1\n",
            "519.0         1\n",
            "30.95         1\n",
            "54.9          1\n",
            "Name: count, Length: 726, dtype: int64\n",
            "\n",
            "Frekuensi kategori pada kolom cMaxPrice:\n",
            "cMaxPrice\n",
            "29.99     33194\n",
            "19.99     27636\n",
            "49.99     26032\n",
            "39.99     24772\n",
            "24.99     17868\n",
            "          ...  \n",
            "23.5          1\n",
            "95.99         1\n",
            "4.75          1\n",
            "15.3          1\n",
            "201.99        1\n",
            "Name: count, Length: 874, dtype: int64\n",
            "\n",
            "Frekuensi kategori pada kolom cSumPrice:\n",
            "cSumPrice\n",
            "49.99      3942\n",
            "?          2765\n",
            "6.99       2754\n",
            "39.98      2461\n",
            "59.98      1692\n",
            "           ... \n",
            "258.12        1\n",
            "2275.91       1\n",
            "553.86        1\n",
            "650.61        1\n",
            "5253.28       1\n",
            "Name: count, Length: 72990, dtype: int64\n",
            "\n",
            "Frekuensi kategori pada kolom bMinPrice:\n",
            "bMinPrice\n",
            "9.99      56187\n",
            "3.99      32670\n",
            "19.99     27620\n",
            "14.99     21855\n",
            "12.99     20079\n",
            "          ...  \n",
            "549.95        1\n",
            "43.0          1\n",
            "62.96         1\n",
            "9.79          1\n",
            "159.9         1\n",
            "Name: count, Length: 748, dtype: int64\n",
            "\n",
            "Frekuensi kategori pada kolom bMaxPrice:\n",
            "bMaxPrice\n",
            "29.99      40203\n",
            "19.99      36399\n",
            "39.99      25841\n",
            "49.99      25754\n",
            "24.99      21253\n",
            "           ...  \n",
            "349.95         1\n",
            "299.9          1\n",
            "1619.0         1\n",
            "1549.99        1\n",
            "7.8            1\n",
            "Name: count, Length: 762, dtype: int64\n",
            "\n",
            "Frekuensi kategori pada kolom bSumPrice:\n",
            "bSumPrice\n",
            "29.99     8733\n",
            "19.99     8285\n",
            "49.99     8082\n",
            "39.99     6129\n",
            "9.99      5879\n",
            "          ... \n",
            "210.76       1\n",
            "235.75       1\n",
            "273.69       1\n",
            "772.96       1\n",
            "211.86       1\n",
            "Name: count, Length: 20248, dtype: int64\n",
            "\n",
            "Frekuensi kategori pada kolom bStep:\n",
            "bStep\n",
            "?    191333\n",
            "1     90058\n",
            "2     60682\n",
            "4     41142\n",
            "3     30062\n",
            "5     15736\n",
            "Name: count, dtype: int64\n",
            "\n",
            "Frekuensi kategori pada kolom onlineStatus:\n",
            "onlineStatus\n",
            "y    265625\n",
            "?    160379\n",
            "n      3009\n",
            "Name: count, dtype: int64\n",
            "\n",
            "Frekuensi kategori pada kolom availability:\n",
            "availability\n",
            "completely orderable           253692\n",
            "?                              165255\n",
            "mainly orderable                 5756\n",
            "completely not orderable         1491\n",
            "mixed                            1284\n",
            "completely not determinable      1017\n",
            "mainly not orderable              320\n",
            "mainly not determinable           198\n",
            "Name: count, dtype: int64\n",
            "\n",
            "Frekuensi kategori pada kolom customerNo:\n",
            "customerNo\n",
            "?        151098\n",
            "47         1248\n",
            "5464        345\n",
            "4953        196\n",
            "16740       155\n",
            "          ...  \n",
            "11544         1\n",
            "11540         1\n",
            "11537         1\n",
            "11512         1\n",
            "10461         1\n",
            "Name: count, Length: 25038, dtype: int64\n",
            "\n",
            "Frekuensi kategori pada kolom maxVal:\n",
            "maxVal\n",
            "?        153740\n",
            "600       50148\n",
            "4000      38401\n",
            "300       25521\n",
            "800       13481\n",
            "          ...  \n",
            "10300         3\n",
            "15100         3\n",
            "15800         2\n",
            "15200         2\n",
            "13900         1\n",
            "Name: count, Length: 179, dtype: int64\n",
            "\n",
            "Frekuensi kategori pada kolom customerScore:\n",
            "customerScore\n",
            "?      153740\n",
            "70      18022\n",
            "557      4448\n",
            "80       4113\n",
            "541      3552\n",
            "        ...  \n",
            "286         2\n",
            "318         2\n",
            "262         2\n",
            "275         1\n",
            "331         1\n",
            "Name: count, Length: 308, dtype: int64\n",
            "\n",
            "Frekuensi kategori pada kolom accountLifetime:\n",
            "accountLifetime\n",
            "?      153740\n",
            "223      7066\n",
            "220      5271\n",
            "221      4593\n",
            "1        3942\n",
            "        ...  \n",
            "542         5\n",
            "375         5\n",
            "521         5\n",
            "600         3\n",
            "539         2\n",
            "Name: count, Length: 463, dtype: int64\n",
            "\n",
            "Frekuensi kategori pada kolom payments:\n",
            "payments\n",
            "?      151098\n",
            "1       23568\n",
            "0       20301\n",
            "10      19161\n",
            "2       18478\n",
            "        ...  \n",
            "722         3\n",
            "317         2\n",
            "133         2\n",
            "176         2\n",
            "237         1\n",
            "Name: count, Length: 228, dtype: int64\n",
            "\n",
            "Frekuensi kategori pada kolom age:\n",
            "age\n",
            "?     151396\n",
            "46      9733\n",
            "45      9579\n",
            "44      9483\n",
            "43      9397\n",
            "       ...  \n",
            "85        19\n",
            "92        15\n",
            "17        11\n",
            "93         6\n",
            "89         6\n",
            "Name: count, Length: 79, dtype: int64\n",
            "\n",
            "Frekuensi kategori pada kolom address:\n",
            "address\n",
            "2    203570\n",
            "?    151098\n",
            "1     74058\n",
            "3       287\n",
            "Name: count, dtype: int64\n",
            "\n",
            "Frekuensi kategori pada kolom lastOrder:\n",
            "lastOrder\n",
            "?      151098\n",
            "10       9402\n",
            "11       9003\n",
            "4        7267\n",
            "14       7263\n",
            "        ...  \n",
            "679         2\n",
            "730         1\n",
            "683         1\n",
            "654         1\n",
            "556         1\n",
            "Name: count, Length: 678, dtype: int64\n",
            "\n",
            "Frekuensi kategori pada kolom order:\n",
            "order\n",
            "y    290030\n",
            "n    138983\n",
            "Name: count, dtype: int64\n"
          ]
        }
      ],
      "source": [
        "# Menampilkan frekuensi untuk kolom kategorikal\n",
        "categorical_cols = Transact_Train.select_dtypes(include=['object', 'category']).columns\n",
        "for col in categorical_cols:\n",
        "    print(f\"\\nFrekuensi kategori pada kolom {col}:\")\n",
        "    print(Transact_Train[col].value_counts())\n"
      ]
    },
    {
      "cell_type": "markdown",
      "metadata": {
        "id": "pYj8ZT9m8EBN"
      },
      "source": [
        "# **Cek Jumlah Nilai Unik**"
      ]
    },
    {
      "cell_type": "markdown",
      "metadata": {
        "id": "hICpdJgQqMkH"
      },
      "source": [
        "menampilkan jumlah nilai unik yang ada dalam setiap kolom pada dataset Transact_Train."
      ]
    },
    {
      "cell_type": "code",
      "execution_count": 148,
      "metadata": {
        "colab": {
          "base_uri": "https://localhost:8080/"
        },
        "id": "ErtukWco8J2y",
        "outputId": "0399c90f-c251-4cc1-9d11-a703679c9dc0"
      },
      "outputs": [
        {
          "output_type": "stream",
          "name": "stdout",
          "text": [
            "sessionNo: 50000 nilai unik\n",
            "startHour: 24 nilai unik\n",
            "startWeekday: 3 nilai unik\n",
            "duration: 369334 nilai unik\n",
            "cCount: 201 nilai unik\n",
            "cMinPrice: 726 nilai unik\n",
            "cMaxPrice: 874 nilai unik\n",
            "cSumPrice: 72990 nilai unik\n",
            "bCount: 109 nilai unik\n",
            "bMinPrice: 748 nilai unik\n",
            "bMaxPrice: 762 nilai unik\n",
            "bSumPrice: 20248 nilai unik\n",
            "bStep: 6 nilai unik\n",
            "onlineStatus: 3 nilai unik\n",
            "availability: 8 nilai unik\n",
            "customerNo: 25038 nilai unik\n",
            "maxVal: 179 nilai unik\n",
            "customerScore: 308 nilai unik\n",
            "accountLifetime: 463 nilai unik\n",
            "payments: 228 nilai unik\n",
            "age: 79 nilai unik\n",
            "address: 4 nilai unik\n",
            "lastOrder: 678 nilai unik\n",
            "order: 2 nilai unik\n"
          ]
        }
      ],
      "source": [
        "# Menampilkan jumlah nilai unik untuk setiap kolom\n",
        "for col in Transact_Train.columns:\n",
        "    print(f\"{col}: {Transact_Train[col].nunique()} nilai unik\")\n"
      ]
    },
    {
      "cell_type": "markdown",
      "metadata": {
        "id": "aaMchf4ieYLF"
      },
      "source": [
        "# **Mengganti Nilai '?' menjadi NaN**"
      ]
    },
    {
      "cell_type": "code",
      "execution_count": 149,
      "metadata": {
        "id": "LKkzx6YXtouh"
      },
      "outputs": [],
      "source": [
        "# Mengganti semua nilai '?' dalam dataset dengan NaN agar mudah diidentifikasi sebagai nilai hilang\n",
        "Transact_Train.replace('?', np.nan, inplace=True)"
      ]
    },
    {
      "cell_type": "markdown",
      "metadata": {
        "id": "nfj-PSSkfW00"
      },
      "source": [
        "# **Memeriksa Nilai Hilang dalam Dataset Transact Train**"
      ]
    },
    {
      "cell_type": "code",
      "execution_count": 150,
      "metadata": {
        "colab": {
          "base_uri": "https://localhost:8080/",
          "height": 836
        },
        "id": "k-pcNdatuEXf",
        "outputId": "5563cea5-e389-49b2-ad9b-ea2897a6605b"
      },
      "outputs": [
        {
          "output_type": "execute_result",
          "data": {
            "text/plain": [
              "sessionNo               0\n",
              "startHour               0\n",
              "startWeekday            0\n",
              "duration                0\n",
              "cCount                  0\n",
              "cMinPrice            2765\n",
              "cMaxPrice            2765\n",
              "cSumPrice            2765\n",
              "bCount                  0\n",
              "bMinPrice            5130\n",
              "bMaxPrice            5130\n",
              "bSumPrice            5130\n",
              "bStep              191333\n",
              "onlineStatus       160379\n",
              "availability       165255\n",
              "customerNo         151098\n",
              "maxVal             153740\n",
              "customerScore      153740\n",
              "accountLifetime    153740\n",
              "payments           151098\n",
              "age                151396\n",
              "address            151098\n",
              "lastOrder          151098\n",
              "order                   0\n",
              "dtype: int64"
            ],
            "text/html": [
              "<div>\n",
              "<style scoped>\n",
              "    .dataframe tbody tr th:only-of-type {\n",
              "        vertical-align: middle;\n",
              "    }\n",
              "\n",
              "    .dataframe tbody tr th {\n",
              "        vertical-align: top;\n",
              "    }\n",
              "\n",
              "    .dataframe thead th {\n",
              "        text-align: right;\n",
              "    }\n",
              "</style>\n",
              "<table border=\"1\" class=\"dataframe\">\n",
              "  <thead>\n",
              "    <tr style=\"text-align: right;\">\n",
              "      <th></th>\n",
              "      <th>0</th>\n",
              "    </tr>\n",
              "  </thead>\n",
              "  <tbody>\n",
              "    <tr>\n",
              "      <th>sessionNo</th>\n",
              "      <td>0</td>\n",
              "    </tr>\n",
              "    <tr>\n",
              "      <th>startHour</th>\n",
              "      <td>0</td>\n",
              "    </tr>\n",
              "    <tr>\n",
              "      <th>startWeekday</th>\n",
              "      <td>0</td>\n",
              "    </tr>\n",
              "    <tr>\n",
              "      <th>duration</th>\n",
              "      <td>0</td>\n",
              "    </tr>\n",
              "    <tr>\n",
              "      <th>cCount</th>\n",
              "      <td>0</td>\n",
              "    </tr>\n",
              "    <tr>\n",
              "      <th>cMinPrice</th>\n",
              "      <td>2765</td>\n",
              "    </tr>\n",
              "    <tr>\n",
              "      <th>cMaxPrice</th>\n",
              "      <td>2765</td>\n",
              "    </tr>\n",
              "    <tr>\n",
              "      <th>cSumPrice</th>\n",
              "      <td>2765</td>\n",
              "    </tr>\n",
              "    <tr>\n",
              "      <th>bCount</th>\n",
              "      <td>0</td>\n",
              "    </tr>\n",
              "    <tr>\n",
              "      <th>bMinPrice</th>\n",
              "      <td>5130</td>\n",
              "    </tr>\n",
              "    <tr>\n",
              "      <th>bMaxPrice</th>\n",
              "      <td>5130</td>\n",
              "    </tr>\n",
              "    <tr>\n",
              "      <th>bSumPrice</th>\n",
              "      <td>5130</td>\n",
              "    </tr>\n",
              "    <tr>\n",
              "      <th>bStep</th>\n",
              "      <td>191333</td>\n",
              "    </tr>\n",
              "    <tr>\n",
              "      <th>onlineStatus</th>\n",
              "      <td>160379</td>\n",
              "    </tr>\n",
              "    <tr>\n",
              "      <th>availability</th>\n",
              "      <td>165255</td>\n",
              "    </tr>\n",
              "    <tr>\n",
              "      <th>customerNo</th>\n",
              "      <td>151098</td>\n",
              "    </tr>\n",
              "    <tr>\n",
              "      <th>maxVal</th>\n",
              "      <td>153740</td>\n",
              "    </tr>\n",
              "    <tr>\n",
              "      <th>customerScore</th>\n",
              "      <td>153740</td>\n",
              "    </tr>\n",
              "    <tr>\n",
              "      <th>accountLifetime</th>\n",
              "      <td>153740</td>\n",
              "    </tr>\n",
              "    <tr>\n",
              "      <th>payments</th>\n",
              "      <td>151098</td>\n",
              "    </tr>\n",
              "    <tr>\n",
              "      <th>age</th>\n",
              "      <td>151396</td>\n",
              "    </tr>\n",
              "    <tr>\n",
              "      <th>address</th>\n",
              "      <td>151098</td>\n",
              "    </tr>\n",
              "    <tr>\n",
              "      <th>lastOrder</th>\n",
              "      <td>151098</td>\n",
              "    </tr>\n",
              "    <tr>\n",
              "      <th>order</th>\n",
              "      <td>0</td>\n",
              "    </tr>\n",
              "  </tbody>\n",
              "</table>\n",
              "</div><br><label><b>dtype:</b> int64</label>"
            ]
          },
          "metadata": {},
          "execution_count": 150
        }
      ],
      "source": [
        "Transact_Train.isnull().sum()"
      ]
    },
    {
      "cell_type": "markdown",
      "metadata": {
        "id": "jPwJJnCmfvBd"
      },
      "source": [
        "Terdapat beberapa kolom dengan nilai hilang. Kolom seperti cMinPrice, cMaxPrice, dan cSumPrice masing-masing memiliki 2765 nilai hilang. Kolom bCount tidak memiliki nilai hilang, sementara bMinPrice, bMaxPrice, dan bSumPrice memiliki 5130 nilai hilang. Kolom bStep memiliki jumlah nilai hilang yang sangat besar, yaitu 191333. Kolom lain seperti onlineStatus, availability, dan customerNo juga mengalami nilai hilang yang signifikan. Kolom order lengkap tanpa nilai hilang. Penting untuk menangani nilai-nilai hilang ini agar analisis dan model yang dibangun menjadi lebih akurat."
      ]
    },
    {
      "cell_type": "markdown",
      "metadata": {
        "id": "wmFb_tqyu7AB"
      },
      "source": [
        "# **Pembuatan Model sebelum PraProses**"
      ]
    },
    {
      "cell_type": "markdown",
      "metadata": {
        "id": "r5FbmxTLvAl3"
      },
      "source": [
        "# Import Library yang Diperlukan"
      ]
    },
    {
      "cell_type": "code",
      "execution_count": 151,
      "metadata": {
        "id": "hoYNWIqtvDKf"
      },
      "outputs": [],
      "source": [
        "# Import library yang diperlukan\n",
        "from sklearn.model_selection import train_test_split  # Untuk membagi data latih dan data uji\n",
        "from sklearn.ensemble import RandomForestClassifier  # Untuk membuat model Random Forest\n",
        "from sklearn.metrics import accuracy_score, precision_score, recall_score, f1_score, confusion_matrix  # Untuk evaluasi model\n",
        "from sklearn.preprocessing import LabelEncoder\n",
        "from sklearn.metrics import roc_curve, auc\n",
        "\n",
        "import seaborn as sns  # Untuk visualisasi confusion matrix\n",
        "import matplotlib.pyplot as plt  # Untuk visualisasi lainnya\n"
      ]
    },
    {
      "cell_type": "markdown",
      "metadata": {
        "id": "8jmS-zdRvF3j"
      },
      "source": [
        "# Menyiapkan Data"
      ]
    },
    {
      "cell_type": "code",
      "execution_count": 152,
      "metadata": {
        "id": "955ntSbXvRu_"
      },
      "outputs": [],
      "source": [
        "# Langkah 1: Data tanpa praproses\n",
        "# Menggunakan dataset tanpa praproses: kita akan menggunakan data mentah tanpa penanganan nilai hilang atau encoding.\n",
        "X = Transact_Train.drop('order', axis=1)  # Fitur (tanpa praproses, menggunakan data mentah)\n",
        "y = Transact_Train['order']  # Target (order)\n"
      ]
    },
    {
      "cell_type": "markdown",
      "metadata": {
        "id": "V2k7J1ZFvVp_"
      },
      "source": [
        "# Membagi Data Latih dan Data Uji"
      ]
    },
    {
      "cell_type": "code",
      "execution_count": 153,
      "metadata": {
        "id": "PKBquNkYvZw6"
      },
      "outputs": [],
      "source": [
        "# Langkah 2: Pembagian Data (80% untuk pelatihan, 20% untuk pengujian)\n",
        "# Membagi dataset menjadi data latih (X_train, y_train) dan data uji (X_test, y_test)\n",
        "X_train, X_test, y_train, y_test = train_test_split(X, y, test_size=0.2, random_state=42)\n"
      ]
    },
    {
      "cell_type": "markdown",
      "metadata": {
        "id": "2DfGB6ukxYKd"
      },
      "source": [
        "# Melatih Model Logistic Regression"
      ]
    },
    {
      "cell_type": "code",
      "execution_count": 179,
      "metadata": {
        "colab": {
          "base_uri": "https://localhost:8080/",
          "height": 80
        },
        "id": "qKYYoZolF_hi",
        "outputId": "4a3abdfe-760e-44b0-f2b7-6556686cf751"
      },
      "outputs": [
        {
          "output_type": "execute_result",
          "data": {
            "text/plain": [
              "LogisticRegression(max_iter=1000, random_state=42)"
            ],
            "text/html": [
              "<style>#sk-container-id-6 {\n",
              "  /* Definition of color scheme common for light and dark mode */\n",
              "  --sklearn-color-text: black;\n",
              "  --sklearn-color-line: gray;\n",
              "  /* Definition of color scheme for unfitted estimators */\n",
              "  --sklearn-color-unfitted-level-0: #fff5e6;\n",
              "  --sklearn-color-unfitted-level-1: #f6e4d2;\n",
              "  --sklearn-color-unfitted-level-2: #ffe0b3;\n",
              "  --sklearn-color-unfitted-level-3: chocolate;\n",
              "  /* Definition of color scheme for fitted estimators */\n",
              "  --sklearn-color-fitted-level-0: #f0f8ff;\n",
              "  --sklearn-color-fitted-level-1: #d4ebff;\n",
              "  --sklearn-color-fitted-level-2: #b3dbfd;\n",
              "  --sklearn-color-fitted-level-3: cornflowerblue;\n",
              "\n",
              "  /* Specific color for light theme */\n",
              "  --sklearn-color-text-on-default-background: var(--sg-text-color, var(--theme-code-foreground, var(--jp-content-font-color1, black)));\n",
              "  --sklearn-color-background: var(--sg-background-color, var(--theme-background, var(--jp-layout-color0, white)));\n",
              "  --sklearn-color-border-box: var(--sg-text-color, var(--theme-code-foreground, var(--jp-content-font-color1, black)));\n",
              "  --sklearn-color-icon: #696969;\n",
              "\n",
              "  @media (prefers-color-scheme: dark) {\n",
              "    /* Redefinition of color scheme for dark theme */\n",
              "    --sklearn-color-text-on-default-background: var(--sg-text-color, var(--theme-code-foreground, var(--jp-content-font-color1, white)));\n",
              "    --sklearn-color-background: var(--sg-background-color, var(--theme-background, var(--jp-layout-color0, #111)));\n",
              "    --sklearn-color-border-box: var(--sg-text-color, var(--theme-code-foreground, var(--jp-content-font-color1, white)));\n",
              "    --sklearn-color-icon: #878787;\n",
              "  }\n",
              "}\n",
              "\n",
              "#sk-container-id-6 {\n",
              "  color: var(--sklearn-color-text);\n",
              "}\n",
              "\n",
              "#sk-container-id-6 pre {\n",
              "  padding: 0;\n",
              "}\n",
              "\n",
              "#sk-container-id-6 input.sk-hidden--visually {\n",
              "  border: 0;\n",
              "  clip: rect(1px 1px 1px 1px);\n",
              "  clip: rect(1px, 1px, 1px, 1px);\n",
              "  height: 1px;\n",
              "  margin: -1px;\n",
              "  overflow: hidden;\n",
              "  padding: 0;\n",
              "  position: absolute;\n",
              "  width: 1px;\n",
              "}\n",
              "\n",
              "#sk-container-id-6 div.sk-dashed-wrapped {\n",
              "  border: 1px dashed var(--sklearn-color-line);\n",
              "  margin: 0 0.4em 0.5em 0.4em;\n",
              "  box-sizing: border-box;\n",
              "  padding-bottom: 0.4em;\n",
              "  background-color: var(--sklearn-color-background);\n",
              "}\n",
              "\n",
              "#sk-container-id-6 div.sk-container {\n",
              "  /* jupyter's `normalize.less` sets `[hidden] { display: none; }`\n",
              "     but bootstrap.min.css set `[hidden] { display: none !important; }`\n",
              "     so we also need the `!important` here to be able to override the\n",
              "     default hidden behavior on the sphinx rendered scikit-learn.org.\n",
              "     See: https://github.com/scikit-learn/scikit-learn/issues/21755 */\n",
              "  display: inline-block !important;\n",
              "  position: relative;\n",
              "}\n",
              "\n",
              "#sk-container-id-6 div.sk-text-repr-fallback {\n",
              "  display: none;\n",
              "}\n",
              "\n",
              "div.sk-parallel-item,\n",
              "div.sk-serial,\n",
              "div.sk-item {\n",
              "  /* draw centered vertical line to link estimators */\n",
              "  background-image: linear-gradient(var(--sklearn-color-text-on-default-background), var(--sklearn-color-text-on-default-background));\n",
              "  background-size: 2px 100%;\n",
              "  background-repeat: no-repeat;\n",
              "  background-position: center center;\n",
              "}\n",
              "\n",
              "/* Parallel-specific style estimator block */\n",
              "\n",
              "#sk-container-id-6 div.sk-parallel-item::after {\n",
              "  content: \"\";\n",
              "  width: 100%;\n",
              "  border-bottom: 2px solid var(--sklearn-color-text-on-default-background);\n",
              "  flex-grow: 1;\n",
              "}\n",
              "\n",
              "#sk-container-id-6 div.sk-parallel {\n",
              "  display: flex;\n",
              "  align-items: stretch;\n",
              "  justify-content: center;\n",
              "  background-color: var(--sklearn-color-background);\n",
              "  position: relative;\n",
              "}\n",
              "\n",
              "#sk-container-id-6 div.sk-parallel-item {\n",
              "  display: flex;\n",
              "  flex-direction: column;\n",
              "}\n",
              "\n",
              "#sk-container-id-6 div.sk-parallel-item:first-child::after {\n",
              "  align-self: flex-end;\n",
              "  width: 50%;\n",
              "}\n",
              "\n",
              "#sk-container-id-6 div.sk-parallel-item:last-child::after {\n",
              "  align-self: flex-start;\n",
              "  width: 50%;\n",
              "}\n",
              "\n",
              "#sk-container-id-6 div.sk-parallel-item:only-child::after {\n",
              "  width: 0;\n",
              "}\n",
              "\n",
              "/* Serial-specific style estimator block */\n",
              "\n",
              "#sk-container-id-6 div.sk-serial {\n",
              "  display: flex;\n",
              "  flex-direction: column;\n",
              "  align-items: center;\n",
              "  background-color: var(--sklearn-color-background);\n",
              "  padding-right: 1em;\n",
              "  padding-left: 1em;\n",
              "}\n",
              "\n",
              "\n",
              "/* Toggleable style: style used for estimator/Pipeline/ColumnTransformer box that is\n",
              "clickable and can be expanded/collapsed.\n",
              "- Pipeline and ColumnTransformer use this feature and define the default style\n",
              "- Estimators will overwrite some part of the style using the `sk-estimator` class\n",
              "*/\n",
              "\n",
              "/* Pipeline and ColumnTransformer style (default) */\n",
              "\n",
              "#sk-container-id-6 div.sk-toggleable {\n",
              "  /* Default theme specific background. It is overwritten whether we have a\n",
              "  specific estimator or a Pipeline/ColumnTransformer */\n",
              "  background-color: var(--sklearn-color-background);\n",
              "}\n",
              "\n",
              "/* Toggleable label */\n",
              "#sk-container-id-6 label.sk-toggleable__label {\n",
              "  cursor: pointer;\n",
              "  display: block;\n",
              "  width: 100%;\n",
              "  margin-bottom: 0;\n",
              "  padding: 0.5em;\n",
              "  box-sizing: border-box;\n",
              "  text-align: center;\n",
              "}\n",
              "\n",
              "#sk-container-id-6 label.sk-toggleable__label-arrow:before {\n",
              "  /* Arrow on the left of the label */\n",
              "  content: \"▸\";\n",
              "  float: left;\n",
              "  margin-right: 0.25em;\n",
              "  color: var(--sklearn-color-icon);\n",
              "}\n",
              "\n",
              "#sk-container-id-6 label.sk-toggleable__label-arrow:hover:before {\n",
              "  color: var(--sklearn-color-text);\n",
              "}\n",
              "\n",
              "/* Toggleable content - dropdown */\n",
              "\n",
              "#sk-container-id-6 div.sk-toggleable__content {\n",
              "  max-height: 0;\n",
              "  max-width: 0;\n",
              "  overflow: hidden;\n",
              "  text-align: left;\n",
              "  /* unfitted */\n",
              "  background-color: var(--sklearn-color-unfitted-level-0);\n",
              "}\n",
              "\n",
              "#sk-container-id-6 div.sk-toggleable__content.fitted {\n",
              "  /* fitted */\n",
              "  background-color: var(--sklearn-color-fitted-level-0);\n",
              "}\n",
              "\n",
              "#sk-container-id-6 div.sk-toggleable__content pre {\n",
              "  margin: 0.2em;\n",
              "  border-radius: 0.25em;\n",
              "  color: var(--sklearn-color-text);\n",
              "  /* unfitted */\n",
              "  background-color: var(--sklearn-color-unfitted-level-0);\n",
              "}\n",
              "\n",
              "#sk-container-id-6 div.sk-toggleable__content.fitted pre {\n",
              "  /* unfitted */\n",
              "  background-color: var(--sklearn-color-fitted-level-0);\n",
              "}\n",
              "\n",
              "#sk-container-id-6 input.sk-toggleable__control:checked~div.sk-toggleable__content {\n",
              "  /* Expand drop-down */\n",
              "  max-height: 200px;\n",
              "  max-width: 100%;\n",
              "  overflow: auto;\n",
              "}\n",
              "\n",
              "#sk-container-id-6 input.sk-toggleable__control:checked~label.sk-toggleable__label-arrow:before {\n",
              "  content: \"▾\";\n",
              "}\n",
              "\n",
              "/* Pipeline/ColumnTransformer-specific style */\n",
              "\n",
              "#sk-container-id-6 div.sk-label input.sk-toggleable__control:checked~label.sk-toggleable__label {\n",
              "  color: var(--sklearn-color-text);\n",
              "  background-color: var(--sklearn-color-unfitted-level-2);\n",
              "}\n",
              "\n",
              "#sk-container-id-6 div.sk-label.fitted input.sk-toggleable__control:checked~label.sk-toggleable__label {\n",
              "  background-color: var(--sklearn-color-fitted-level-2);\n",
              "}\n",
              "\n",
              "/* Estimator-specific style */\n",
              "\n",
              "/* Colorize estimator box */\n",
              "#sk-container-id-6 div.sk-estimator input.sk-toggleable__control:checked~label.sk-toggleable__label {\n",
              "  /* unfitted */\n",
              "  background-color: var(--sklearn-color-unfitted-level-2);\n",
              "}\n",
              "\n",
              "#sk-container-id-6 div.sk-estimator.fitted input.sk-toggleable__control:checked~label.sk-toggleable__label {\n",
              "  /* fitted */\n",
              "  background-color: var(--sklearn-color-fitted-level-2);\n",
              "}\n",
              "\n",
              "#sk-container-id-6 div.sk-label label.sk-toggleable__label,\n",
              "#sk-container-id-6 div.sk-label label {\n",
              "  /* The background is the default theme color */\n",
              "  color: var(--sklearn-color-text-on-default-background);\n",
              "}\n",
              "\n",
              "/* On hover, darken the color of the background */\n",
              "#sk-container-id-6 div.sk-label:hover label.sk-toggleable__label {\n",
              "  color: var(--sklearn-color-text);\n",
              "  background-color: var(--sklearn-color-unfitted-level-2);\n",
              "}\n",
              "\n",
              "/* Label box, darken color on hover, fitted */\n",
              "#sk-container-id-6 div.sk-label.fitted:hover label.sk-toggleable__label.fitted {\n",
              "  color: var(--sklearn-color-text);\n",
              "  background-color: var(--sklearn-color-fitted-level-2);\n",
              "}\n",
              "\n",
              "/* Estimator label */\n",
              "\n",
              "#sk-container-id-6 div.sk-label label {\n",
              "  font-family: monospace;\n",
              "  font-weight: bold;\n",
              "  display: inline-block;\n",
              "  line-height: 1.2em;\n",
              "}\n",
              "\n",
              "#sk-container-id-6 div.sk-label-container {\n",
              "  text-align: center;\n",
              "}\n",
              "\n",
              "/* Estimator-specific */\n",
              "#sk-container-id-6 div.sk-estimator {\n",
              "  font-family: monospace;\n",
              "  border: 1px dotted var(--sklearn-color-border-box);\n",
              "  border-radius: 0.25em;\n",
              "  box-sizing: border-box;\n",
              "  margin-bottom: 0.5em;\n",
              "  /* unfitted */\n",
              "  background-color: var(--sklearn-color-unfitted-level-0);\n",
              "}\n",
              "\n",
              "#sk-container-id-6 div.sk-estimator.fitted {\n",
              "  /* fitted */\n",
              "  background-color: var(--sklearn-color-fitted-level-0);\n",
              "}\n",
              "\n",
              "/* on hover */\n",
              "#sk-container-id-6 div.sk-estimator:hover {\n",
              "  /* unfitted */\n",
              "  background-color: var(--sklearn-color-unfitted-level-2);\n",
              "}\n",
              "\n",
              "#sk-container-id-6 div.sk-estimator.fitted:hover {\n",
              "  /* fitted */\n",
              "  background-color: var(--sklearn-color-fitted-level-2);\n",
              "}\n",
              "\n",
              "/* Specification for estimator info (e.g. \"i\" and \"?\") */\n",
              "\n",
              "/* Common style for \"i\" and \"?\" */\n",
              "\n",
              ".sk-estimator-doc-link,\n",
              "a:link.sk-estimator-doc-link,\n",
              "a:visited.sk-estimator-doc-link {\n",
              "  float: right;\n",
              "  font-size: smaller;\n",
              "  line-height: 1em;\n",
              "  font-family: monospace;\n",
              "  background-color: var(--sklearn-color-background);\n",
              "  border-radius: 1em;\n",
              "  height: 1em;\n",
              "  width: 1em;\n",
              "  text-decoration: none !important;\n",
              "  margin-left: 1ex;\n",
              "  /* unfitted */\n",
              "  border: var(--sklearn-color-unfitted-level-1) 1pt solid;\n",
              "  color: var(--sklearn-color-unfitted-level-1);\n",
              "}\n",
              "\n",
              ".sk-estimator-doc-link.fitted,\n",
              "a:link.sk-estimator-doc-link.fitted,\n",
              "a:visited.sk-estimator-doc-link.fitted {\n",
              "  /* fitted */\n",
              "  border: var(--sklearn-color-fitted-level-1) 1pt solid;\n",
              "  color: var(--sklearn-color-fitted-level-1);\n",
              "}\n",
              "\n",
              "/* On hover */\n",
              "div.sk-estimator:hover .sk-estimator-doc-link:hover,\n",
              ".sk-estimator-doc-link:hover,\n",
              "div.sk-label-container:hover .sk-estimator-doc-link:hover,\n",
              ".sk-estimator-doc-link:hover {\n",
              "  /* unfitted */\n",
              "  background-color: var(--sklearn-color-unfitted-level-3);\n",
              "  color: var(--sklearn-color-background);\n",
              "  text-decoration: none;\n",
              "}\n",
              "\n",
              "div.sk-estimator.fitted:hover .sk-estimator-doc-link.fitted:hover,\n",
              ".sk-estimator-doc-link.fitted:hover,\n",
              "div.sk-label-container:hover .sk-estimator-doc-link.fitted:hover,\n",
              ".sk-estimator-doc-link.fitted:hover {\n",
              "  /* fitted */\n",
              "  background-color: var(--sklearn-color-fitted-level-3);\n",
              "  color: var(--sklearn-color-background);\n",
              "  text-decoration: none;\n",
              "}\n",
              "\n",
              "/* Span, style for the box shown on hovering the info icon */\n",
              ".sk-estimator-doc-link span {\n",
              "  display: none;\n",
              "  z-index: 9999;\n",
              "  position: relative;\n",
              "  font-weight: normal;\n",
              "  right: .2ex;\n",
              "  padding: .5ex;\n",
              "  margin: .5ex;\n",
              "  width: min-content;\n",
              "  min-width: 20ex;\n",
              "  max-width: 50ex;\n",
              "  color: var(--sklearn-color-text);\n",
              "  box-shadow: 2pt 2pt 4pt #999;\n",
              "  /* unfitted */\n",
              "  background: var(--sklearn-color-unfitted-level-0);\n",
              "  border: .5pt solid var(--sklearn-color-unfitted-level-3);\n",
              "}\n",
              "\n",
              ".sk-estimator-doc-link.fitted span {\n",
              "  /* fitted */\n",
              "  background: var(--sklearn-color-fitted-level-0);\n",
              "  border: var(--sklearn-color-fitted-level-3);\n",
              "}\n",
              "\n",
              ".sk-estimator-doc-link:hover span {\n",
              "  display: block;\n",
              "}\n",
              "\n",
              "/* \"?\"-specific style due to the `<a>` HTML tag */\n",
              "\n",
              "#sk-container-id-6 a.estimator_doc_link {\n",
              "  float: right;\n",
              "  font-size: 1rem;\n",
              "  line-height: 1em;\n",
              "  font-family: monospace;\n",
              "  background-color: var(--sklearn-color-background);\n",
              "  border-radius: 1rem;\n",
              "  height: 1rem;\n",
              "  width: 1rem;\n",
              "  text-decoration: none;\n",
              "  /* unfitted */\n",
              "  color: var(--sklearn-color-unfitted-level-1);\n",
              "  border: var(--sklearn-color-unfitted-level-1) 1pt solid;\n",
              "}\n",
              "\n",
              "#sk-container-id-6 a.estimator_doc_link.fitted {\n",
              "  /* fitted */\n",
              "  border: var(--sklearn-color-fitted-level-1) 1pt solid;\n",
              "  color: var(--sklearn-color-fitted-level-1);\n",
              "}\n",
              "\n",
              "/* On hover */\n",
              "#sk-container-id-6 a.estimator_doc_link:hover {\n",
              "  /* unfitted */\n",
              "  background-color: var(--sklearn-color-unfitted-level-3);\n",
              "  color: var(--sklearn-color-background);\n",
              "  text-decoration: none;\n",
              "}\n",
              "\n",
              "#sk-container-id-6 a.estimator_doc_link.fitted:hover {\n",
              "  /* fitted */\n",
              "  background-color: var(--sklearn-color-fitted-level-3);\n",
              "}\n",
              "</style><div id=\"sk-container-id-6\" class=\"sk-top-container\"><div class=\"sk-text-repr-fallback\"><pre>LogisticRegression(max_iter=1000, random_state=42)</pre><b>In a Jupyter environment, please rerun this cell to show the HTML representation or trust the notebook. <br />On GitHub, the HTML representation is unable to render, please try loading this page with nbviewer.org.</b></div><div class=\"sk-container\" hidden><div class=\"sk-item\"><div class=\"sk-estimator fitted sk-toggleable\"><input class=\"sk-toggleable__control sk-hidden--visually\" id=\"sk-estimator-id-6\" type=\"checkbox\" checked><label for=\"sk-estimator-id-6\" class=\"sk-toggleable__label fitted sk-toggleable__label-arrow fitted\">&nbsp;&nbsp;LogisticRegression<a class=\"sk-estimator-doc-link fitted\" rel=\"noreferrer\" target=\"_blank\" href=\"https://scikit-learn.org/1.5/modules/generated/sklearn.linear_model.LogisticRegression.html\">?<span>Documentation for LogisticRegression</span></a><span class=\"sk-estimator-doc-link fitted\">i<span>Fitted</span></span></label><div class=\"sk-toggleable__content fitted\"><pre>LogisticRegression(max_iter=1000, random_state=42)</pre></div> </div></div></div></div>"
            ]
          },
          "metadata": {},
          "execution_count": 179
        }
      ],
      "source": [
        "# Langkah 3: Melatih Model Logistic Regression\n",
        "from sklearn.linear_model import LogisticRegression\n",
        "\n",
        "# Inisialisasi Logistic Regression\n",
        "log_reg_model = LogisticRegression(random_state=42, max_iter=1000)\n",
        "\n",
        "# Melatih model Logistic Regression pada data latih\n",
        "log_reg_model.fit(X_train, y_train)\n"
      ]
    },
    {
      "cell_type": "markdown",
      "metadata": {
        "id": "WKo2Qn_j1oHe"
      },
      "source": [
        "# Melakukan Prediksi dengan Logistic Regression"
      ]
    },
    {
      "cell_type": "code",
      "execution_count": 180,
      "metadata": {
        "colab": {
          "base_uri": "https://localhost:8080/"
        },
        "id": "SqdmlnkSGUv8",
        "outputId": "b8d6e8b6-b622-49f1-9580-22767d5601ed"
      },
      "outputs": [
        {
          "output_type": "stream",
          "name": "stdout",
          "text": [
            "Akurasi Logistic Regression: 0.5495\n",
            "\n",
            "Confusion Matrix:\n",
            "[[565 255]\n",
            " [436 278]]\n",
            "\n",
            "Classification Report:\n",
            "              precision    recall  f1-score   support\n",
            "\n",
            "           0       0.56      0.69      0.62       820\n",
            "           1       0.52      0.39      0.45       714\n",
            "\n",
            "    accuracy                           0.55      1534\n",
            "   macro avg       0.54      0.54      0.53      1534\n",
            "weighted avg       0.54      0.55      0.54      1534\n",
            "\n"
          ]
        }
      ],
      "source": [
        "# Langkah 4: Melakukan Prediksi dengan Logistic Regression\n",
        "from sklearn.metrics import accuracy_score, confusion_matrix, classification_report\n",
        "\n",
        "# Melakukan prediksi pada data uji\n",
        "y_pred_log_reg = log_reg_model.predict(X_test)\n",
        "\n",
        "# Menghitung Akurasi\n",
        "accuracy_log_reg = accuracy_score(y_test, y_pred_log_reg)\n",
        "print(f\"Akurasi Logistic Regression: {accuracy_log_reg:.4f}\")\n",
        "\n",
        "# Menampilkan Confusion Matrix\n",
        "cm_log_reg = confusion_matrix(y_test, y_pred_log_reg)\n",
        "print(\"\\nConfusion Matrix:\")\n",
        "print(cm_log_reg)\n",
        "\n",
        "# Menampilkan Classification Report\n",
        "print(\"\\nClassification Report:\")\n",
        "print(classification_report(y_test, y_pred_log_reg))\n"
      ]
    },
    {
      "cell_type": "markdown",
      "metadata": {
        "id": "6jU-1CuC2GYe"
      },
      "source": [
        "# Optimasi Model Logistic Regression"
      ]
    },
    {
      "cell_type": "code",
      "execution_count": 181,
      "metadata": {
        "colab": {
          "base_uri": "https://localhost:8080/"
        },
        "id": "O7hi2ITBG-oi",
        "outputId": "25ded0d1-9866-4655-8757-442fb07c98a9"
      },
      "outputs": [
        {
          "output_type": "stream",
          "name": "stdout",
          "text": [
            "\n",
            "Best Parameters for Logistic Regression: {'C': 100, 'solver': 'liblinear'}\n",
            "Best Cross-validation Score: 0.567791147400086\n",
            "\n",
            "Akurasi Logistic Regression setelah Optimasi: 0.5489\n",
            "\n",
            "Confusion Matrix setelah Optimasi:\n",
            "[[566 254]\n",
            " [438 276]]\n",
            "\n",
            "Classification Report setelah Optimasi:\n",
            "              precision    recall  f1-score   support\n",
            "\n",
            "           0       0.56      0.69      0.62       820\n",
            "           1       0.52      0.39      0.44       714\n",
            "\n",
            "    accuracy                           0.55      1534\n",
            "   macro avg       0.54      0.54      0.53      1534\n",
            "weighted avg       0.54      0.55      0.54      1534\n",
            "\n"
          ]
        }
      ],
      "source": [
        "from sklearn.model_selection import GridSearchCV\n",
        "\n",
        "# Menentukan parameter yang ingin dioptimasi\n",
        "param_grid = {\n",
        "    'C': [0.01, 0.1, 1, 10, 100],  # Regularization strength\n",
        "    'solver': ['liblinear', 'lbfgs']  # Solver yang digunakan untuk optimasi\n",
        "}\n",
        "\n",
        "# Inisialisasi GridSearchCV\n",
        "grid_search = GridSearchCV(estimator=log_reg_model, param_grid=param_grid, cv=5, scoring='accuracy')\n",
        "grid_search.fit(X_train, y_train)\n",
        "\n",
        "# Menampilkan hasil terbaik dari Grid Search\n",
        "print(f\"\\nBest Parameters for Logistic Regression: {grid_search.best_params_}\")\n",
        "print(f\"Best Cross-validation Score: {grid_search.best_score_}\")\n",
        "\n",
        "# Evaluasi model setelah optimasi\n",
        "best_log_reg_model = grid_search.best_estimator_\n",
        "y_pred_best_log_reg = best_log_reg_model.predict(X_test)\n",
        "\n",
        "# Evaluasi model setelah optimasi\n",
        "accuracy_best_log_reg = accuracy_score(y_test, y_pred_best_log_reg)\n",
        "print(f\"\\nAkurasi Logistic Regression setelah Optimasi: {accuracy_best_log_reg:.4f}\")\n",
        "\n",
        "print(\"\\nConfusion Matrix setelah Optimasi:\")\n",
        "print(confusion_matrix(y_test, y_pred_best_log_reg))\n",
        "\n",
        "print(\"\\nClassification Report setelah Optimasi:\")\n",
        "print(classification_report(y_test, y_pred_best_log_reg))\n"
      ]
    },
    {
      "cell_type": "markdown",
      "metadata": {
        "id": "-GgLdynC2YNE"
      },
      "source": [
        "# Confusion Matrix"
      ]
    },
    {
      "cell_type": "code",
      "execution_count": 182,
      "metadata": {
        "colab": {
          "base_uri": "https://localhost:8080/",
          "height": 472
        },
        "id": "u33Un9hicO5R",
        "outputId": "e5d25f7f-48dd-49ea-ba97-a8647a5f21c2"
      },
      "outputs": [
        {
          "output_type": "display_data",
          "data": {
            "text/plain": [
              "<Figure size 640x480 with 2 Axes>"
            ],
            "image/png": "[encoded data removed]"
          },
          "metadata": {}
        }
      ],
      "source": [
        "from sklearn.metrics import confusion_matrix, ConfusionMatrixDisplay\n",
        "\n",
        "# Menghitung Confusion Matrix\n",
        "cm_log_reg = confusion_matrix(y_test, y_pred_log_reg)\n",
        "\n",
        "# Menampilkan Confusion Matrix\n",
        "disp = ConfusionMatrixDisplay(confusion_matrix=cm_log_reg, display_labels=log_reg_model.classes_)\n",
        "disp.plot(cmap=\"Blues\")\n",
        "plt.title(\"Confusion Matrix Logistic Regression (Sebelum Optimasi)\")\n",
        "plt.show()\n"
      ]
    },
    {
      "cell_type": "markdown",
      "metadata": {
        "id": "Xv-lhtRCj2WC"
      },
      "source": [
        "Gambar di atas adalah sebuah matriks yang digunakan untuk menilai keakuratan model komputer dalam membuat prediksi. Model ini mencoba memprediksi apakah suatu data termasuk dalam kategori \"0\" atau \"1\". Matriks ini menunjukkan empat jenis hasil: prediksi benar dan salah. Ada 9.841 data yang diprediksi dengan benar sebagai \"0\", tetapi ada 17.859 data yang seharusnya \"0\" justru diprediksi salah sebagai \"1\". Sebaliknya, ada 50.740 data yang diprediksi dengan benar sebagai \"1\", tetapi ada 7.363 data yang seharusnya \"1\" malah diprediksi salah sebagai \"0\". Warna dalam matriks menunjukkan jumlah data, di mana warna yang lebih gelap berarti jumlahnya lebih banyak. Dengan melihat matriks ini, kita dapat menyimpulkan bahwa model ini sudah cukup baik dalam memprediksi kategori \"1\", tetapi masih sering salah memprediksi kategori \"0\". Hal ini menunjukkan bahwa model ini masih bisa ditingkatkan agar lebih akurat."
      ]
    },
    {
      "cell_type": "markdown",
      "metadata": {
        "id": "VTO055Ntk7Kp"
      },
      "source": [
        "# Precision, Recall, dan F1-Score Logistic Regression Sebelum Praproses"
      ]
    },
    {
      "cell_type": "code",
      "execution_count": 183,
      "metadata": {
        "id": "IS0buxSHessC"
      },
      "outputs": [],
      "source": [
        "y_pred = log_reg_model.predict(X_test)\n"
      ]
    },
    {
      "cell_type": "code",
      "execution_count": 184,
      "metadata": {
        "colab": {
          "base_uri": "https://localhost:8080/",
          "height": 545
        },
        "id": "2IygJGJvfNno",
        "outputId": "76d2599a-c3c3-4836-92a9-bfbbdcf5e64f"
      },
      "outputs": [
        {
          "output_type": "display_data",
          "data": {
            "text/plain": [
              "<Figure size 1000x600 with 1 Axes>"
            ],
            "image/png": "[encoded data removed]"
          },
          "metadata": {}
        }
      ],
      "source": [
        "from sklearn.metrics import classification_report\n",
        "import pandas as pd\n",
        "import matplotlib.pyplot as plt\n",
        "\n",
        "# Ambil laporan klasifikasi untuk model sebelum praproses sebagai DataFrame\n",
        "report_pre = classification_report(y_test, y_pred, output_dict=True)\n",
        "report_pre_df = pd.DataFrame(report_pre).transpose()\n",
        "\n",
        "# Plot precision, recall, dan f1-score untuk model sebelum praproses\n",
        "plt.figure(figsize=(10, 6))\n",
        "report_pre_df.iloc[:-1, :3].plot(kind='bar', ax=plt.gca())  # Mengambil hanya precision, recall, dan f1-score\n",
        "plt.title('Precision, Recall, dan F1-Score Logistic Regression Sebelum Praproses')\n",
        "plt.ylabel('Skor')\n",
        "plt.xticks(rotation=0)\n",
        "plt.legend(title='Metrik')\n",
        "plt.grid(axis='y')\n",
        "plt.show()\n"
      ]
    },
    {
      "cell_type": "markdown",
      "metadata": {
        "id": "RMQtfzQ4j-Ua"
      },
      "source": [
        "Grafik ini menunjukkan bagaimana model komputer menilai data dalam dua kategori, yaitu \"0\" dan \"1\", sebelum proses pengolahan data dilakukan. Ada tiga hal utama yang dievaluasi: precision, recall, dan f1-score. Precision menunjukkan seberapa tepat model saat membuat prediksi, dan hasilnya lebih baik untuk kategori \"1\" (sekitar 80%) dibanding kategori \"0\" (sekitar 60%). Recall menunjukkan seberapa baik model menemukan data yang benar untuk tiap kategori. Model ini sangat baik dalam mendeteksi kategori \"1\" (sekitar 90%) tetapi kurang baik untuk kategori \"0\" (hanya sekitar 40%). F1-score adalah kombinasi dari precision dan recall, yang juga menunjukkan hasil serupa—kategori \"1\" jauh lebih baik daripada kategori \"0\". Secara keseluruhan, model ini memiliki akurasi sekitar 80%, yang berarti model ini cukup sering membuat prediksi yang benar. Namun, performanya lebih baik untuk kategori \"1\" dibanding kategori \"0\". Hal ini menunjukkan bahwa model masih perlu ditingkatkan, terutama agar lebih akurat dalam mengenali kategori \"0\"."
      ]
    },
    {
      "cell_type": "markdown",
      "metadata": {
        "id": "OZYxfR3JlEbF"
      },
      "source": [
        "# ROC Curve Logistic Regression Sebelum Praproses"
      ]
    },
    {
      "cell_type": "code",
      "execution_count": 185,
      "metadata": {
        "colab": {
          "base_uri": "https://localhost:8080/",
          "height": 564
        },
        "id": "SccyCM65ducO",
        "outputId": "08b66749-9f72-4725-cef4-664fff255693"
      },
      "outputs": [
        {
          "output_type": "display_data",
          "data": {
            "text/plain": [
              "<Figure size 800x600 with 1 Axes>"
            ],
            "image/png": "[encoded data removed]"
          },
          "metadata": {}
        }
      ],
      "source": [
        "from sklearn.metrics import roc_curve, auc\n",
        "\n",
        "# Mendapatkan probabilitas prediksi untuk kelas positif\n",
        "y_pred_proba = log_reg_model.predict_proba(X_test)[:, 1]  # Probabilitas untuk kelas 1 (positif)\n",
        "\n",
        "# Menghitung ROC Curve dan AUC\n",
        "fpr, tpr, thresholds = roc_curve(y_test, y_pred_proba)  # fpr: False Positive Rate, tpr: True Positive Rate\n",
        "roc_auc = auc(fpr, tpr)  # Menghitung Area Under Curve (AUC)\n",
        "\n",
        "# Plot ROC Curve\n",
        "plt.figure(figsize=(8, 6))\n",
        "plt.plot(fpr, tpr, color='blue', label=f'ROC Curve (AUC = {roc_auc:.4f})')\n",
        "plt.plot([0, 1], [0, 1], color='red', linestyle='--', label='Baseline (AUC = 0.5)')\n",
        "plt.title('ROC Curve Logistic Regression Sebelum Praproses')\n",
        "plt.xlabel('False Positive Rate')\n",
        "plt.ylabel('True Positive Rate')\n",
        "plt.legend()\n",
        "plt.grid()\n",
        "plt.show()\n"
      ]
    },
    {
      "cell_type": "markdown",
      "metadata": {
        "id": "ZlPzH17CkCJq"
      },
      "source": [
        "Grafik di atas adalah ROC curve (Receiver Operating Characteristic curve) yang digunakan untuk menilai seberapa baik model komputer membedakan antara dua kategori, yaitu \"0\" dan \"1\". Garis biru menunjukkan performa model, sedangkan garis merah putus-putus adalah garis dasar (baseline) yang mewakili prediksi acak dengan nilai AUC (Area Under the Curve) sebesar 0,5.\n",
        "\n",
        "Nilai AUC untuk model ini adalah 0,6877, yang berarti model memiliki kemampuan membedakan kategori \"0\" dan \"1\" lebih baik dibandingkan prediksi acak. Semakin mendekati nilai 1, semakin baik kemampuan model dalam membuat prediksi. Namun, dengan nilai AUC ini, performa model masih belum optimal dan menunjukkan bahwa ada ruang untuk perbaikan agar model lebih akurat dalam memisahkan kedua kategori.\n",
        "\n",
        "Secara visual, kurva biru yang menjauh dari garis merah menunjukkan bahwa model cukup baik dalam menangkap data positif yang benar (True Positive Rate), tetapi masih menghasilkan kesalahan berupa data negatif palsu (False Positive Rate) dalam jumlah yang cukup signifikan. Optimasi lebih lanjut dapat membantu meningkatkan performa model ini."
      ]
    },
    {
      "cell_type": "markdown",
      "metadata": {
        "id": "hPQf-FAg4Xi8"
      },
      "source": [
        "# Mengganti Nilai '?' menjadi NaN"
      ]
    },
    {
      "cell_type": "code",
      "execution_count": 155,
      "metadata": {
        "id": "qsUGztbl4adJ"
      },
      "outputs": [],
      "source": [
        "# Mengganti semua nilai '?' dalam dataset dengan NaN agar mudah diidentifikasi sebagai nilai hilang\n",
        "Transact_Train.replace('?', np.nan, inplace=True)"
      ]
    },
    {
      "cell_type": "markdown",
      "metadata": {
        "id": "2eYQ1gvv4dyu"
      },
      "source": [
        "# Memeriksa Nilai Hilang dalam Dataset Transact Train"
      ]
    },
    {
      "cell_type": "code",
      "execution_count": 156,
      "metadata": {
        "colab": {
          "base_uri": "https://localhost:8080/",
          "height": 836
        },
        "id": "kHeNAfuW4hx-",
        "outputId": "56d6a0f7-31b4-420d-d0d6-d9011e32094e"
      },
      "outputs": [
        {
          "output_type": "execute_result",
          "data": {
            "text/plain": [
              "sessionNo               0\n",
              "startHour               0\n",
              "startWeekday            0\n",
              "duration                0\n",
              "cCount                  0\n",
              "cMinPrice            2765\n",
              "cMaxPrice            2765\n",
              "cSumPrice            2765\n",
              "bCount                  0\n",
              "bMinPrice            5130\n",
              "bMaxPrice            5130\n",
              "bSumPrice            5130\n",
              "bStep              191333\n",
              "onlineStatus       160379\n",
              "availability       165255\n",
              "customerNo         151098\n",
              "maxVal             153740\n",
              "customerScore      153740\n",
              "accountLifetime    153740\n",
              "payments           151098\n",
              "age                151396\n",
              "address            151098\n",
              "lastOrder          151098\n",
              "order                   0\n",
              "dtype: int64"
            ],
            "text/html": [
              "<div>\n",
              "<style scoped>\n",
              "    .dataframe tbody tr th:only-of-type {\n",
              "        vertical-align: middle;\n",
              "    }\n",
              "\n",
              "    .dataframe tbody tr th {\n",
              "        vertical-align: top;\n",
              "    }\n",
              "\n",
              "    .dataframe thead th {\n",
              "        text-align: right;\n",
              "    }\n",
              "</style>\n",
              "<table border=\"1\" class=\"dataframe\">\n",
              "  <thead>\n",
              "    <tr style=\"text-align: right;\">\n",
              "      <th></th>\n",
              "      <th>0</th>\n",
              "    </tr>\n",
              "  </thead>\n",
              "  <tbody>\n",
              "    <tr>\n",
              "      <th>sessionNo</th>\n",
              "      <td>0</td>\n",
              "    </tr>\n",
              "    <tr>\n",
              "      <th>startHour</th>\n",
              "      <td>0</td>\n",
              "    </tr>\n",
              "    <tr>\n",
              "      <th>startWeekday</th>\n",
              "      <td>0</td>\n",
              "    </tr>\n",
              "    <tr>\n",
              "      <th>duration</th>\n",
              "      <td>0</td>\n",
              "    </tr>\n",
              "    <tr>\n",
              "      <th>cCount</th>\n",
              "      <td>0</td>\n",
              "    </tr>\n",
              "    <tr>\n",
              "      <th>cMinPrice</th>\n",
              "      <td>2765</td>\n",
              "    </tr>\n",
              "    <tr>\n",
              "      <th>cMaxPrice</th>\n",
              "      <td>2765</td>\n",
              "    </tr>\n",
              "    <tr>\n",
              "      <th>cSumPrice</th>\n",
              "      <td>2765</td>\n",
              "    </tr>\n",
              "    <tr>\n",
              "      <th>bCount</th>\n",
              "      <td>0</td>\n",
              "    </tr>\n",
              "    <tr>\n",
              "      <th>bMinPrice</th>\n",
              "      <td>5130</td>\n",
              "    </tr>\n",
              "    <tr>\n",
              "      <th>bMaxPrice</th>\n",
              "      <td>5130</td>\n",
              "    </tr>\n",
              "    <tr>\n",
              "      <th>bSumPrice</th>\n",
              "      <td>5130</td>\n",
              "    </tr>\n",
              "    <tr>\n",
              "      <th>bStep</th>\n",
              "      <td>191333</td>\n",
              "    </tr>\n",
              "    <tr>\n",
              "      <th>onlineStatus</th>\n",
              "      <td>160379</td>\n",
              "    </tr>\n",
              "    <tr>\n",
              "      <th>availability</th>\n",
              "      <td>165255</td>\n",
              "    </tr>\n",
              "    <tr>\n",
              "      <th>customerNo</th>\n",
              "      <td>151098</td>\n",
              "    </tr>\n",
              "    <tr>\n",
              "      <th>maxVal</th>\n",
              "      <td>153740</td>\n",
              "    </tr>\n",
              "    <tr>\n",
              "      <th>customerScore</th>\n",
              "      <td>153740</td>\n",
              "    </tr>\n",
              "    <tr>\n",
              "      <th>accountLifetime</th>\n",
              "      <td>153740</td>\n",
              "    </tr>\n",
              "    <tr>\n",
              "      <th>payments</th>\n",
              "      <td>151098</td>\n",
              "    </tr>\n",
              "    <tr>\n",
              "      <th>age</th>\n",
              "      <td>151396</td>\n",
              "    </tr>\n",
              "    <tr>\n",
              "      <th>address</th>\n",
              "      <td>151098</td>\n",
              "    </tr>\n",
              "    <tr>\n",
              "      <th>lastOrder</th>\n",
              "      <td>151098</td>\n",
              "    </tr>\n",
              "    <tr>\n",
              "      <th>order</th>\n",
              "      <td>0</td>\n",
              "    </tr>\n",
              "  </tbody>\n",
              "</table>\n",
              "</div><br><label><b>dtype:</b> int64</label>"
            ]
          },
          "metadata": {},
          "execution_count": 156
        }
      ],
      "source": [
        "Transact_Train.isnull().sum()"
      ]
    },
    {
      "cell_type": "markdown",
      "metadata": {
        "id": "8yqmNuzVgkEZ"
      },
      "source": [
        "# **Praproses Data: Konversi dan Imputasi Nilai Hilang pada Kolom Numerik**"
      ]
    },
    {
      "cell_type": "code",
      "execution_count": 157,
      "metadata": {
        "id": "PnpW_cVmvUcG"
      },
      "outputs": [],
      "source": [
        "numeric_cols = ['cMinPrice', 'cMaxPrice', 'cSumPrice', 'bMinPrice', 'bMaxPrice', 'bSumPrice', 'maxVal', 'customerScore', 'accountLifetime', 'payments', 'age', 'lastOrder']\n",
        "for col in numeric_cols:\n",
        "    # Konversi tipe data menjadi numerik\n",
        "    Transact_Train[col] = pd.to_numeric(Transact_Train[col], errors='coerce')\n",
        "    # Mengisi nilai NaN dengan median, tanpa inplace=True\n",
        "    Transact_Train[col] = Transact_Train[col].fillna(Transact_Train[col].median())\n"
      ]
    },
    {
      "cell_type": "markdown",
      "source": [
        "Median dipilih karena lebih tahan terhadap outlier dibandingkan rata-rata (mean). Jika data memiliki distribusi miring, median akan memberikan pengganti nilai yang lebih representatif, sehingga mengurangi potensi bias dalam analisis."
      ],
      "metadata": {
        "id": "VziVtblAPHB_"
      }
    },
    {
      "cell_type": "code",
      "execution_count": 158,
      "metadata": {
        "colab": {
          "base_uri": "https://localhost:8080/"
        },
        "id": "sSfLbcYgv8wq",
        "outputId": "ad2be8d5-851d-44b6-a93a-fad8afe62833"
      },
      "outputs": [
        {
          "output_type": "stream",
          "name": "stdout",
          "text": [
            "sessionNo               0\n",
            "startHour               0\n",
            "startWeekday            0\n",
            "duration                0\n",
            "cCount                  0\n",
            "cMinPrice               0\n",
            "cMaxPrice               0\n",
            "cSumPrice               0\n",
            "bCount                  0\n",
            "bMinPrice               0\n",
            "bMaxPrice               0\n",
            "bSumPrice               0\n",
            "bStep              191333\n",
            "onlineStatus       160379\n",
            "availability       165255\n",
            "customerNo         151098\n",
            "maxVal                  0\n",
            "customerScore           0\n",
            "accountLifetime         0\n",
            "payments                0\n",
            "age                     0\n",
            "address            151098\n",
            "lastOrder               0\n",
            "order                   0\n",
            "dtype: int64\n"
          ]
        }
      ],
      "source": [
        "# Cek kembali apakah ada nilai hilang di dataset\n",
        "print(Transact_Train.isnull().sum())"
      ]
    },
    {
      "cell_type": "markdown",
      "metadata": {
        "id": "vKFy40d7hS5z"
      },
      "source": [
        "# **Mengisi Nilai Hilang**"
      ]
    },
    {
      "cell_type": "code",
      "execution_count": 159,
      "metadata": {
        "id": "2Z8Z0rXIwNkH"
      },
      "outputs": [],
      "source": [
        "# Isi nilai hilang pada kolom 'onlineStatus' dan 'availability' dengan kategori 'unknown'\n",
        "Transact_Train['onlineStatus'] = Transact_Train['onlineStatus'].fillna('unknown')\n",
        "Transact_Train['availability'] = Transact_Train['availability'].fillna('unknown')\n",
        "Transact_Train['address'] = Transact_Train['address'].fillna('unknown')\n",
        "\n",
        "# Isi nilai hilang pada kolom 'bStep' dengan modus\n",
        "Transact_Train['bStep'] = Transact_Train['bStep'].fillna(Transact_Train['bStep'].mode()[0])\n"
      ]
    },
    {
      "cell_type": "markdown",
      "source": [
        "Nilai null pada kolom bStep diisi dengan modus (nilai yang paling sering muncul) karena Modus adalah pengganti yang ideal untuk data kategori, karena memberikan nilai yang mewakili mayoritas sampel dalam kolom tersebut dan Menggunakan modus memastikan bahwa pola distribusi kategori tetap terjaga dan tidak mengubah representasi data secara signifikan."
      ],
      "metadata": {
        "id": "jnLdAXsPPXgW"
      }
    },
    {
      "cell_type": "markdown",
      "metadata": {
        "id": "pHbinhNtiGsu"
      },
      "source": [
        "# **Menghapus Kolom yang Tidak Relevan**"
      ]
    },
    {
      "cell_type": "code",
      "execution_count": 160,
      "metadata": {
        "id": "eLc1qCy8wQlb"
      },
      "outputs": [],
      "source": [
        "# Hapus kolom 'customerNo' karena tidak relevan untuk prediksi\n",
        "Transact_Train.drop(columns=['customerNo'], inplace=True)"
      ]
    },
    {
      "cell_type": "markdown",
      "metadata": {
        "id": "bCmNG_l8id2i"
      },
      "source": [
        "Kolom 'customerNo' dihapus karena tidak relevan untuk prediksi. Ini adalah nomor identifikasi unik untuk setiap pelanggan yang tidak memberikan informasi penting tentang pola yang mempengaruhi hasil. Menyimpan kolom ini bisa menyebabkan model belajar dari data yang tidak berguna, yang dapat mengurangi akurasi. Dengan menghapus kolom ini, kita dapat menyederhanakan model dan fokus pada fitur-fitur yang benar-benar penting, sehingga meningkatkan kinerja model secara keseluruhan."
      ]
    },
    {
      "cell_type": "markdown",
      "metadata": {
        "id": "jJwRYXthjBUt"
      },
      "source": [
        "# **Konversi Kolom 'order' ke Numerik**"
      ]
    },
    {
      "cell_type": "code",
      "execution_count": 161,
      "metadata": {
        "id": "ZTAZnR5hwSDr"
      },
      "outputs": [],
      "source": [
        "Transact_Train['order'] = Transact_Train['order'].map({'y': 1, 'n': 0})"
      ]
    },
    {
      "cell_type": "markdown",
      "metadata": {
        "id": "yycH8EFxjf5X"
      },
      "source": [
        "Nilai 'y' diubah menjadi 1 (menandakan pesanan terjadi) dan 'n' menjadi 0 (menandakan pesanan tidak terjadi)"
      ]
    },
    {
      "cell_type": "code",
      "execution_count": 162,
      "metadata": {
        "colab": {
          "base_uri": "https://localhost:8080/"
        },
        "id": "nTBtxZzWwTtn",
        "outputId": "01b245c0-8ff1-4fab-eb7a-7bce3c911345"
      },
      "outputs": [
        {
          "output_type": "stream",
          "name": "stdout",
          "text": [
            "sessionNo          0\n",
            "startHour          0\n",
            "startWeekday       0\n",
            "duration           0\n",
            "cCount             0\n",
            "cMinPrice          0\n",
            "cMaxPrice          0\n",
            "cSumPrice          0\n",
            "bCount             0\n",
            "bMinPrice          0\n",
            "bMaxPrice          0\n",
            "bSumPrice          0\n",
            "bStep              0\n",
            "onlineStatus       0\n",
            "availability       0\n",
            "maxVal             0\n",
            "customerScore      0\n",
            "accountLifetime    0\n",
            "payments           0\n",
            "age                0\n",
            "address            0\n",
            "lastOrder          0\n",
            "order              0\n",
            "dtype: int64\n"
          ]
        }
      ],
      "source": [
        "# Cek apakah masih ada nilai hilang di dataset\n",
        "print(Transact_Train.isnull().sum())"
      ]
    },
    {
      "cell_type": "markdown",
      "metadata": {
        "id": "7xMmooaMkTeh"
      },
      "source": [
        "tidak ada kolom yang memiliki nilai hilang, dengan semua kolom menunjukkan nilai 0. Hal ini disebabkan karena nilai hilang telah diisi dengan menggunakan metode yang tepat, seperti mengisi dengan nilai modus untuk kolom numerik dan dengan 'unknown' untuk kolom kategorikal."
      ]
    },
    {
      "cell_type": "code",
      "execution_count": 163,
      "metadata": {
        "id": "XtSWGn7gwpQn"
      },
      "outputs": [],
      "source": [
        "# Menggunakan one-hot encoding untuk kolom kategorikal\n",
        "Transact_Train = pd.get_dummies(Transact_Train, columns=['bStep', 'onlineStatus', 'availability', 'address'], drop_first=True)\n"
      ]
    },
    {
      "cell_type": "code",
      "execution_count": 164,
      "metadata": {
        "colab": {
          "base_uri": "https://localhost:8080/"
        },
        "id": "s0lBKzCWwraP",
        "outputId": "62cab16c-ff05-47db-94e6-b3e99bd9dfbe"
      },
      "outputs": [
        {
          "output_type": "stream",
          "name": "stdout",
          "text": [
            "<class 'pandas.core.frame.DataFrame'>\n",
            "RangeIndex: 429013 entries, 0 to 429012\n",
            "Data columns (total 35 columns):\n",
            " #   Column                                 Non-Null Count   Dtype  \n",
            "---  ------                                 --------------   -----  \n",
            " 0   sessionNo                              429013 non-null  int64  \n",
            " 1   startHour                              429013 non-null  int64  \n",
            " 2   startWeekday                           429013 non-null  int64  \n",
            " 3   duration                               429013 non-null  float64\n",
            " 4   cCount                                 429013 non-null  int64  \n",
            " 5   cMinPrice                              429013 non-null  float64\n",
            " 6   cMaxPrice                              429013 non-null  float64\n",
            " 7   cSumPrice                              429013 non-null  float64\n",
            " 8   bCount                                 429013 non-null  int64  \n",
            " 9   bMinPrice                              429013 non-null  float64\n",
            " 10  bMaxPrice                              429013 non-null  float64\n",
            " 11  bSumPrice                              429013 non-null  float64\n",
            " 12  maxVal                                 429013 non-null  float64\n",
            " 13  customerScore                          429013 non-null  float64\n",
            " 14  accountLifetime                        429013 non-null  float64\n",
            " 15  payments                               429013 non-null  float64\n",
            " 16  age                                    429013 non-null  float64\n",
            " 17  lastOrder                              429013 non-null  float64\n",
            " 18  order                                  429013 non-null  int64  \n",
            " 19  bStep_2                                429013 non-null  bool   \n",
            " 20  bStep_3                                429013 non-null  bool   \n",
            " 21  bStep_4                                429013 non-null  bool   \n",
            " 22  bStep_5                                429013 non-null  bool   \n",
            " 23  onlineStatus_unknown                   429013 non-null  bool   \n",
            " 24  onlineStatus_y                         429013 non-null  bool   \n",
            " 25  availability_completely not orderable  429013 non-null  bool   \n",
            " 26  availability_completely orderable      429013 non-null  bool   \n",
            " 27  availability_mainly not determinable   429013 non-null  bool   \n",
            " 28  availability_mainly not orderable      429013 non-null  bool   \n",
            " 29  availability_mainly orderable          429013 non-null  bool   \n",
            " 30  availability_mixed                     429013 non-null  bool   \n",
            " 31  availability_unknown                   429013 non-null  bool   \n",
            " 32  address_2                              429013 non-null  bool   \n",
            " 33  address_3                              429013 non-null  bool   \n",
            " 34  address_unknown                        429013 non-null  bool   \n",
            "dtypes: bool(16), float64(13), int64(6)\n",
            "memory usage: 68.7 MB\n"
          ]
        }
      ],
      "source": [
        "# Periksa dataset setelah one-hot encoding\n",
        "Transact_Train.info()"
      ]
    },
    {
      "cell_type": "markdown",
      "metadata": {
        "id": "Wwarg4DWks0v"
      },
      "source": [
        "# **Memisahkan Fitur dan Target**"
      ]
    },
    {
      "cell_type": "code",
      "execution_count": 165,
      "metadata": {
        "id": "GvNGTbFHw9zh"
      },
      "outputs": [],
      "source": [
        "# Pisahkan fitur dan target\n",
        "X = Transact_Train.drop('order', axis=1)  # Semua kolom kecuali 'order'\n",
        "y = Transact_Train['order']               # Kolom target\n"
      ]
    },
    {
      "cell_type": "markdown",
      "metadata": {
        "id": "pYMADRdokzBe"
      },
      "source": [
        "# **Proses Membagi Data**"
      ]
    },
    {
      "cell_type": "code",
      "execution_count": 166,
      "metadata": {
        "id": "iunbqNJqxAye"
      },
      "outputs": [],
      "source": [
        "from sklearn.model_selection import train_test_split\n",
        "\n",
        "# Membagi data\n",
        "X_train, X_test, y_train, y_test = train_test_split(X, y, test_size=0.2, random_state=42)\n"
      ]
    },
    {
      "cell_type": "markdown",
      "metadata": {
        "id": "kjajex_4k3Qh"
      },
      "source": [
        "# **Standarisasi Data Latih dan Uji**\n"
      ]
    },
    {
      "cell_type": "code",
      "execution_count": 167,
      "metadata": {
        "id": "pXwm2UplxDox"
      },
      "outputs": [],
      "source": [
        "from sklearn.preprocessing import StandardScaler\n",
        "\n",
        "# Standarisasi data latih dan data uji\n",
        "scaler = StandardScaler()\n",
        "X_train = scaler.fit_transform(X_train)\n",
        "X_test = scaler.transform(X_test)\n"
      ]
    },
    {
      "cell_type": "markdown",
      "metadata": {
        "id": "DVp3k9rtlMlI"
      },
      "source": [
        "# **Inisialisasi dan Pelatihan Model Regresi Logistik**"
      ]
    },
    {
      "cell_type": "code",
      "execution_count": 168,
      "metadata": {
        "colab": {
          "base_uri": "https://localhost:8080/",
          "height": 80
        },
        "id": "6cmt5QC5xH9X",
        "outputId": "07a9d663-e712-42b0-a7cd-6006aeac8562"
      },
      "outputs": [
        {
          "output_type": "execute_result",
          "data": {
            "text/plain": [
              "LogisticRegression(max_iter=1000, random_state=42)"
            ],
            "text/html": [
              "<style>#sk-container-id-5 {\n",
              "  /* Definition of color scheme common for light and dark mode */\n",
              "  --sklearn-color-text: black;\n",
              "  --sklearn-color-line: gray;\n",
              "  /* Definition of color scheme for unfitted estimators */\n",
              "  --sklearn-color-unfitted-level-0: #fff5e6;\n",
              "  --sklearn-color-unfitted-level-1: #f6e4d2;\n",
              "  --sklearn-color-unfitted-level-2: #ffe0b3;\n",
              "  --sklearn-color-unfitted-level-3: chocolate;\n",
              "  /* Definition of color scheme for fitted estimators */\n",
              "  --sklearn-color-fitted-level-0: #f0f8ff;\n",
              "  --sklearn-color-fitted-level-1: #d4ebff;\n",
              "  --sklearn-color-fitted-level-2: #b3dbfd;\n",
              "  --sklearn-color-fitted-level-3: cornflowerblue;\n",
              "\n",
              "  /* Specific color for light theme */\n",
              "  --sklearn-color-text-on-default-background: var(--sg-text-color, var(--theme-code-foreground, var(--jp-content-font-color1, black)));\n",
              "  --sklearn-color-background: var(--sg-background-color, var(--theme-background, var(--jp-layout-color0, white)));\n",
              "  --sklearn-color-border-box: var(--sg-text-color, var(--theme-code-foreground, var(--jp-content-font-color1, black)));\n",
              "  --sklearn-color-icon: #696969;\n",
              "\n",
              "  @media (prefers-color-scheme: dark) {\n",
              "    /* Redefinition of color scheme for dark theme */\n",
              "    --sklearn-color-text-on-default-background: var(--sg-text-color, var(--theme-code-foreground, var(--jp-content-font-color1, white)));\n",
              "    --sklearn-color-background: var(--sg-background-color, var(--theme-background, var(--jp-layout-color0, #111)));\n",
              "    --sklearn-color-border-box: var(--sg-text-color, var(--theme-code-foreground, var(--jp-content-font-color1, white)));\n",
              "    --sklearn-color-icon: #878787;\n",
              "  }\n",
              "}\n",
              "\n",
              "#sk-container-id-5 {\n",
              "  color: var(--sklearn-color-text);\n",
              "}\n",
              "\n",
              "#sk-container-id-5 pre {\n",
              "  padding: 0;\n",
              "}\n",
              "\n",
              "#sk-container-id-5 input.sk-hidden--visually {\n",
              "  border: 0;\n",
              "  clip: rect(1px 1px 1px 1px);\n",
              "  clip: rect(1px, 1px, 1px, 1px);\n",
              "  height: 1px;\n",
              "  margin: -1px;\n",
              "  overflow: hidden;\n",
              "  padding: 0;\n",
              "  position: absolute;\n",
              "  width: 1px;\n",
              "}\n",
              "\n",
              "#sk-container-id-5 div.sk-dashed-wrapped {\n",
              "  border: 1px dashed var(--sklearn-color-line);\n",
              "  margin: 0 0.4em 0.5em 0.4em;\n",
              "  box-sizing: border-box;\n",
              "  padding-bottom: 0.4em;\n",
              "  background-color: var(--sklearn-color-background);\n",
              "}\n",
              "\n",
              "#sk-container-id-5 div.sk-container {\n",
              "  /* jupyter's `normalize.less` sets `[hidden] { display: none; }`\n",
              "     but bootstrap.min.css set `[hidden] { display: none !important; }`\n",
              "     so we also need the `!important` here to be able to override the\n",
              "     default hidden behavior on the sphinx rendered scikit-learn.org.\n",
              "     See: https://github.com/scikit-learn/scikit-learn/issues/21755 */\n",
              "  display: inline-block !important;\n",
              "  position: relative;\n",
              "}\n",
              "\n",
              "#sk-container-id-5 div.sk-text-repr-fallback {\n",
              "  display: none;\n",
              "}\n",
              "\n",
              "div.sk-parallel-item,\n",
              "div.sk-serial,\n",
              "div.sk-item {\n",
              "  /* draw centered vertical line to link estimators */\n",
              "  background-image: linear-gradient(var(--sklearn-color-text-on-default-background), var(--sklearn-color-text-on-default-background));\n",
              "  background-size: 2px 100%;\n",
              "  background-repeat: no-repeat;\n",
              "  background-position: center center;\n",
              "}\n",
              "\n",
              "/* Parallel-specific style estimator block */\n",
              "\n",
              "#sk-container-id-5 div.sk-parallel-item::after {\n",
              "  content: \"\";\n",
              "  width: 100%;\n",
              "  border-bottom: 2px solid var(--sklearn-color-text-on-default-background);\n",
              "  flex-grow: 1;\n",
              "}\n",
              "\n",
              "#sk-container-id-5 div.sk-parallel {\n",
              "  display: flex;\n",
              "  align-items: stretch;\n",
              "  justify-content: center;\n",
              "  background-color: var(--sklearn-color-background);\n",
              "  position: relative;\n",
              "}\n",
              "\n",
              "#sk-container-id-5 div.sk-parallel-item {\n",
              "  display: flex;\n",
              "  flex-direction: column;\n",
              "}\n",
              "\n",
              "#sk-container-id-5 div.sk-parallel-item:first-child::after {\n",
              "  align-self: flex-end;\n",
              "  width: 50%;\n",
              "}\n",
              "\n",
              "#sk-container-id-5 div.sk-parallel-item:last-child::after {\n",
              "  align-self: flex-start;\n",
              "  width: 50%;\n",
              "}\n",
              "\n",
              "#sk-container-id-5 div.sk-parallel-item:only-child::after {\n",
              "  width: 0;\n",
              "}\n",
              "\n",
              "/* Serial-specific style estimator block */\n",
              "\n",
              "#sk-container-id-5 div.sk-serial {\n",
              "  display: flex;\n",
              "  flex-direction: column;\n",
              "  align-items: center;\n",
              "  background-color: var(--sklearn-color-background);\n",
              "  padding-right: 1em;\n",
              "  padding-left: 1em;\n",
              "}\n",
              "\n",
              "\n",
              "/* Toggleable style: style used for estimator/Pipeline/ColumnTransformer box that is\n",
              "clickable and can be expanded/collapsed.\n",
              "- Pipeline and ColumnTransformer use this feature and define the default style\n",
              "- Estimators will overwrite some part of the style using the `sk-estimator` class\n",
              "*/\n",
              "\n",
              "/* Pipeline and ColumnTransformer style (default) */\n",
              "\n",
              "#sk-container-id-5 div.sk-toggleable {\n",
              "  /* Default theme specific background. It is overwritten whether we have a\n",
              "  specific estimator or a Pipeline/ColumnTransformer */\n",
              "  background-color: var(--sklearn-color-background);\n",
              "}\n",
              "\n",
              "/* Toggleable label */\n",
              "#sk-container-id-5 label.sk-toggleable__label {\n",
              "  cursor: pointer;\n",
              "  display: block;\n",
              "  width: 100%;\n",
              "  margin-bottom: 0;\n",
              "  padding: 0.5em;\n",
              "  box-sizing: border-box;\n",
              "  text-align: center;\n",
              "}\n",
              "\n",
              "#sk-container-id-5 label.sk-toggleable__label-arrow:before {\n",
              "  /* Arrow on the left of the label */\n",
              "  content: \"▸\";\n",
              "  float: left;\n",
              "  margin-right: 0.25em;\n",
              "  color: var(--sklearn-color-icon);\n",
              "}\n",
              "\n",
              "#sk-container-id-5 label.sk-toggleable__label-arrow:hover:before {\n",
              "  color: var(--sklearn-color-text);\n",
              "}\n",
              "\n",
              "/* Toggleable content - dropdown */\n",
              "\n",
              "#sk-container-id-5 div.sk-toggleable__content {\n",
              "  max-height: 0;\n",
              "  max-width: 0;\n",
              "  overflow: hidden;\n",
              "  text-align: left;\n",
              "  /* unfitted */\n",
              "  background-color: var(--sklearn-color-unfitted-level-0);\n",
              "}\n",
              "\n",
              "#sk-container-id-5 div.sk-toggleable__content.fitted {\n",
              "  /* fitted */\n",
              "  background-color: var(--sklearn-color-fitted-level-0);\n",
              "}\n",
              "\n",
              "#sk-container-id-5 div.sk-toggleable__content pre {\n",
              "  margin: 0.2em;\n",
              "  border-radius: 0.25em;\n",
              "  color: var(--sklearn-color-text);\n",
              "  /* unfitted */\n",
              "  background-color: var(--sklearn-color-unfitted-level-0);\n",
              "}\n",
              "\n",
              "#sk-container-id-5 div.sk-toggleable__content.fitted pre {\n",
              "  /* unfitted */\n",
              "  background-color: var(--sklearn-color-fitted-level-0);\n",
              "}\n",
              "\n",
              "#sk-container-id-5 input.sk-toggleable__control:checked~div.sk-toggleable__content {\n",
              "  /* Expand drop-down */\n",
              "  max-height: 200px;\n",
              "  max-width: 100%;\n",
              "  overflow: auto;\n",
              "}\n",
              "\n",
              "#sk-container-id-5 input.sk-toggleable__control:checked~label.sk-toggleable__label-arrow:before {\n",
              "  content: \"▾\";\n",
              "}\n",
              "\n",
              "/* Pipeline/ColumnTransformer-specific style */\n",
              "\n",
              "#sk-container-id-5 div.sk-label input.sk-toggleable__control:checked~label.sk-toggleable__label {\n",
              "  color: var(--sklearn-color-text);\n",
              "  background-color: var(--sklearn-color-unfitted-level-2);\n",
              "}\n",
              "\n",
              "#sk-container-id-5 div.sk-label.fitted input.sk-toggleable__control:checked~label.sk-toggleable__label {\n",
              "  background-color: var(--sklearn-color-fitted-level-2);\n",
              "}\n",
              "\n",
              "/* Estimator-specific style */\n",
              "\n",
              "/* Colorize estimator box */\n",
              "#sk-container-id-5 div.sk-estimator input.sk-toggleable__control:checked~label.sk-toggleable__label {\n",
              "  /* unfitted */\n",
              "  background-color: var(--sklearn-color-unfitted-level-2);\n",
              "}\n",
              "\n",
              "#sk-container-id-5 div.sk-estimator.fitted input.sk-toggleable__control:checked~label.sk-toggleable__label {\n",
              "  /* fitted */\n",
              "  background-color: var(--sklearn-color-fitted-level-2);\n",
              "}\n",
              "\n",
              "#sk-container-id-5 div.sk-label label.sk-toggleable__label,\n",
              "#sk-container-id-5 div.sk-label label {\n",
              "  /* The background is the default theme color */\n",
              "  color: var(--sklearn-color-text-on-default-background);\n",
              "}\n",
              "\n",
              "/* On hover, darken the color of the background */\n",
              "#sk-container-id-5 div.sk-label:hover label.sk-toggleable__label {\n",
              "  color: var(--sklearn-color-text);\n",
              "  background-color: var(--sklearn-color-unfitted-level-2);\n",
              "}\n",
              "\n",
              "/* Label box, darken color on hover, fitted */\n",
              "#sk-container-id-5 div.sk-label.fitted:hover label.sk-toggleable__label.fitted {\n",
              "  color: var(--sklearn-color-text);\n",
              "  background-color: var(--sklearn-color-fitted-level-2);\n",
              "}\n",
              "\n",
              "/* Estimator label */\n",
              "\n",
              "#sk-container-id-5 div.sk-label label {\n",
              "  font-family: monospace;\n",
              "  font-weight: bold;\n",
              "  display: inline-block;\n",
              "  line-height: 1.2em;\n",
              "}\n",
              "\n",
              "#sk-container-id-5 div.sk-label-container {\n",
              "  text-align: center;\n",
              "}\n",
              "\n",
              "/* Estimator-specific */\n",
              "#sk-container-id-5 div.sk-estimator {\n",
              "  font-family: monospace;\n",
              "  border: 1px dotted var(--sklearn-color-border-box);\n",
              "  border-radius: 0.25em;\n",
              "  box-sizing: border-box;\n",
              "  margin-bottom: 0.5em;\n",
              "  /* unfitted */\n",
              "  background-color: var(--sklearn-color-unfitted-level-0);\n",
              "}\n",
              "\n",
              "#sk-container-id-5 div.sk-estimator.fitted {\n",
              "  /* fitted */\n",
              "  background-color: var(--sklearn-color-fitted-level-0);\n",
              "}\n",
              "\n",
              "/* on hover */\n",
              "#sk-container-id-5 div.sk-estimator:hover {\n",
              "  /* unfitted */\n",
              "  background-color: var(--sklearn-color-unfitted-level-2);\n",
              "}\n",
              "\n",
              "#sk-container-id-5 div.sk-estimator.fitted:hover {\n",
              "  /* fitted */\n",
              "  background-color: var(--sklearn-color-fitted-level-2);\n",
              "}\n",
              "\n",
              "/* Specification for estimator info (e.g. \"i\" and \"?\") */\n",
              "\n",
              "/* Common style for \"i\" and \"?\" */\n",
              "\n",
              ".sk-estimator-doc-link,\n",
              "a:link.sk-estimator-doc-link,\n",
              "a:visited.sk-estimator-doc-link {\n",
              "  float: right;\n",
              "  font-size: smaller;\n",
              "  line-height: 1em;\n",
              "  font-family: monospace;\n",
              "  background-color: var(--sklearn-color-background);\n",
              "  border-radius: 1em;\n",
              "  height: 1em;\n",
              "  width: 1em;\n",
              "  text-decoration: none !important;\n",
              "  margin-left: 1ex;\n",
              "  /* unfitted */\n",
              "  border: var(--sklearn-color-unfitted-level-1) 1pt solid;\n",
              "  color: var(--sklearn-color-unfitted-level-1);\n",
              "}\n",
              "\n",
              ".sk-estimator-doc-link.fitted,\n",
              "a:link.sk-estimator-doc-link.fitted,\n",
              "a:visited.sk-estimator-doc-link.fitted {\n",
              "  /* fitted */\n",
              "  border: var(--sklearn-color-fitted-level-1) 1pt solid;\n",
              "  color: var(--sklearn-color-fitted-level-1);\n",
              "}\n",
              "\n",
              "/* On hover */\n",
              "div.sk-estimator:hover .sk-estimator-doc-link:hover,\n",
              ".sk-estimator-doc-link:hover,\n",
              "div.sk-label-container:hover .sk-estimator-doc-link:hover,\n",
              ".sk-estimator-doc-link:hover {\n",
              "  /* unfitted */\n",
              "  background-color: var(--sklearn-color-unfitted-level-3);\n",
              "  color: var(--sklearn-color-background);\n",
              "  text-decoration: none;\n",
              "}\n",
              "\n",
              "div.sk-estimator.fitted:hover .sk-estimator-doc-link.fitted:hover,\n",
              ".sk-estimator-doc-link.fitted:hover,\n",
              "div.sk-label-container:hover .sk-estimator-doc-link.fitted:hover,\n",
              ".sk-estimator-doc-link.fitted:hover {\n",
              "  /* fitted */\n",
              "  background-color: var(--sklearn-color-fitted-level-3);\n",
              "  color: var(--sklearn-color-background);\n",
              "  text-decoration: none;\n",
              "}\n",
              "\n",
              "/* Span, style for the box shown on hovering the info icon */\n",
              ".sk-estimator-doc-link span {\n",
              "  display: none;\n",
              "  z-index: 9999;\n",
              "  position: relative;\n",
              "  font-weight: normal;\n",
              "  right: .2ex;\n",
              "  padding: .5ex;\n",
              "  margin: .5ex;\n",
              "  width: min-content;\n",
              "  min-width: 20ex;\n",
              "  max-width: 50ex;\n",
              "  color: var(--sklearn-color-text);\n",
              "  box-shadow: 2pt 2pt 4pt #999;\n",
              "  /* unfitted */\n",
              "  background: var(--sklearn-color-unfitted-level-0);\n",
              "  border: .5pt solid var(--sklearn-color-unfitted-level-3);\n",
              "}\n",
              "\n",
              ".sk-estimator-doc-link.fitted span {\n",
              "  /* fitted */\n",
              "  background: var(--sklearn-color-fitted-level-0);\n",
              "  border: var(--sklearn-color-fitted-level-3);\n",
              "}\n",
              "\n",
              ".sk-estimator-doc-link:hover span {\n",
              "  display: block;\n",
              "}\n",
              "\n",
              "/* \"?\"-specific style due to the `<a>` HTML tag */\n",
              "\n",
              "#sk-container-id-5 a.estimator_doc_link {\n",
              "  float: right;\n",
              "  font-size: 1rem;\n",
              "  line-height: 1em;\n",
              "  font-family: monospace;\n",
              "  background-color: var(--sklearn-color-background);\n",
              "  border-radius: 1rem;\n",
              "  height: 1rem;\n",
              "  width: 1rem;\n",
              "  text-decoration: none;\n",
              "  /* unfitted */\n",
              "  color: var(--sklearn-color-unfitted-level-1);\n",
              "  border: var(--sklearn-color-unfitted-level-1) 1pt solid;\n",
              "}\n",
              "\n",
              "#sk-container-id-5 a.estimator_doc_link.fitted {\n",
              "  /* fitted */\n",
              "  border: var(--sklearn-color-fitted-level-1) 1pt solid;\n",
              "  color: var(--sklearn-color-fitted-level-1);\n",
              "}\n",
              "\n",
              "/* On hover */\n",
              "#sk-container-id-5 a.estimator_doc_link:hover {\n",
              "  /* unfitted */\n",
              "  background-color: var(--sklearn-color-unfitted-level-3);\n",
              "  color: var(--sklearn-color-background);\n",
              "  text-decoration: none;\n",
              "}\n",
              "\n",
              "#sk-container-id-5 a.estimator_doc_link.fitted:hover {\n",
              "  /* fitted */\n",
              "  background-color: var(--sklearn-color-fitted-level-3);\n",
              "}\n",
              "</style><div id=\"sk-container-id-5\" class=\"sk-top-container\"><div class=\"sk-text-repr-fallback\"><pre>LogisticRegression(max_iter=1000, random_state=42)</pre><b>In a Jupyter environment, please rerun this cell to show the HTML representation or trust the notebook. <br />On GitHub, the HTML representation is unable to render, please try loading this page with nbviewer.org.</b></div><div class=\"sk-container\" hidden><div class=\"sk-item\"><div class=\"sk-estimator fitted sk-toggleable\"><input class=\"sk-toggleable__control sk-hidden--visually\" id=\"sk-estimator-id-5\" type=\"checkbox\" checked><label for=\"sk-estimator-id-5\" class=\"sk-toggleable__label fitted sk-toggleable__label-arrow fitted\">&nbsp;&nbsp;LogisticRegression<a class=\"sk-estimator-doc-link fitted\" rel=\"noreferrer\" target=\"_blank\" href=\"https://scikit-learn.org/1.5/modules/generated/sklearn.linear_model.LogisticRegression.html\">?<span>Documentation for LogisticRegression</span></a><span class=\"sk-estimator-doc-link fitted\">i<span>Fitted</span></span></label><div class=\"sk-toggleable__content fitted\"><pre>LogisticRegression(max_iter=1000, random_state=42)</pre></div> </div></div></div></div>"
            ]
          },
          "metadata": {},
          "execution_count": 168
        }
      ],
      "source": [
        "from sklearn.linear_model import LogisticRegression\n",
        "\n",
        "# Inisialisasi dan melatih model\n",
        "model = LogisticRegression(max_iter=1000, random_state=42)\n",
        "model.fit(X_train, y_train)\n"
      ]
    },
    {
      "cell_type": "markdown",
      "metadata": {
        "id": "Sn4fNmP9lZNA"
      },
      "source": [
        "Model diatur untuk melakukan hingga 1000 iterasi untuk menemukan parameter terbaik, dengan random_state diatur ke 42 untuk memastikan hasil yang konsisten setiap kali model dilatih. Setelah inisialisasi, model dilatih menggunakan data fitur X_train dan label y_train, sehingga siap untuk digunakan dalam memprediksi hasil berdasarkan data baru."
      ]
    },
    {
      "cell_type": "markdown",
      "metadata": {
        "id": "0BecwHZ4lm51"
      },
      "source": [
        "# **Evaluasi Model Regresi Logistik Menggunakan Data Uji**"
      ]
    },
    {
      "cell_type": "code",
      "execution_count": 169,
      "metadata": {
        "colab": {
          "base_uri": "https://localhost:8080/"
        },
        "id": "H4-kbWq6xL6W",
        "outputId": "126f24db-713d-417b-a238-48ca92269f3d"
      },
      "outputs": [
        {
          "output_type": "stream",
          "name": "stdout",
          "text": [
            "Akurasi: 0.7382958637809867\n",
            "Confusion Matrix:\n",
            " [[12744 14956]\n",
            " [ 7499 50604]]\n",
            "Classification Report:\n",
            "               precision    recall  f1-score   support\n",
            "\n",
            "           0       0.63      0.46      0.53     27700\n",
            "           1       0.77      0.87      0.82     58103\n",
            "\n",
            "    accuracy                           0.74     85803\n",
            "   macro avg       0.70      0.67      0.68     85803\n",
            "weighted avg       0.73      0.74      0.73     85803\n",
            "\n"
          ]
        }
      ],
      "source": [
        "from sklearn.metrics import accuracy_score, confusion_matrix, classification_report\n",
        "\n",
        "# Prediksi dengan data uji\n",
        "y_pred = model.predict(X_test)\n",
        "\n",
        "# Evaluasi performa model\n",
        "print(\"Akurasi:\", accuracy_score(y_test, y_pred))\n",
        "print(\"Confusion Matrix:\\n\", confusion_matrix(y_test, y_pred))\n",
        "print(\"Classification Report:\\n\", classification_report(y_test, y_pred))\n"
      ]
    },
    {
      "cell_type": "markdown",
      "metadata": {
        "id": "JyF6Rnhql5eT"
      },
      "source": [
        "Hasil menunjukkan bahwa model memiliki akurasi sekitar 73.83%, yang berarti sekitar 74% prediksi model benar. Confusion matrix menunjukkan 12,744 prediksi negatif yang benar (Tidak Terjadi) dan 50,604 prediksi positif yang benar (Terjadi), tetapi juga terdapat 14,956 kesalahan dalam prediksi negatif dan 7,499 kesalahan dalam prediksi positif. Laporan klasifikasi menunjukkan bahwa precision untuk kelas \"Tidak Terjadi\" adalah 0.63, dan untuk kelas \"Terjadi\" adalah 0.77. Recall untuk kelas \"Tidak Terjadi\" adalah 0.46, sedangkan untuk kelas \"Terjadi\" adalah 0.87, yang menunjukkan bahwa model lebih baik dalam mendeteksi kasus positif dibandingkan dengan kasus negatif."
      ]
    },
    {
      "cell_type": "markdown",
      "metadata": {
        "id": "upzuWUkrmNI4"
      },
      "source": [
        "# **Optimasi Model Regresi Logistik Menggunakan Grid Search**"
      ]
    },
    {
      "cell_type": "code",
      "execution_count": 170,
      "metadata": {
        "colab": {
          "base_uri": "https://localhost:8080/"
        },
        "id": "TF2tm4CLyvXE",
        "outputId": "39e2fbad-be76-4b5b-ecdd-1a5f63fe7403"
      },
      "outputs": [
        {
          "output_type": "stream",
          "name": "stdout",
          "text": [
            "Best parameters found: {'C': 0.1, 'penalty': 'l2', 'solver': 'liblinear'}\n",
            "Best cross-validation accuracy: 0.738072899973777\n"
          ]
        }
      ],
      "source": [
        "from sklearn.model_selection import GridSearchCV\n",
        "\n",
        "# Tentukan parameter yang ingin diuji\n",
        "param_grid = {\n",
        "    'C': [0.1, 1, 10, 100],\n",
        "    'penalty': ['l2'],  # Gunakan 'l2' untuk Logistic Regression\n",
        "    'solver': ['lbfgs', 'liblinear']\n",
        "}\n",
        "\n",
        "# Buat objek GridSearchCV\n",
        "grid_search = GridSearchCV(LogisticRegression(max_iter=1000, random_state=42), param_grid, cv=5, scoring='accuracy')\n",
        "grid_search.fit(X_train, y_train)\n",
        "\n",
        "# Cetak hasil terbaik\n",
        "print(\"Best parameters found:\", grid_search.best_params_)\n",
        "print(\"Best cross-validation accuracy:\", grid_search.best_score_)\n"
      ]
    },
    {
      "cell_type": "markdown",
      "metadata": {
        "id": "Hp7zl101mkeG"
      },
      "source": [
        "Parameter yang diuji meliputi nilai C (yang mengatur regulasi), metode penalty yang digunakan, dan solver untuk algoritma optimasi. Setelah menjalankan grid search, ditemukan parameter terbaik yaitu C = 0.1, penalty = 'l2', dan solver = 'liblinear'. Model dengan parameter ini mencapai akurasi cross-validation terbaik sekitar 73.80%, menunjukkan bahwa pengaturan ini dapat meningkatkan kinerja model dalam memprediksi hasil."
      ]
    },
    {
      "cell_type": "markdown",
      "metadata": {
        "id": "RqPqjirrmtor"
      },
      "source": [
        "# **Evaluasi Model Random Forest untuk Klasifikasi**"
      ]
    },
    {
      "cell_type": "code",
      "execution_count": 171,
      "metadata": {
        "colab": {
          "base_uri": "https://localhost:8080/"
        },
        "id": "YWvi3_xV0UGZ",
        "outputId": "1fe375fe-10c5-43d5-a443-370c801a6d2b"
      },
      "outputs": [
        {
          "output_type": "stream",
          "name": "stdout",
          "text": [
            "Akurasi Random Forest: 0.9169259816090346\n",
            "Confusion Matrix:\n",
            " [[23235  4465]\n",
            " [ 2663 55440]]\n",
            "Classification Report:\n",
            "               precision    recall  f1-score   support\n",
            "\n",
            "           0       0.90      0.84      0.87     27700\n",
            "           1       0.93      0.95      0.94     58103\n",
            "\n",
            "    accuracy                           0.92     85803\n",
            "   macro avg       0.91      0.90      0.90     85803\n",
            "weighted avg       0.92      0.92      0.92     85803\n",
            "\n"
          ]
        }
      ],
      "source": [
        "from sklearn.ensemble import RandomForestClassifier\n",
        "\n",
        "# Inisialisasi model Random Forest dengan parameter dasar\n",
        "model_rf = RandomForestClassifier(random_state=42)\n",
        "model_rf.fit(X_train, y_train)\n",
        "\n",
        "# Evaluasi model\n",
        "y_pred_rf = model_rf.predict(X_test)\n",
        "print(\"Akurasi Random Forest:\", accuracy_score(y_test, y_pred_rf))\n",
        "print(\"Confusion Matrix:\\n\", confusion_matrix(y_test, y_pred_rf))\n",
        "print(\"Classification Report:\\n\", classification_report(y_test, y_pred_rf))\n"
      ]
    },
    {
      "cell_type": "markdown",
      "metadata": {
        "id": "uNNdFUzRmxKh"
      },
      "source": [
        "Model Random Forest yang diterapkan dalam analisis ini mencapai akurasi sekitar 91.69% saat diuji dengan data uji. Confusion matrix menunjukkan bahwa model berhasil mengidentifikasi 23,235 kasus negatif yang benar (Tidak Terjadi) dan 55,440 kasus positif yang benar (Terjadi), meskipun terdapat 4,465 kesalahan dalam prediksi negatif dan 2,663 kesalahan dalam prediksi positif. Laporan klasifikasi menunjukkan bahwa precision untuk kelas \"Tidak Terjadi\" adalah 0.90, dan untuk kelas \"Terjadi\" adalah 0.93. Recall untuk kelas \"Tidak Terjadi\" adalah 0.84, sedangkan untuk kelas \"Terjadi\" adalah 0.95. Hasil ini menunjukkan bahwa model Random Forest efektif dalam memprediksi kedua kategori dengan kinerja yang baik, terutama dalam mendeteksi kasus positif."
      ]
    },
    {
      "cell_type": "code",
      "execution_count": 172,
      "metadata": {
        "colab": {
          "base_uri": "https://localhost:8080/",
          "height": 564
        },
        "id": "BDkhsXc1UyRz",
        "outputId": "1b5bc268-1a57-4f17-a1b0-16d3ba60958f"
      },
      "outputs": [
        {
          "output_type": "display_data",
          "data": {
            "text/plain": [
              "<Figure size 800x600 with 2 Axes>"
            ],
            "image/png": "[encoded data removed]"
          },
          "metadata": {}
        }
      ],
      "source": [
        "import matplotlib.pyplot as plt\n",
        "import seaborn as sns\n",
        "from sklearn.metrics import confusion_matrix\n",
        "\n",
        "# Hitung confusion matrix\n",
        "cm = confusion_matrix(y_test, y_pred_rf)\n",
        "\n",
        "# Plot confusion matrix\n",
        "plt.figure(figsize=(8, 6))\n",
        "sns.heatmap(cm, annot=True, fmt='d', cmap='Blues', xticklabels=['Tidak Terjadi', 'Terjadi'], yticklabels=['Tidak Terjadi', 'Terjadi'])\n",
        "plt.xlabel('Prediksi')\n",
        "plt.ylabel('Aktual')\n",
        "plt.title('Confusion Matrix')\n",
        "plt.show()\n"
      ]
    },
    {
      "cell_type": "markdown",
      "metadata": {
        "id": "VNcbhF9PVv7p"
      },
      "source": [
        "Confusion matrix ini menunjukkan hasil prediksi model untuk dua kelas: \"Terjadi\" (1) dan \"Tidak Terjadi\" (0). Pada sumbu Y terdapat label sebenarnya, sedangkan sumbu X menunjukkan prediksi model. Terdapat empat kuadran: True Positives (TP) dengan 55440, yaitu kasus di mana model benar memprediksi \"Terjadi\". False Positives (FP) berjumlah 4465, di mana model salah memprediksi \"Terjadi\" padahal sebenarnya \"Tidak Terjadi\". False Negatives (FN) berjumlah 2663, di mana model salah memprediksi \"Tidak Terjadi\" ketika seharusnya \"Terjadi\". True Negatives (TN) sebanyak 23235 adalah kasus di mana model benar memprediksi \"Tidak Terjadi\". Model ini memiliki akurasi sekitar 92%, menandakan bahwa sebagian besar prediksinya benar, meskipun ada beberapa kesalahan yang perlu diperbaiki."
      ]
    },
    {
      "cell_type": "code",
      "execution_count": 173,
      "metadata": {
        "colab": {
          "base_uri": "https://localhost:8080/",
          "height": 545
        },
        "id": "TCo1X9l7VySx",
        "outputId": "6e3b9c52-21af-430f-8f37-c7a92ebb749e"
      },
      "outputs": [
        {
          "output_type": "display_data",
          "data": {
            "text/plain": [
              "<Figure size 1000x600 with 1 Axes>"
            ],
            "image/png": "[encoded data removed]"
          },
          "metadata": {}
        }
      ],
      "source": [
        "from sklearn.metrics import classification_report\n",
        "import pandas as pd\n",
        "\n",
        "# Ambil laporan klasifikasi sebagai DataFrame\n",
        "report = classification_report(y_test, y_pred_rf, output_dict=True)\n",
        "report_df = pd.DataFrame(report).transpose()\n",
        "\n",
        "# Plot precision, recall, dan f1-score\n",
        "plt.figure(figsize=(10, 6))\n",
        "report_df.iloc[:-1, :3].plot(kind='bar', ax=plt.gca())\n",
        "plt.title('Precision, Recall, dan F1-Score untuk Setiap Kelas')\n",
        "plt.ylabel('Skor')\n",
        "plt.xticks(rotation=0)\n",
        "plt.legend(title='Metrik')\n",
        "plt.show()\n"
      ]
    },
    {
      "cell_type": "markdown",
      "metadata": {
        "id": "-JXD2p2FXOzB"
      },
      "source": [
        "Plot ini menunjukkan kinerja model dalam mengklasifikasikan dua kategori: \"Tidak Terjadi\" (0) dan \"Terjadi\" (1). Terdapat tiga metrik yang dibandingkan. Precision mengukur seberapa banyak prediksi \"Terjadi\" yang benar, dan nilainya cukup tinggi, artinya model sering kali akurat. Recall menunjukkan seberapa baik model menemukan semua kasus \"Terjadi\"; hasilnya menunjukkan model sangat efektif dalam mengidentifikasi kasus positif. F1-Score menggabungkan precision dan recall untuk memberikan gambaran seimbang tentang kinerja model. Dengan nilai F1-Score yang tinggi untuk kedua kategori, model berhasil menjaga keseimbangan antara menghindari kesalahan dan menemukan semua kasus yang seharusnya positif. Secara keseluruhan, plot ini menunjukkan bahwa model Random Forest berfungsi dengan baik dalam memprediksi kedua kategori, dengan kesalahan yang minimal.\n",
        "\n"
      ]
    },
    {
      "cell_type": "code",
      "execution_count": 174,
      "metadata": {
        "colab": {
          "base_uri": "https://localhost:8080/",
          "height": 564
        },
        "id": "oIrUkt1fXaYV",
        "outputId": "91734244-0966-4d2a-e82a-169ec6cd3868"
      },
      "outputs": [
        {
          "output_type": "display_data",
          "data": {
            "text/plain": [
              "<Figure size 800x600 with 1 Axes>"
            ],
            "image/png": "[encoded data removed]"
          },
          "metadata": {}
        }
      ],
      "source": [
        "from sklearn.metrics import roc_curve, roc_auc_score\n",
        "\n",
        "# Hitung probabilitas kelas positif\n",
        "y_pred_proba = model_rf.predict_proba(X_test)[:, 1]\n",
        "\n",
        "# Hitung ROC curve\n",
        "fpr, tpr, _ = roc_curve(y_test, y_pred_proba)\n",
        "roc_auc = roc_auc_score(y_test, y_pred_proba)\n",
        "\n",
        "# Plot ROC curve\n",
        "plt.figure(figsize=(8, 6))\n",
        "plt.plot(fpr, tpr, color='blue', lw=2, label='ROC curve (AUC = {:.2f})'.format(roc_auc))\n",
        "plt.plot([0, 1], [0, 1], color='red', lw=2, linestyle='--')  # Garis diagonal\n",
        "plt.xlim([0.0, 1.0])\n",
        "plt.ylim([0.0, 1.05])\n",
        "plt.xlabel('False Positive Rate')\n",
        "plt.ylabel('True Positive Rate')\n",
        "plt.title('Receiver Operating Characteristic (ROC) Curve')\n",
        "plt.legend(loc='lower right')\n",
        "plt.show()\n"
      ]
    },
    {
      "cell_type": "markdown",
      "metadata": {
        "id": "fxrvelZTX20F"
      },
      "source": [
        "Gambar di atas adalah Receiver Operating Characteristic (ROC) Curve, yang digunakan untuk mengevaluasi kinerja model klasifikasi. Pada grafik ini, sumbu horizontal menunjukkan False Positive Rate (FPR), yaitu proporsi prediksi yang salah sebagai positif dari seluruh kasus negatif. Sementara itu, sumbu vertikal menunjukkan True Positive Rate (TPR), yang merupakan proporsi kasus positif yang berhasil diprediksi dengan benar oleh model. Garis biru yang melengkung adalah kurva ROC yang menunjukkan hubungan antara TPR dan FPR pada berbagai ambang batas (threshold) yang berbeda. Semakin mendekati sudut kiri atas grafik, semakin baik kinerja model dalam memprediksi kelas positif. Garis merah putus-putus menggambarkan garis acuan, yang menunjukkan kinerja model acak (50% akurasi). Dalam gambar ini, AUC (Area Under the Curve) bernilai 1.00, yang menunjukkan bahwa model sangat baik dalam memisahkan kedua kelas, dengan tidak ada kesalahan dalam prediksi. Dengan kata lain, model ini berhasil mengidentifikasi semua kasus positif tanpa menghasilkan kesalahan positif yang signifikan.\n",
        "\n"
      ]
    },
    {
      "cell_type": "markdown",
      "source": [
        "# Pelatihan dan Evaluasi Model Random Forest untuk Task 1"
      ],
      "metadata": {
        "id": "PjU2lrHOep7b"
      }
    },
    {
      "cell_type": "code",
      "source": [
        "from sklearn.ensemble import RandomForestClassifier\n",
        "from sklearn.model_selection import train_test_split\n",
        "from sklearn.metrics import classification_report, accuracy_score\n",
        "\n",
        "# Asumsi 'sessionNo' sebagai fitur dan 'prediction' sebagai target\n",
        "X = task1_data[['sessionNo']]  # Fitur\n",
        "y = task1_data['prediction']   # Target\n",
        "\n",
        "# Membagi data menjadi training dan testing set\n",
        "X_train, X_test, y_train, y_test = train_test_split(X, y, test_size=0.3, random_state=42)\n",
        "\n",
        "# Inisialisasi model Random Forest\n",
        "model_rf = RandomForestClassifier(random_state=42)\n",
        "model_rf.fit(X_train, y_train)\n",
        "\n",
        "# Prediksi pada test set\n",
        "y_pred = model_rf.predict(X_test)\n",
        "\n",
        "# Evaluasi performa model\n",
        "accuracy = accuracy_score(y_test, y_pred)\n",
        "report = classification_report(y_test, y_pred, target_names=['Class 0', 'Class 1'])\n",
        "\n",
        "# Menampilkan hasil\n",
        "print(f\"Accuracy: {accuracy * 100:.2f}%\")\n",
        "print(\"\\nClassification Report:\\n\", report)\n"
      ],
      "metadata": {
        "colab": {
          "base_uri": "https://localhost:8080/"
        },
        "id": "86OFpT6xavy_",
        "outputId": "64db0504-53fe-4d15-8a1c-61084af93fbe"
      },
      "execution_count": 175,
      "outputs": [
        {
          "output_type": "stream",
          "name": "stdout",
          "text": [
            "Accuracy: 51.30%\n",
            "\n",
            "Classification Report:\n",
            "               precision    recall  f1-score   support\n",
            "\n",
            "     Class 0       0.54      0.55      0.55       820\n",
            "     Class 1       0.48      0.47      0.47       714\n",
            "\n",
            "    accuracy                           0.51      1534\n",
            "   macro avg       0.51      0.51      0.51      1534\n",
            "weighted avg       0.51      0.51      0.51      1534\n",
            "\n"
          ]
        }
      ]
    },
    {
      "cell_type": "markdown",
      "source": [
        "# Confusion Matrix"
      ],
      "metadata": {
        "id": "AzeUwVOXfBaY"
      }
    },
    {
      "cell_type": "code",
      "source": [
        "# Confusion Matrix\n",
        "cm = confusion_matrix(y_test, y_pred)\n",
        "disp = ConfusionMatrixDisplay(confusion_matrix=cm, display_labels=['Class 0', 'Class 1'])\n",
        "\n",
        "# Plot Confusion Matrix\n",
        "plt.figure(figsize=(8, 6))\n",
        "disp.plot(cmap=plt.cm.Blues, values_format='d')\n",
        "plt.title(\"Confusion Matrix\")\n",
        "plt.show()\n"
      ],
      "metadata": {
        "colab": {
          "base_uri": "https://localhost:8080/",
          "height": 489
        },
        "id": "QO8lTDtacXf1",
        "outputId": "6e8012e6-3bfa-4e55-89e9-24983ce702d7"
      },
      "execution_count": 176,
      "outputs": [
        {
          "output_type": "display_data",
          "data": {
            "text/plain": [
              "<Figure size 800x600 with 0 Axes>"
            ]
          },
          "metadata": {}
        },
        {
          "output_type": "display_data",
          "data": {
            "text/plain": [
              "<Figure size 640x480 with 2 Axes>"
            ],
            "image/png": "[encoded data removed]"
          },
          "metadata": {}
        }
      ]
    },
    {
      "cell_type": "markdown",
      "source": [
        "Grafik di atas adalah Confusion Matrix, yang digunakan untuk mengevaluasi seberapa baik model komputer memprediksi hasil dibandingkan kenyataan. Sumbu vertikal menunjukkan nilai sebenarnya, sedangkan sumbu horizontal menunjukkan hasil prediksi model. Angka 451 dan 336 pada diagonal utama menunjukkan prediksi yang benar untuk masing-masing kelas (Class 0 dan Class 1). Namun, model juga membuat kesalahan, seperti memprediksi 369 data Class 0 sebagai Class 1 dan 378 data Class 1 sebagai Class 0. Warna pada grafik memperjelas jumlah data di setiap kategori, di mana warna yang lebih gelap menunjukkan jumlah yang lebih besar. Grafik ini membantu memahami di mana model berhasil dan di mana ia sering membuat kesalahan untuk perbaikan lebih lanjut."
      ],
      "metadata": {
        "id": "Eij62lDidFNm"
      }
    },
    {
      "cell_type": "code",
      "source": [
        "# Mendapatkan metrik evaluasi\n",
        "report = classification_report(y_test, y_pred, output_dict=True)\n",
        "\n",
        "# Ambil nilai precision, recall, dan f1-score untuk setiap kelas\n",
        "precision = [report[str(i)]['precision'] for i in range(len(report) - 3)]\n",
        "recall = [report[str(i)]['recall'] for i in range(len(report) - 3)]\n",
        "f1_scores = [report[str(i)]['f1-score'] for i in range(len(report) - 3)]\n",
        "\n",
        "# Tambahkan rata-rata untuk \"accuracy\" dan \"macro avg\"\n",
        "precision.extend([report['accuracy'], report['macro avg']['precision']])\n",
        "recall.extend([report['accuracy'], report['macro avg']['recall']])\n",
        "f1_scores.extend([report['accuracy'], report['macro avg']['f1-score']])\n",
        "\n",
        "# Kelas dan label lainnya\n",
        "classes = [str(i) for i in range(len(report) - 3)] + ['accuracy', 'macro avg']\n",
        "\n",
        "# Plot hasil\n",
        "x = np.arange(len(classes))  # Label lokasi\n",
        "width = 0.2  # Lebar bar\n",
        "\n",
        "fig, ax = plt.subplots(figsize=(10, 6))\n",
        "rects1 = ax.bar(x - width, precision, width, label='precision', color='blue', alpha=0.7)\n",
        "rects2 = ax.bar(x, recall, width, label='recall', color='orange', alpha=0.7)\n",
        "rects3 = ax.bar(x + width, f1_scores, width, label='f1-score', color='green', alpha=0.7)\n",
        "\n",
        "# Tambahkan label\n",
        "ax.set_xlabel('Kelas')\n",
        "ax.set_ylabel('Skor')\n",
        "ax.set_title('Precision, Recall, dan F1 Score per Kelas')\n",
        "ax.set_xticks(x)\n",
        "ax.set_xticklabels(classes)\n",
        "ax.legend(title=\"Metrik\")\n",
        "\n",
        "# Tambahkan batas untuk skor\n",
        "ax.set_ylim(0, 1)\n",
        "\n",
        "# Tampilkan plot\n",
        "plt.tight_layout()\n",
        "plt.show()"
      ],
      "metadata": {
        "colab": {
          "base_uri": "https://localhost:8080/",
          "height": 607
        },
        "id": "94WDzykfcZOt",
        "outputId": "06b9c5ef-62ea-474b-cc0f-c8de6e992f07"
      },
      "execution_count": 177,
      "outputs": [
        {
          "output_type": "display_data",
          "data": {
            "text/plain": [
              "<Figure size 1000x600 with 1 Axes>"
            ],
            "image/png": "[encoded data removed]"
          },
          "metadata": {}
        }
      ]
    },
    {
      "cell_type": "markdown",
      "source": [
        "Grafik di atas menunjukkan evaluasi model melalui tiga metrik utama: Precision, Recall, dan F1 Score, untuk masing-masing kelas, yaitu Class 0 dan Class 1, serta rata-rata keseluruhan berupa accuracy dan macro avg. Precision menggambarkan seberapa banyak prediksi model yang benar dari total prediksi untuk suatu kelas, sementara Recall menunjukkan kemampuan model dalam mendeteksi data yang benar-benar termasuk dalam kelas tersebut. F1 Score, yang merupakan rata-rata harmonis dari Precision dan Recall, memberikan gambaran keseimbangan antara keduanya. Nilai bar yang lebih tinggi mendekati 1 menunjukkan kinerja model yang baik, sedangkan nilai yang lebih rendah mengindikasikan adanya ruang untuk perbaikan. Grafik ini membantu memahami kekuatan dan kelemahan model dalam memprediksi setiap kelas dan performa secara keseluruhan."
      ],
      "metadata": {
        "id": "LzFZGQ8mdXIb"
      }
    },
    {
      "cell_type": "code",
      "source": [
        "# ROC Curve and AUC\n",
        "y_pred_proba = model_rf.predict_proba(X_test)[:, 1]  # Probabilitas untuk kelas positif (1)\n",
        "fpr, tpr, _ = roc_curve(y_test, y_pred_proba)\n",
        "roc_auc = roc_auc_score(y_test, y_pred_proba)\n",
        "\n",
        "# Plot ROC Curve\n",
        "plt.figure(figsize=(8, 6))\n",
        "plt.plot(fpr, tpr, color='blue', lw=2, label=f'ROC curve (AUC = {roc_auc:.2f})')\n",
        "plt.plot([0, 1], [0, 1], color='red', lw=2, linestyle='--', label='Random Guess')\n",
        "plt.xlabel('False Positive Rate')\n",
        "plt.ylabel('True Positive Rate')\n",
        "plt.title('Receiver Operating Characteristic (ROC) Curve')\n",
        "plt.legend(loc=\"lower right\")\n",
        "plt.show()"
      ],
      "metadata": {
        "colab": {
          "base_uri": "https://localhost:8080/",
          "height": 564
        },
        "id": "_eHz1oRLcfDA",
        "outputId": "7f9d5561-55f5-4388-ee8a-474f25506a98"
      },
      "execution_count": 178,
      "outputs": [
        {
          "output_type": "display_data",
          "data": {
            "text/plain": [
              "<Figure size 800x600 with 1 Axes>"
            ],
            "image/png": "[encoded data removed]"
          },
          "metadata": {}
        }
      ]
    },
    {
      "cell_type": "markdown",
      "source": [
        "Grafik di atas adalah Receiver Operating Characteristic (ROC) Curve, yang digunakan untuk mengevaluasi kemampuan model dalam membedakan antara dua kelas. Sumbu horizontal menunjukkan False Positive Rate (FPR), yaitu proporsi prediksi salah yang diklasifikasikan sebagai positif, sedangkan sumbu vertikal menunjukkan True Positive Rate (TPR), yaitu proporsi prediksi benar dari data positif. Garis biru mewakili kinerja model, sedangkan garis merah putus-putus adalah garis acuan untuk model acak (random guess). Area di bawah kurva (AUC) memiliki nilai 0.52, yang menunjukkan bahwa model ini hanya sedikit lebih baik dari tebakan acak. ROC Curve ini memberikan gambaran visual tentang trade-off antara tingkat kesalahan positif dan tingkat keberhasilan model dalam memprediksi kelas positif."
      ],
      "metadata": {
        "id": "exvjpeQLd2s1"
      }
    },
    {
      "cell_type": "markdown",
      "metadata": {
        "id": "85DV0lQrdyZ7"
      },
      "source": [
        "# Kesimpulan"
      ]
    },
    {
      "cell_type": "markdown",
      "metadata": {
        "id": "OqnvFBtVd2wg"
      },
      "source": [
        "Berdasarkan exploratory data analysis (EDA) dan klasifikasi awal, model Random Forest menunjukkan kinerja yang sangat baik dalam memprediksi kategori \"Terjadi\" dan \"Tidak Terjadi\" pada dataset sebelumnya, dengan akurasi mencapai 92%. Model ini memiliki tingkat kesalahan yang rendah, seperti yang terlihat pada confusion matrix, serta precision dan recall yang tinggi, menunjukkan bahwa model tidak hanya akurat tetapi juga mampu mendeteksi sebagian besar kasus positif dengan baik. Selain itu, analisis Receiver Operating Characteristic (ROC) curve menunjukkan nilai Area Under the Curve (AUC) yang mendekati sempurna, mengindikasikan kemampuan model yang sangat baik dalam memisahkan kelas positif dan negatif.\n",
        "\n",
        "Namun, pada percobaan dengan dataset task1.csv, model Random Forest menunjukkan performa yang lebih rendah. Akurasi model hanya mencapai 51,3%, dengan AUC sebesar 0,52 yang hampir mendekati tebakan acak. Dari confusion matrix, terlihat bahwa model cenderung membuat kesalahan yang signifikan dalam memprediksi kedua kelas. Precision, recall, dan F1-score juga menunjukkan performa yang belum optimal. Hal ini kemungkinan besar disebabkan oleh keterbatasan fitur yang digunakan dalam dataset task1.csv, seperti hanya menggunakan kolom sessionNo sebagai satu-satunya variabel prediktor, yang tidak cukup informatif untuk menghasilkan prediksi yang akurat.\n",
        "\n",
        "Sebagai penutup, meskipun model Random Forest memiliki potensi yang sangat baik berdasarkan hasil analisis awal, performanya sangat bergantung pada kualitas dan kelengkapan data yang digunakan. Untuk dataset task1.csv, perlu adanya penambahan fitur atau praproses lebih lanjut agar model dapat meningkatkan performanya dan memberikan hasil yang lebih akurat untuk aplikasi prediksi dalam konteks bisnis."
      ]
    }
  ],
  "metadata": {
    "colab": {
      "provenance": []
    },
    "kernelspec": {
      "display_name": "Python 3",
      "name": "python3"
    },
    "language_info": {
      "name": "python"
    }
  },
  "nbformat": 4,
  "nbformat_minor": 0
}