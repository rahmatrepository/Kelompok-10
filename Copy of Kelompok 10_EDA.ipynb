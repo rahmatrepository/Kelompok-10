{
  "nbformat": 4,
  "nbformat_minor": 0,
  "metadata": {
    "colab": {
      "provenance": []
    },
    "kernelspec": {
      "name": "python3",
      "display_name": "Python 3"
    },
    "language_info": {
      "name": "python"
    }
  },
  "cells": [
    {
      "cell_type": "markdown",
      "source": [
        "**Eksplorasi Data Analysis Anggaran DKI Jakarta Untuk Mengidentifikasi Tren Pengeluaran dan Prioritas Kegiatan**"
      ],
      "metadata": {
        "id": "PHBI8MVi364h"
      }
    },
    {
      "cell_type": "markdown",
      "source": [
        "**Kelompok 10**\n",
        "\n",
        "1.   Muhammad Igin Adigholib (2301125)\n",
        "2.   Rahmat Taufik Al-Hidayah (2300414)\n",
        "3.   Anugrah Bayu Satrio (2300624)\n",
        "4.   Muhamad Khafabillah Sopian (2307824)\n",
        "5.   Rexy Putra Nur Laksana (2309578)\n",
        "\n",
        "\n",
        "\n",
        "\n"
      ],
      "metadata": {
        "id": "J6FiIfZF4zR_"
      }
    },
    {
      "cell_type": "markdown",
      "source": [
        "# **Pendahuluan**\n",
        "\n",
        "Eksplorasi Data Analysis (EDA) merupakan langkah awal yang penting dalam memahami karakteristik suatu dataset. Dalam konteks ini, analisis anggaran DKI Jakarta bertujuan untuk mengidentifikasi tren pengeluaran serta prioritas alokasi dana untuk berbagai kegiatan. Dengan memanfaatkan metode EDA, kita dapat menggali pola-pola tersembunyi, mengidentifikasi anomali, serta mendapatkan wawasan mengenai distribusi anggaran di berbagai sektor. Analisis ini diharapkan dapat memberikan gambaran mendalam terkait penggunaan anggaran dan bagaimana pemerintah daerah mengarahkan sumber daya untuk pembangunan dan pelayanan publik."
      ],
      "metadata": {
        "id": "VM1LDd5-xJvT"
      }
    },
    {
      "cell_type": "markdown",
      "source": [
        "# **Pertanyaan**\n",
        "\n",
        "1. Berapa total anggaran provinsi DKI Jakarta pada setiap tahun nya?\n",
        "2. Apa nama kegiatan yang menerima alokasi anggaran terbesar pada setiap tahunnya?\n",
        "3. Pada tahun berapa terjadi lonjakan terbesar anggaran provinsi DKI Jakarta?"
      ],
      "metadata": {
        "id": "fVdB0LLVxQBV"
      }
    },
    {
      "cell_type": "code",
      "source": [
        "# Import libraries\n",
        "import pandas as pd\n",
        "import numpy as np\n",
        "import matplotlib.pyplot as plt\n",
        "import seaborn as sns\n",
        "from os.path import join\n",
        "from IPython.core.display import display, HTML\n"
      ],
      "metadata": {
        "id": "4RAZAsr35x9E"
      },
      "execution_count": null,
      "outputs": []
    },
    {
      "cell_type": "code",
      "source": [
        "from google.colab import drive\n",
        "drive.mount('/content/drive')\n",
        "dir = \"/content/drive/MyDrive/Data Mining(EDA)/\"\n"
      ],
      "metadata": {
        "colab": {
          "base_uri": "https://localhost:8080/"
        },
        "id": "oNRAtrBS6YE7",
        "outputId": "ce7b331b-2969-43c9-b46a-442859617a07"
      },
      "execution_count": null,
      "outputs": [
        {
          "output_type": "stream",
          "name": "stdout",
          "text": [
            "Drive already mounted at /content/drive; to attempt to forcibly remount, call drive.mount(\"/content/drive\", force_remount=True).\n"
          ]
        }
      ]
    },
    {
      "cell_type": "code",
      "source": [
        "belanja = pd.read_csv(join(dir, \"Filedata Data Anggaran Belanja DKI Jakarta Per Kegiatan.csv\"))\n",
        "belanja2014 = pd.read_csv(join(dir, \"Filedata Data Anggaran Belanja DKI Jakarta Per Kegiatan.csv\"))\n",
        "apbd = pd.read_csv(join(dir, \"Data APBD Provinsi DKI Jakarta.csv\"))\n",
        "apbd2015 = pd.read_csv(join(dir, \"Data APBD Penetapan 2015 DKI Jakarta (1).csv\"))\n",
        "apbd2016 = pd.read_csv(join(dir, \" Data APBD Provinsi DKI Jakarta Tahun 2016.csv\"))\n",
        "apbd2017 = pd.read_csv(join(dir, \"Data APBD Provinsi DKI Jakarta Tahun 2017.csv\"))\n",
        "apbd2018 = pd.read_csv(join(dir, \"Data Perencanaan APBD 2018.csv\"))\n",
        "apbd2019 = pd.read_csv(join(dir, \"Data APBD Provinsi DKI Jakarta Tahun 2019.csv\"))\n",
        "apbd2020 = pd.read_csv(join(dir, \"Data APBD Provinsi DKI Jakarta Tahun 2020 (1).csv\"))\n",
        "pelaksanaan = pd.read_csv(join(dir, \"Data Capaian Pelaksanaan Kegiatan APBD 2017 (2).csv\"))"
      ],
      "metadata": {
        "colab": {
          "base_uri": "https://localhost:8080/"
        },
        "collapsed": true,
        "id": "E_sRxv63BOTL",
        "outputId": "f90d59ab-b1c8-411d-f402-17c82fd56014"
      },
      "execution_count": null,
      "outputs": [
        {
          "output_type": "stream",
          "name": "stderr",
          "text": [
            "<ipython-input-26-f779bb60db30>:8: DtypeWarning: Columns (6,8) have mixed types. Specify dtype option on import or set low_memory=False.\n",
            "  apbd2019 = pd.read_csv(join(dir, \"Data APBD Provinsi DKI Jakarta Tahun 2019.csv\"))\n",
            "<ipython-input-26-f779bb60db30>:9: DtypeWarning: Columns (6,8) have mixed types. Specify dtype option on import or set low_memory=False.\n",
            "  apbd2020 = pd.read_csv(join(dir, \"Data APBD Provinsi DKI Jakarta Tahun 2020 (1).csv\"))\n"
          ]
        }
      ]
    },
    {
      "cell_type": "code",
      "source": [
        "belanja.rename(columns={'kegiatan': 'nama_kegiatan'}, inplace=True)\n",
        "belanja2014.rename(columns={'kegiatan': 'nama_kegiatan'}, inplace=True)\n",
        "apbd2015.rename(columns={'kegiatan': 'nama_kegiatan'}, inplace=True)\n",
        "apbd2015.rename(columns={'anggaran': 'nilai_anggaran'}, inplace=True)\n",
        "apbd2018.rename(columns={'anggaran': 'nilai_anggaran'}, inplace=True)\n",
        "pelaksanaan.rename(columns={'anggaran': 'nilai_anggaran'}, inplace=True)\n",
        "pelaksanaan.rename(columns={'kegiatan': 'nama_kegiatan'}, inplace=True)\n",
        "\n",
        "data_belanja = belanja[['nama_kegiatan', 'nilai_anggaran', 'periode_data']]\n",
        "data_belanja2014 = belanja2014[['nama_kegiatan', 'nilai_anggaran', 'periode_data']]\n",
        "data_apbd2015 = apbd2015[['nama_kegiatan', 'nilai_anggaran', 'periode_data']]\n",
        "data_apbd2016 = apbd2016[['nama_kegiatan', 'nilai_anggaran', 'periode_data']]\n",
        "data_apbd2017 = apbd2017[['nama_kegiatan', 'nilai_anggaran', 'periode_data']]\n",
        "data_apbd2018 = apbd2018[['nama_kegiatan', 'nilai_anggaran', 'periode_data']]\n",
        "data_apbd2019 = apbd2019[['nama_kegiatan', 'nilai_anggaran', 'periode_data']]\n",
        "data_apbd2020 = apbd2020[['nama_kegiatan', 'nilai_anggaran', 'periode_data']]\n",
        "data_apbd = apbd[['nama_kegiatan', 'nilai_anggaran', 'periode_data']]\n",
        "data_pelaksanaan = pelaksanaan[['nama_kegiatan', 'nilai_anggaran', 'periode_data']]"
      ],
      "metadata": {
        "collapsed": true,
        "id": "rCNWL9W1Jybo"
      },
      "execution_count": null,
      "outputs": []
    },
    {
      "cell_type": "code",
      "source": [
        "# Menggabungkan semua DataFrame\n",
        "data_combined = pd.concat([\n",
        "    data_belanja,\n",
        "    data_belanja2014,\n",
        "    data_apbd2015,\n",
        "    data_apbd2016,\n",
        "    data_apbd2017,\n",
        "    data_apbd2018,\n",
        "    data_apbd2019,\n",
        "    data_apbd2020,\n",
        "    data_apbd,\n",
        "    data_pelaksanaan\n",
        "], ignore_index=True)"
      ],
      "metadata": {
        "id": "dk6n_nyXP51t"
      },
      "execution_count": null,
      "outputs": []
    },
    {
      "cell_type": "code",
      "source": [
        "data_combined.isna().sum()"
      ],
      "metadata": {
        "colab": {
          "base_uri": "https://localhost:8080/",
          "height": 178
        },
        "id": "wI1rPofR58SW",
        "outputId": "a1c0ffb2-2e20-4ca7-c6d2-eddfe1d4528d"
      },
      "execution_count": null,
      "outputs": [
        {
          "output_type": "execute_result",
          "data": {
            "text/plain": [
              "nama_kegiatan      0\n",
              "nilai_anggaran    97\n",
              "periode_data       0\n",
              "dtype: int64"
            ],
            "text/html": [
              "<div>\n",
              "<style scoped>\n",
              "    .dataframe tbody tr th:only-of-type {\n",
              "        vertical-align: middle;\n",
              "    }\n",
              "\n",
              "    .dataframe tbody tr th {\n",
              "        vertical-align: top;\n",
              "    }\n",
              "\n",
              "    .dataframe thead th {\n",
              "        text-align: right;\n",
              "    }\n",
              "</style>\n",
              "<table border=\"1\" class=\"dataframe\">\n",
              "  <thead>\n",
              "    <tr style=\"text-align: right;\">\n",
              "      <th></th>\n",
              "      <th>0</th>\n",
              "    </tr>\n",
              "  </thead>\n",
              "  <tbody>\n",
              "    <tr>\n",
              "      <th>nama_kegiatan</th>\n",
              "      <td>0</td>\n",
              "    </tr>\n",
              "    <tr>\n",
              "      <th>nilai_anggaran</th>\n",
              "      <td>97</td>\n",
              "    </tr>\n",
              "    <tr>\n",
              "      <th>periode_data</th>\n",
              "      <td>0</td>\n",
              "    </tr>\n",
              "  </tbody>\n",
              "</table>\n",
              "</div><br><label><b>dtype:</b> int64</label>"
            ]
          },
          "metadata": {},
          "execution_count": 29
        }
      ]
    },
    {
      "cell_type": "code",
      "source": [
        "# Menghapus tanda koma pada kolom nilai_anggaran dan mengonversinya menjadi tipe data numerik\n",
        "data_combined['nilai_anggaran'] = data_combined['nilai_anggaran'].replace({',': ''}, regex=True).astype(float)\n",
        "\n",
        "# Mengelompokkan data berdasarkan periode_data dan menjumlahkan nilai_anggaran\n",
        "total_anggaran_per_tahun = data_combined.groupby('periode_data')['nilai_anggaran'].sum().reset_index()\n",
        "\n",
        "# Menampilkan hasil total nilai anggaran per tahun\n",
        "print(total_anggaran_per_tahun)"
      ],
      "metadata": {
        "colab": {
          "base_uri": "https://localhost:8080/"
        },
        "collapsed": true,
        "id": "b8ptAXqW8CNg",
        "outputId": "65ea33ae-5e07-4408-9f3f-275b9269bd08"
      },
      "execution_count": null,
      "outputs": [
        {
          "output_type": "stream",
          "name": "stdout",
          "text": [
            "   periode_data  nilai_anggaran\n",
            "0          2013    7.704184e+13\n",
            "1          2015    4.383513e+13\n",
            "2          2016    1.329194e+14\n",
            "3          2017    5.743323e+14\n",
            "4          2018    2.795939e+13\n",
            "5          2019    1.767341e+14\n",
            "6          2020    9.935461e+13\n",
            "7          2023    7.214488e+13\n"
          ]
        }
      ]
    },
    {
      "cell_type": "markdown",
      "source": [
        "Data ini mencakup kegiatan dan nilai anggaran DKI Jakarta dari 2013 hingga 2023, termasuk dana jaminan kesehatan dan pembebasan lahan, dengan beberapa tahun tanpa nama kegiatan, tetapi tetap memiliki anggaran"
      ],
      "metadata": {
        "id": "R5sl2yKybypw"
      }
    },
    {
      "cell_type": "code",
      "source": [
        "# Mengelompokkan data untuk mendapatkan alokasi anggaran terbesar per tahun\n",
        "top_kegiatan_per_tahun = data_combined.loc[data_combined.groupby(['periode_data'])['nilai_anggaran'].idxmax()]\n"
      ],
      "metadata": {
        "collapsed": true,
        "id": "_tGtJD0jdOKw"
      },
      "execution_count": null,
      "outputs": []
    },
    {
      "cell_type": "code",
      "source": [
        "# Mengambil kegiatan dengan nilai anggaran tertinggi untuk setiap periode_data\n",
        "largest_allocation = data_combined.loc[data_combined.groupby('periode_data')['nilai_anggaran'].idxmax()]\n",
        "\n",
        "# Menampilkan hasil\n",
        "display(largest_allocation[['periode_data', 'nama_kegiatan', 'nilai_anggaran']])\n"
      ],
      "metadata": {
        "colab": {
          "base_uri": "https://localhost:8080/",
          "height": 300
        },
        "id": "WzpPYWypPrec",
        "outputId": "3b904c77-6cea-4653-cc4c-a3f2db00093d"
      },
      "execution_count": null,
      "outputs": [
        {
          "output_type": "display_data",
          "data": {
            "text/plain": [
              "        periode_data  \\\n",
              "85109           2013   \n",
              "174051          2015   \n",
              "259086          2016   \n",
              "260050          2017   \n",
              "312248          2018   \n",
              "401636          2019   \n",
              "462431          2020   \n",
              "462586          2023   \n",
              "\n",
              "                                                             nama_kegiatan  \\\n",
              "85109                Penyediaan Dana jaminan pemeliharaan kesehatan daerah   \n",
              "174051  Pembebasan Lahan untuk Ruang Terbuka Hijau di Provinsi DKI Jakarta   \n",
              "259086                                                        Non Kegiatan   \n",
              "260050                                                        Non Kegiatan   \n",
              "312248        Pembiayaan Premi Peserta Penerima Bantuan Iuran (PBI) Daerah   \n",
              "401636                                                                   -   \n",
              "462431                                                                   -   \n",
              "462586                              Administrasi Keuangan Perangkat Daerah   \n",
              "\n",
              "        nilai_anggaran  \n",
              "85109     1.500000e+12  \n",
              "174051    2.234831e+12  \n",
              "259086    1.300000e+13  \n",
              "260050    1.351480e+13  \n",
              "312248    1.242000e+12  \n",
              "401636    1.677800e+13  \n",
              "462431    5.180000e+12  \n",
              "462586    7.336830e+12  "
            ],
            "text/html": [
              "\n",
              "  <div id=\"df-ce6554e6-e1c5-436d-b7e2-8651aaf34363\" class=\"colab-df-container\">\n",
              "    <div>\n",
              "<style scoped>\n",
              "    .dataframe tbody tr th:only-of-type {\n",
              "        vertical-align: middle;\n",
              "    }\n",
              "\n",
              "    .dataframe tbody tr th {\n",
              "        vertical-align: top;\n",
              "    }\n",
              "\n",
              "    .dataframe thead th {\n",
              "        text-align: right;\n",
              "    }\n",
              "</style>\n",
              "<table border=\"1\" class=\"dataframe\">\n",
              "  <thead>\n",
              "    <tr style=\"text-align: right;\">\n",
              "      <th></th>\n",
              "      <th>periode_data</th>\n",
              "      <th>nama_kegiatan</th>\n",
              "      <th>nilai_anggaran</th>\n",
              "    </tr>\n",
              "  </thead>\n",
              "  <tbody>\n",
              "    <tr>\n",
              "      <th>85109</th>\n",
              "      <td>2013</td>\n",
              "      <td>Penyediaan Dana jaminan pemeliharaan kesehatan daerah</td>\n",
              "      <td>1.500000e+12</td>\n",
              "    </tr>\n",
              "    <tr>\n",
              "      <th>174051</th>\n",
              "      <td>2015</td>\n",
              "      <td>Pembebasan Lahan untuk Ruang Terbuka Hijau di Provinsi DKI Jakarta</td>\n",
              "      <td>2.234831e+12</td>\n",
              "    </tr>\n",
              "    <tr>\n",
              "      <th>259086</th>\n",
              "      <td>2016</td>\n",
              "      <td>Non Kegiatan</td>\n",
              "      <td>1.300000e+13</td>\n",
              "    </tr>\n",
              "    <tr>\n",
              "      <th>260050</th>\n",
              "      <td>2017</td>\n",
              "      <td>Non Kegiatan</td>\n",
              "      <td>1.351480e+13</td>\n",
              "    </tr>\n",
              "    <tr>\n",
              "      <th>312248</th>\n",
              "      <td>2018</td>\n",
              "      <td>Pembiayaan Premi Peserta Penerima Bantuan Iuran (PBI) Daerah</td>\n",
              "      <td>1.242000e+12</td>\n",
              "    </tr>\n",
              "    <tr>\n",
              "      <th>401636</th>\n",
              "      <td>2019</td>\n",
              "      <td>-</td>\n",
              "      <td>1.677800e+13</td>\n",
              "    </tr>\n",
              "    <tr>\n",
              "      <th>462431</th>\n",
              "      <td>2020</td>\n",
              "      <td>-</td>\n",
              "      <td>5.180000e+12</td>\n",
              "    </tr>\n",
              "    <tr>\n",
              "      <th>462586</th>\n",
              "      <td>2023</td>\n",
              "      <td>Administrasi Keuangan Perangkat Daerah</td>\n",
              "      <td>7.336830e+12</td>\n",
              "    </tr>\n",
              "  </tbody>\n",
              "</table>\n",
              "</div>\n",
              "    <div class=\"colab-df-buttons\">\n",
              "\n",
              "  <div class=\"colab-df-container\">\n",
              "    <button class=\"colab-df-convert\" onclick=\"convertToInteractive('df-ce6554e6-e1c5-436d-b7e2-8651aaf34363')\"\n",
              "            title=\"Convert this dataframe to an interactive table.\"\n",
              "            style=\"display:none;\">\n",
              "\n",
              "  <svg xmlns=\"http://www.w3.org/2000/svg\" height=\"24px\" viewBox=\"0 -960 960 960\">\n",
              "    <path d=\"M120-120v-720h720v720H120Zm60-500h600v-160H180v160Zm220 220h160v-160H400v160Zm0 220h160v-160H400v160ZM180-400h160v-160H180v160Zm440 0h160v-160H620v160ZM180-180h160v-160H180v160Zm440 0h160v-160H620v160Z\"/>\n",
              "  </svg>\n",
              "    </button>\n",
              "\n",
              "  <style>\n",
              "    .colab-df-container {\n",
              "      display:flex;\n",
              "      gap: 12px;\n",
              "    }\n",
              "\n",
              "    .colab-df-convert {\n",
              "      background-color: #E8F0FE;\n",
              "      border: none;\n",
              "      border-radius: 50%;\n",
              "      cursor: pointer;\n",
              "      display: none;\n",
              "      fill: #1967D2;\n",
              "      height: 32px;\n",
              "      padding: 0 0 0 0;\n",
              "      width: 32px;\n",
              "    }\n",
              "\n",
              "    .colab-df-convert:hover {\n",
              "      background-color: #E2EBFA;\n",
              "      box-shadow: 0px 1px 2px rgba(60, 64, 67, 0.3), 0px 1px 3px 1px rgba(60, 64, 67, 0.15);\n",
              "      fill: #174EA6;\n",
              "    }\n",
              "\n",
              "    .colab-df-buttons div {\n",
              "      margin-bottom: 4px;\n",
              "    }\n",
              "\n",
              "    [theme=dark] .colab-df-convert {\n",
              "      background-color: #3B4455;\n",
              "      fill: #D2E3FC;\n",
              "    }\n",
              "\n",
              "    [theme=dark] .colab-df-convert:hover {\n",
              "      background-color: #434B5C;\n",
              "      box-shadow: 0px 1px 3px 1px rgba(0, 0, 0, 0.15);\n",
              "      filter: drop-shadow(0px 1px 2px rgba(0, 0, 0, 0.3));\n",
              "      fill: #FFFFFF;\n",
              "    }\n",
              "  </style>\n",
              "\n",
              "    <script>\n",
              "      const buttonEl =\n",
              "        document.querySelector('#df-ce6554e6-e1c5-436d-b7e2-8651aaf34363 button.colab-df-convert');\n",
              "      buttonEl.style.display =\n",
              "        google.colab.kernel.accessAllowed ? 'block' : 'none';\n",
              "\n",
              "      async function convertToInteractive(key) {\n",
              "        const element = document.querySelector('#df-ce6554e6-e1c5-436d-b7e2-8651aaf34363');\n",
              "        const dataTable =\n",
              "          await google.colab.kernel.invokeFunction('convertToInteractive',\n",
              "                                                    [key], {});\n",
              "        if (!dataTable) return;\n",
              "\n",
              "        const docLinkHtml = 'Like what you see? Visit the ' +\n",
              "          '<a target=\"_blank\" href=https://colab.research.google.com/notebooks/data_table.ipynb>data table notebook</a>'\n",
              "          + ' to learn more about interactive tables.';\n",
              "        element.innerHTML = '';\n",
              "        dataTable['output_type'] = 'display_data';\n",
              "        await google.colab.output.renderOutput(dataTable, element);\n",
              "        const docLink = document.createElement('div');\n",
              "        docLink.innerHTML = docLinkHtml;\n",
              "        element.appendChild(docLink);\n",
              "      }\n",
              "    </script>\n",
              "  </div>\n",
              "\n",
              "\n",
              "<div id=\"df-04123122-1188-4b97-ac33-9a8cb2297289\">\n",
              "  <button class=\"colab-df-quickchart\" onclick=\"quickchart('df-04123122-1188-4b97-ac33-9a8cb2297289')\"\n",
              "            title=\"Suggest charts\"\n",
              "            style=\"display:none;\">\n",
              "\n",
              "<svg xmlns=\"http://www.w3.org/2000/svg\" height=\"24px\"viewBox=\"0 0 24 24\"\n",
              "     width=\"24px\">\n",
              "    <g>\n",
              "        <path d=\"M19 3H5c-1.1 0-2 .9-2 2v14c0 1.1.9 2 2 2h14c1.1 0 2-.9 2-2V5c0-1.1-.9-2-2-2zM9 17H7v-7h2v7zm4 0h-2V7h2v10zm4 0h-2v-4h2v4z\"/>\n",
              "    </g>\n",
              "</svg>\n",
              "  </button>\n",
              "\n",
              "<style>\n",
              "  .colab-df-quickchart {\n",
              "      --bg-color: #E8F0FE;\n",
              "      --fill-color: #1967D2;\n",
              "      --hover-bg-color: #E2EBFA;\n",
              "      --hover-fill-color: #174EA6;\n",
              "      --disabled-fill-color: #AAA;\n",
              "      --disabled-bg-color: #DDD;\n",
              "  }\n",
              "\n",
              "  [theme=dark] .colab-df-quickchart {\n",
              "      --bg-color: #3B4455;\n",
              "      --fill-color: #D2E3FC;\n",
              "      --hover-bg-color: #434B5C;\n",
              "      --hover-fill-color: #FFFFFF;\n",
              "      --disabled-bg-color: #3B4455;\n",
              "      --disabled-fill-color: #666;\n",
              "  }\n",
              "\n",
              "  .colab-df-quickchart {\n",
              "    background-color: var(--bg-color);\n",
              "    border: none;\n",
              "    border-radius: 50%;\n",
              "    cursor: pointer;\n",
              "    display: none;\n",
              "    fill: var(--fill-color);\n",
              "    height: 32px;\n",
              "    padding: 0;\n",
              "    width: 32px;\n",
              "  }\n",
              "\n",
              "  .colab-df-quickchart:hover {\n",
              "    background-color: var(--hover-bg-color);\n",
              "    box-shadow: 0 1px 2px rgba(60, 64, 67, 0.3), 0 1px 3px 1px rgba(60, 64, 67, 0.15);\n",
              "    fill: var(--button-hover-fill-color);\n",
              "  }\n",
              "\n",
              "  .colab-df-quickchart-complete:disabled,\n",
              "  .colab-df-quickchart-complete:disabled:hover {\n",
              "    background-color: var(--disabled-bg-color);\n",
              "    fill: var(--disabled-fill-color);\n",
              "    box-shadow: none;\n",
              "  }\n",
              "\n",
              "  .colab-df-spinner {\n",
              "    border: 2px solid var(--fill-color);\n",
              "    border-color: transparent;\n",
              "    border-bottom-color: var(--fill-color);\n",
              "    animation:\n",
              "      spin 1s steps(1) infinite;\n",
              "  }\n",
              "\n",
              "  @keyframes spin {\n",
              "    0% {\n",
              "      border-color: transparent;\n",
              "      border-bottom-color: var(--fill-color);\n",
              "      border-left-color: var(--fill-color);\n",
              "    }\n",
              "    20% {\n",
              "      border-color: transparent;\n",
              "      border-left-color: var(--fill-color);\n",
              "      border-top-color: var(--fill-color);\n",
              "    }\n",
              "    30% {\n",
              "      border-color: transparent;\n",
              "      border-left-color: var(--fill-color);\n",
              "      border-top-color: var(--fill-color);\n",
              "      border-right-color: var(--fill-color);\n",
              "    }\n",
              "    40% {\n",
              "      border-color: transparent;\n",
              "      border-right-color: var(--fill-color);\n",
              "      border-top-color: var(--fill-color);\n",
              "    }\n",
              "    60% {\n",
              "      border-color: transparent;\n",
              "      border-right-color: var(--fill-color);\n",
              "    }\n",
              "    80% {\n",
              "      border-color: transparent;\n",
              "      border-right-color: var(--fill-color);\n",
              "      border-bottom-color: var(--fill-color);\n",
              "    }\n",
              "    90% {\n",
              "      border-color: transparent;\n",
              "      border-bottom-color: var(--fill-color);\n",
              "    }\n",
              "  }\n",
              "</style>\n",
              "\n",
              "  <script>\n",
              "    async function quickchart(key) {\n",
              "      const quickchartButtonEl =\n",
              "        document.querySelector('#' + key + ' button');\n",
              "      quickchartButtonEl.disabled = true;  // To prevent multiple clicks.\n",
              "      quickchartButtonEl.classList.add('colab-df-spinner');\n",
              "      try {\n",
              "        const charts = await google.colab.kernel.invokeFunction(\n",
              "            'suggestCharts', [key], {});\n",
              "      } catch (error) {\n",
              "        console.error('Error during call to suggestCharts:', error);\n",
              "      }\n",
              "      quickchartButtonEl.classList.remove('colab-df-spinner');\n",
              "      quickchartButtonEl.classList.add('colab-df-quickchart-complete');\n",
              "    }\n",
              "    (() => {\n",
              "      let quickchartButtonEl =\n",
              "        document.querySelector('#df-04123122-1188-4b97-ac33-9a8cb2297289 button');\n",
              "      quickchartButtonEl.style.display =\n",
              "        google.colab.kernel.accessAllowed ? 'block' : 'none';\n",
              "    })();\n",
              "  </script>\n",
              "</div>\n",
              "\n",
              "    </div>\n",
              "  </div>\n"
            ],
            "application/vnd.google.colaboratory.intrinsic+json": {
              "type": "dataframe",
              "summary": "{\n  \"name\": \"display(largest_allocation[['periode_data', 'nama_kegiatan', 'nilai_anggaran']])\",\n  \"rows\": 8,\n  \"fields\": [\n    {\n      \"column\": \"periode_data\",\n      \"properties\": {\n        \"dtype\": \"number\",\n        \"std\": 3,\n        \"min\": 2013,\n        \"max\": 2023,\n        \"num_unique_values\": 8,\n        \"samples\": [\n          2015,\n          2019,\n          2013\n        ],\n        \"semantic_type\": \"\",\n        \"description\": \"\"\n      }\n    },\n    {\n      \"column\": \"nama_kegiatan\",\n      \"properties\": {\n        \"dtype\": \"string\",\n        \"num_unique_values\": 6,\n        \"samples\": [\n          \"Penyediaan Dana jaminan pemeliharaan kesehatan daerah\",\n          \"Pembebasan Lahan untuk Ruang Terbuka Hijau di Provinsi DKI Jakarta\",\n          \"Administrasi Keuangan Perangkat Daerah\"\n        ],\n        \"semantic_type\": \"\",\n        \"description\": \"\"\n      }\n    },\n    {\n      \"column\": \"nilai_anggaran\",\n      \"properties\": {\n        \"dtype\": \"number\",\n        \"std\": 6102989700708.232,\n        \"min\": 1242000000000.0,\n        \"max\": 16778000000000.0,\n        \"num_unique_values\": 8,\n        \"samples\": [\n          2234830810360.0,\n          16778000000000.0,\n          1500000000000.0\n        ],\n        \"semantic_type\": \"\",\n        \"description\": \"\"\n      }\n    }\n  ]\n}"
            }
          },
          "metadata": {}
        }
      ]
    },
    {
      "cell_type": "code",
      "source": [
        "# Mengganti nama_kegiatan yang berisi \"-\" menjadi \"Tidak Ada Kegiatan\" pada tahun 2019 dan 2020\n",
        "data_combined.loc[\n",
        "    (data_combined['periode_data'].isin([2019, 2020])) & (data_combined['nama_kegiatan'] == '-'),\n",
        "    'nama_kegiatan'\n",
        "] = 'Tidak Ada Kegiatan'\n",
        "\n",
        "# Mengambil kegiatan dengan nilai anggaran tertinggi untuk setiap tahun\n",
        "top_kegiatan_per_tahun = data_combined.loc[data_combined.groupby('periode_data')['nilai_anggaran'].idxmax()]\n",
        "\n",
        "# Membuat grafik batang\n",
        "plt.figure(figsize=(12, 6))\n",
        "sns.barplot(data=top_kegiatan_per_tahun, x='periode_data', y='nilai_anggaran', hue='nama_kegiatan')\n",
        "plt.title('Kegiatan dengan Alokasi Anggaran Terbesar per Tahun')\n",
        "plt.xlabel('Tahun')\n",
        "plt.ylabel('Nilai Anggaran')\n",
        "plt.xticks(rotation=45)\n",
        "plt.legend(title='Nama Kegiatan', bbox_to_anchor=(1.05, 1), loc='upper left')\n",
        "plt.tight_layout()\n",
        "plt.show()\n"
      ],
      "metadata": {
        "colab": {
          "base_uri": "https://localhost:8080/",
          "height": 835
        },
        "id": "lS6gsa_Gvj_t",
        "outputId": "fc0dc7dc-1d36-45a9-c21a-9d79e602d9bb"
      },
      "execution_count": null,
      "outputs": [
        {
          "output_type": "stream",
          "name": "stderr",
          "text": [
            "/usr/local/lib/python3.10/dist-packages/seaborn/_base.py:949: FutureWarning: When grouping with a length-1 list-like, you will need to pass a length-1 tuple to get_group in a future version of pandas. Pass `(name,)` instead of `name` to silence this warning.\n",
            "  data_subset = grouped_data.get_group(pd_key)\n",
            "/usr/local/lib/python3.10/dist-packages/seaborn/_base.py:949: FutureWarning: When grouping with a length-1 list-like, you will need to pass a length-1 tuple to get_group in a future version of pandas. Pass `(name,)` instead of `name` to silence this warning.\n",
            "  data_subset = grouped_data.get_group(pd_key)\n",
            "/usr/local/lib/python3.10/dist-packages/seaborn/_base.py:949: FutureWarning: When grouping with a length-1 list-like, you will need to pass a length-1 tuple to get_group in a future version of pandas. Pass `(name,)` instead of `name` to silence this warning.\n",
            "  data_subset = grouped_data.get_group(pd_key)\n",
            "/usr/local/lib/python3.10/dist-packages/seaborn/_base.py:949: FutureWarning: When grouping with a length-1 list-like, you will need to pass a length-1 tuple to get_group in a future version of pandas. Pass `(name,)` instead of `name` to silence this warning.\n",
            "  data_subset = grouped_data.get_group(pd_key)\n",
            "/usr/local/lib/python3.10/dist-packages/seaborn/_base.py:949: FutureWarning: When grouping with a length-1 list-like, you will need to pass a length-1 tuple to get_group in a future version of pandas. Pass `(name,)` instead of `name` to silence this warning.\n",
            "  data_subset = grouped_data.get_group(pd_key)\n",
            "/usr/local/lib/python3.10/dist-packages/seaborn/_base.py:949: FutureWarning: When grouping with a length-1 list-like, you will need to pass a length-1 tuple to get_group in a future version of pandas. Pass `(name,)` instead of `name` to silence this warning.\n",
            "  data_subset = grouped_data.get_group(pd_key)\n"
          ]
        },
        {
          "output_type": "display_data",
          "data": {
            "text/plain": [
              "<Figure size 1200x600 with 1 Axes>"
            ],
            "image/png": "[encoded data removed]"
          },
          "metadata": {}
        }
      ]
    },
    {
      "cell_type": "markdown",
      "source": [
        "# **Kesimpulan**\n",
        "\n",
        "Pada grafik di atas dapat disimpulkan bahwa terdapat jumlah anggaran di setiap tahun, untuk kegiatan yang menerima alokasi anggaran terbesar yaitu sebagai berikut.\n",
        "*   Penyediaan Dana jaminan pemeliharaan kesehatan daerah (2013)\n",
        "*   Pembebasan Lahan untuk Ruang Terbuka Hijau di Provinsi DKI Jakarta (2015)\n",
        "*   Non Kegiatan (2016)\n",
        "*   Non Kegiatan (2017)\n",
        "*   Pembiayaan Premi Peserta Penerima Bantuan Iuran (PBI) Daerah (2018)\n",
        "*   Tidak ada kegiatan (2019)\n",
        "*   Tidak ada kegiatan (2020)\n",
        "*   Administrasi Keuangan Perangkat Daerah (2023)\n",
        "\n",
        "Dan pada tahun 2019 terjadi lonjakan anggaran terbesar.\n",
        "\n",
        "\n",
        "\n",
        "\n",
        "\n",
        "\n",
        "\n",
        "\n"
      ],
      "metadata": {
        "id": "TUFU4UhDRAIm"
      }
    }
  ]
}