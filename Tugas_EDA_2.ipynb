{
  "nbformat": 4,
  "nbformat_minor": 0,
  "metadata": {
    "colab": {
      "provenance": []
    },
    "kernelspec": {
      "name": "python3",
      "display_name": "Python 3"
    },
    "language_info": {
      "name": "python"
    }
  },
  "cells": [
    {
      "cell_type": "markdown",
      "source": [
        "# **Tren Pengeluaran Prioritas Anggaran Provinsi DKI Jakarta**"
      ],
      "metadata": {
        "id": "VlrH9jdjhi8r"
      }
    },
    {
      "cell_type": "markdown",
      "source": [
        "**Kelompok 10**\n",
        "\n",
        "1.   Muhammad Igin Adigholib (2301125)\n",
        "2.   Rahmat Taufik Al-Hidayah (2300414)\n",
        "3.   Anugrah Bayu Satrio (2300624)\n",
        "4.   Muhamad Khafabillah Sopian (2307824)\n",
        "5.   Rexy Putra Nur Laksana (2309578)"
      ],
      "metadata": {
        "id": "5F5CGZhZhnK7"
      }
    },
    {
      "cell_type": "markdown",
      "source": [
        "# **Pendahuluan**\n",
        "\n",
        "Eksplorasi Data Analysis (EDA) merupakan langkah awal yang penting dalam memahami karakteristik suatu dataset. EDA berfungsi sebagai jembatan antara pengumpulan data dan analisis yang lebih dalam, memungkinkan para peneliti untuk mengeksplorasi dan memahami data mereka dengan cara yang lebih komprehensif. Dengan menggunakan teknik visualisasi dan statistik deskriptif, EDA dapat mengungkapkan pola, tren, dan anomali dalam data, yang semuanya krusial untuk pengambilan keputusan berbasis data【1】【2】.\n",
        "\n",
        "Dalam konteks analisis anggaran DKI Jakarta, EDA bertujuan untuk mengidentifikasi tren pengeluaran dan prioritas alokasi dana untuk berbagai kegiatan. Analisis ini sangat relevan, terutama dalam konteks pengelolaan anggaran daerah yang harus memenuhi beragam kebutuhan masyarakat. Dengan memanfaatkan metode EDA, kita dapat menggali informasi terkait bagaimana anggaran dialokasikan ke berbagai sektor, seperti pendidikan, kesehatan, dan infrastruktur, serta bagaimana pengeluaran bervariasi dari tahun ke tahun【2】.\n",
        "\n",
        "Dengan pemahaman yang lebih mendalam tentang distribusi dan penggunaan anggaran, diharapkan analisis ini dapat memberikan gambaran yang jelas tentang bagaimana pemerintah daerah mengarahkan sumber daya untuk pembangunan dan pelayanan publik. Hal ini penting untuk memastikan bahwa pengelolaan anggaran tidak hanya efisien tetapi juga efektif dalam memenuhi kebutuhan masyarakat【2】.\n",
        "\n",
        "**Referensi**\n",
        "\n",
        "[1] A. S. Rao, B. V. Vardhan and H. Shaik, \"Role of Exploratory Data Analysis in Data Science,\" 2021 6th International Conference on Communication and Electronics Systems (ICCES), Coimbatre, India, 2021, pp. 1457-1461, doi: 10.1109/ICCES51350.2021.9488986. Diakses pada 1 November 2024.\n",
        "\n",
        "[2] P. Iliopoulos dan K. De Witte, \"The expenditure composition and trade-offs in local government budgets,\" Socio-Economic Planning Sciences, vol. 93, 2024, art. 101900, doi: 10.1016/j.seps.2024.101900. Diakses pada 1 November 2024."
      ],
      "metadata": {
        "id": "EjsMdoX6hyIn"
      }
    },
    {
      "cell_type": "markdown",
      "source": [
        "# **Sumber Data**\n",
        "\n",
        "https://katalog.data.go.id/dataset/data-apbd-provinsi-dki-jakarta?kategori=&q=apbd&sort=prioritas_tahun%20desc\n",
        "https://katalog.data.go.id/dataset/data-anggaran-pendapatan-belanja-dki-jakarta-tahun-2014?kategori=&q=apbd&sort=prioritas_tahun%20desc\n",
        "https://katalog.data.go.id/dataset/data-perencanaan-apbd-2018?kategori=&q=APBD%20&sort=prioritas_tahun%20desc\n",
        "https://katalog.data.go.id/dataset/data-capaian-pelaksanaan-kegiatan-apbd-2017?kategori=&q=APBD%20&sort=prioritas_tahun%20desc\n",
        "https://katalog.data.go.id/dataset/data-apbd-provinsi-dki-jakarta-tahun-2020?currentPage=0&facet.field=organization,kategori,prioritas_tahun,tags,res_format&facet.limit=500&rows=20&include_private=true&kategori=&prioritas_tahun=&tags=&res_format=&organization=provinsi*dki*jakarta&q=APBD%20&sort=prioritas_tahun%20desc&resetFilter=true&start=0\n",
        "https://katalog.data.go.id/dataset/data-apbd-provinsi-dki-jakarta-tahun-2019?kategori=&q=APBD%20&sort=prioritas_tahun%20desc\n",
        "https://katalog.data.go.id/dataset/data-anggaran-belanja-dki-jakarta-per-kegiatan?currentPage=0&facet.field=organization,kategori,prioritas_tahun,tags,res_format&facet.limit=500&rows=20&include_private=true&kategori=&prioritas_tahun=&tags=&res_format=&organization=provinsi*dki*jakarta&q=apbd&sort=prioritas_tahun%20desc&resetFilter=true&start=0\n",
        "https://katalog.data.go.id/dataset/data-apbd-provinsi-dki-jakarta-tahun-2016?currentPage=0&facet.field=organization,kategori,prioritas_tahun,tags,res_format&facet.limit=500&rows=20&include_private=true&kategori=&prioritas_tahun=&tags=&res_format=&organization=provinsi*dki*jakarta&q=apbd&sort=prioritas_tahun%20desc&resetFilter=true&start=0\n",
        "https://katalog.data.go.id/dataset/data-apbd-penetapan-2015-dki-jakarta?kategori=&q=apbd&sort=prioritas_tahun%20desc"
      ],
      "metadata": {
        "id": "jeHtsMmRk_tb"
      }
    },
    {
      "cell_type": "markdown",
      "source": [
        "# **Perpustakaan**"
      ],
      "metadata": {
        "id": "iVsns9QJleC2"
      }
    },
    {
      "cell_type": "markdown",
      "source": [
        "**Mengimpor library yang diperlukan untuk manipulasi data (pandas, numpy), visualisasi (matplotlib, seaborn).**"
      ],
      "metadata": {
        "id": "ko67oVPSjkiE"
      }
    },
    {
      "cell_type": "code",
      "source": [
        "# Import libraries\n",
        "import pandas as pd\n",
        "import numpy as np\n",
        "import matplotlib.pyplot as plt\n",
        "import seaborn as sns\n",
        "from matplotlib.ticker import FuncFormatter\n",
        "from os.path import join\n",
        "from IPython.core.display import display, HTML"
      ],
      "metadata": {
        "id": "us2x7_aoiAnK"
      },
      "execution_count": null,
      "outputs": []
    },
    {
      "cell_type": "markdown",
      "source": [
        "# **Impor Drive**"
      ],
      "metadata": {
        "id": "5Amvvm2clmMu"
      }
    },
    {
      "cell_type": "markdown",
      "source": [
        "**Menghubungkan Google Colab dengan Google Drive untuk mengakses file yang tersimpan di dalamnya.**"
      ],
      "metadata": {
        "id": "eN1xwG_zj-Z4"
      }
    },
    {
      "cell_type": "code",
      "source": [
        "from google.colab import drive\n",
        "drive.mount('/content/drive')\n",
        "dir = \"/content/drive/MyDrive/Data Mining(EDA)/\"\n"
      ],
      "metadata": {
        "colab": {
          "base_uri": "https://localhost:8080/"
        },
        "id": "1XfIbwmpiD8Y",
        "outputId": "4d205cc1-be0d-4898-dabe-0f8b6e6cf550"
      },
      "execution_count": null,
      "outputs": [
        {
          "output_type": "stream",
          "name": "stdout",
          "text": [
            "Drive already mounted at /content/drive; to attempt to forcibly remount, call drive.mount(\"/content/drive\", force_remount=True).\n"
          ]
        }
      ]
    },
    {
      "cell_type": "markdown",
      "source": [
        "# **Akses Drive**"
      ],
      "metadata": {
        "id": "2s5MbDGnmByp"
      }
    },
    {
      "cell_type": "markdown",
      "source": [
        "**Memuat data anggaran belanja dan APBD DKI Jakarta dari beberapa file CSV ke dalam DataFrame, termasuk data realisasi belanja 2014 hingga APBD 2020, serta capaian pelaksanaan kegiatan APBD 2017.**\n"
      ],
      "metadata": {
        "id": "uEqngISimSVG"
      }
    },
    {
      "cell_type": "code",
      "source": [
        "# Memuat data dari CSV\n",
        "belanja = pd.read_csv(join(dir, \"Filedata Data Anggaran Belanja DKI Jakarta Per Kegiatan.csv\"))\n",
        "belanja2014 = pd.read_csv(join(dir, \"Filedata Data Realisasi Belanja 2014 Pemerintah Provinsi DKI Jakarta.csv\"))\n",
        "apbd = pd.read_csv(join(dir, \"Data APBD Provinsi DKI Jakarta.csv\"))\n",
        "apbd2015 = pd.read_csv(join(dir, \"Data APBD Penetapan 2015 DKI Jakarta (1).csv\"))\n",
        "apbd2016 = pd.read_csv(join(dir, \" Data APBD Provinsi DKI Jakarta Tahun 2016.csv\"))\n",
        "apbd2017 = pd.read_csv(join(dir, \"Data APBD Provinsi DKI Jakarta Tahun 2017.csv\"))\n",
        "apbd2018 = pd.read_csv(join(dir, \"Data Perencanaan APBD 2018.csv\"))\n",
        "apbd2019 = pd.read_csv(join(dir, \"Data APBD Provinsi DKI Jakarta Tahun 2019.csv\"))\n",
        "apbd2020 = pd.read_csv(join(dir, \"Data APBD Provinsi DKI Jakarta Tahun 2020 (1).csv\"))\n",
        "pelaksanaan = pd.read_csv(join(dir, \"Data Capaian Pelaksanaan Kegiatan APBD 2017 (2).csv\"))"
      ],
      "metadata": {
        "colab": {
          "base_uri": "https://localhost:8080/"
        },
        "id": "fjAkTdUpmF74",
        "outputId": "340eccc7-7543-4915-b007-dac56f795697"
      },
      "execution_count": null,
      "outputs": [
        {
          "output_type": "stream",
          "name": "stderr",
          "text": [
            "<ipython-input-93-c692b1202934>:9: DtypeWarning: Columns (6,8) have mixed types. Specify dtype option on import or set low_memory=False.\n",
            "  apbd2019 = pd.read_csv(join(dir, \"Data APBD Provinsi DKI Jakarta Tahun 2019.csv\"))\n",
            "<ipython-input-93-c692b1202934>:10: DtypeWarning: Columns (6,8) have mixed types. Specify dtype option on import or set low_memory=False.\n",
            "  apbd2020 = pd.read_csv(join(dir, \"Data APBD Provinsi DKI Jakarta Tahun 2020 (1).csv\"))\n"
          ]
        }
      ]
    },
    {
      "cell_type": "markdown",
      "source": [
        "# **Penyesuaian Nama Atribut dan Nama Field Pendidikan**"
      ],
      "metadata": {
        "id": "_TjO6HBToz70"
      }
    },
    {
      "cell_type": "markdown",
      "source": [
        "**Mengganti nama kolom untuk konsistensi tambahan pada beberapa dataset**"
      ],
      "metadata": {
        "id": "9VfAgO3MogWj"
      }
    },
    {
      "cell_type": "code",
      "source": [
        "# Mengubah nama kolom menjadi konsisten di seluruh dataset\n",
        "apbd2015.rename(columns={'urusannama': 'nama_urusan_program', 'anggaran': 'nilai_anggaran'}, inplace=True)\n",
        "pelaksanaan.rename(columns={'urusan_nama': 'nama_urusan_program', 'anggaran': 'nilai_anggaran'}, inplace=True)\n",
        "belanja2014.rename(columns={'nama_urusan': 'nama_urusan_program', 'anggaran': 'nilai_anggaran'}, inplace=True)\n",
        "apbd2018.rename(columns={'nama_urusan': 'nama_urusan_program', 'anggaran': 'nilai_anggaran'}, inplace=True)\n",
        "\n",
        "# Mengubah \"Pendidikan\" menjadi uppercase pada masing-masing dataset\n",
        "apbd2015['nama_urusan_program'] = apbd2015['nama_urusan_program'].apply(lambda x: x.replace('Pendidikan', 'PENDIDIKAN') if 'Pendidikan' in x else x)\n",
        "pelaksanaan['nama_urusan_program'] = pelaksanaan['nama_urusan_program'].apply(lambda x: x.replace('Pendidikan', 'PENDIDIKAN') if 'Pendidikan' in x else x)\n",
        "apbd2018['nama_urusan_program'] = apbd2018['nama_urusan_program'].apply(lambda x: x.replace('Pendidikan', 'PENDIDIKAN') if 'Pendidikan' in x else x)\n",
        "\n",
        "# Memilih kolom yang diperlukan\n",
        "data_belanja = belanja2014[['nama_urusan_program', 'nilai_anggaran', 'periode_data']]\n",
        "data_apbd2015 = apbd2015[['nama_urusan_program', 'nilai_anggaran', 'periode_data']]\n",
        "data_apbd2016 = apbd2016[['nama_urusan_program', 'nilai_anggaran', 'periode_data']]\n",
        "data_apbd2017 = apbd2017[['nama_urusan_program', 'nilai_anggaran', 'periode_data']]\n",
        "data_apbd2018 = apbd2018[['nama_urusan_program', 'nilai_anggaran', 'periode_data']]\n",
        "data_apbd2019 = apbd2019[['nama_urusan_program', 'nilai_anggaran', 'periode_data']]\n",
        "data_apbd2020 = apbd2020[['nama_urusan_program', 'nilai_anggaran', 'periode_data']]\n",
        "data_apbd = apbd[['nilai_anggaran', 'periode_data']]\n",
        "data_pelaksanaan = pelaksanaan[['nama_urusan_program', 'nilai_anggaran', 'periode_data']]"
      ],
      "metadata": {
        "id": "siRiOyp6ob1r"
      },
      "execution_count": null,
      "outputs": []
    },
    {
      "cell_type": "markdown",
      "source": [
        "**Tiga kode ini memfilter data \"PENDIDIKAN\" dari dataset APBD Penetapan 2015 setelah mengganti semua kemunculan \"Pendidikan\" menjadi uppercase untuk konsistensi, hanya menampilkan kolom 'nama_urusan_program', 'nilai_anggaran', dan 'periode_data'.**"
      ],
      "metadata": {
        "id": "kejGPKJxgYip"
      }
    },
    {
      "cell_type": "code",
      "source": [
        "# Memfilter data khusus untuk \"PENDIDIKAN\" dan hanya menampilkan tiga kolom\n",
        "data_pendidikan_2015 = apbd2015.loc[apbd2015['nama_urusan_program'] == 'PENDIDIKAN',\n",
        "                                    ['nama_urusan_program', 'nilai_anggaran', 'periode_data']]\n",
        "\n",
        "# Menghapus koma dari nilai_anggaran dan mengubah tipe data menjadi integer\n",
        "data_pendidikan_2015['nilai_anggaran'] = (\n",
        "    data_pendidikan_2015['nilai_anggaran']\n",
        "    .replace(',', '', regex=True)  # Menghapus koma\n",
        "    .astype(int)  # Mengonversi ke integer\n",
        ")\n",
        "\n",
        "# Menampilkan hasilnya\n",
        "print(\"Data Pendidikan APBD Penetapan 2015:\")\n",
        "print(data_pendidikan_2015.head())\n"
      ],
      "metadata": {
        "colab": {
          "base_uri": "https://localhost:8080/"
        },
        "id": "9oVEHn5xdZS2",
        "outputId": "fb9cb422-d87c-445f-daba-9e3b56bf2f8d"
      },
      "execution_count": null,
      "outputs": [
        {
          "output_type": "stream",
          "name": "stdout",
          "text": [
            "Data Pendidikan APBD Penetapan 2015:\n",
            "  nama_urusan_program  nilai_anggaran  periode_data\n",
            "0          PENDIDIKAN      1500000000          2015\n",
            "1          PENDIDIKAN      1000000000          2015\n",
            "2          PENDIDIKAN      1000000000          2015\n",
            "3          PENDIDIKAN      1000000000          2015\n",
            "4          PENDIDIKAN      1000000000          2015\n"
          ]
        }
      ]
    },
    {
      "cell_type": "code",
      "source": [
        "# Memfilter data khusus untuk \"PENDIDIKAN\" pada dataset Capaian Pelaksanaan Kegiatan APBD 2017\n",
        "data_pendidikan_2017 = pelaksanaan.loc[pelaksanaan['nama_urusan_program'] == 'PENDIDIKAN', ['nama_urusan_program', 'nilai_anggaran', 'periode_data']]\n",
        "print(\"\\nData Pendidikan Capaian Pelaksanaan Kegiatan APBD 2017:\")\n",
        "print(data_pendidikan_2017.head())"
      ],
      "metadata": {
        "colab": {
          "base_uri": "https://localhost:8080/"
        },
        "id": "E7sltspDesgD",
        "outputId": "82ebc20f-53c9-4ff6-f0a9-fca1abe9d337"
      },
      "execution_count": null,
      "outputs": [
        {
          "output_type": "stream",
          "name": "stdout",
          "text": [
            "\n",
            "Data Pendidikan Capaian Pelaksanaan Kegiatan APBD 2017:\n",
            "       nama_urusan_program  nilai_anggaran  periode_data\n",
            "127086          PENDIDIKAN        10820000          2017\n",
            "127087          PENDIDIKAN        10820000          2017\n",
            "127088          PENDIDIKAN        10820000          2017\n",
            "127089          PENDIDIKAN         6890000          2017\n",
            "127090          PENDIDIKAN         6890000          2017\n"
          ]
        }
      ]
    },
    {
      "cell_type": "code",
      "source": [
        "# Memfilter data khusus untuk \"PENDIDIKAN\" pada dataset Perencanaan APBD 2018\n",
        "data_pendidikan_2018 = apbd2018.loc[apbd2018['nama_urusan_program'] == 'PENDIDIKAN', ['nama_urusan_program', 'nilai_anggaran', 'periode_data']]\n",
        "print(\"\\nData Pendidikan Perencanaan APBD 2018:\")\n",
        "print(data_pendidikan_2018.head())"
      ],
      "metadata": {
        "colab": {
          "base_uri": "https://localhost:8080/"
        },
        "id": "Lkmq0DIpfDfR",
        "outputId": "9cd0c0d4-7a32-4f54-a9bc-f323035be761"
      },
      "execution_count": null,
      "outputs": [
        {
          "output_type": "stream",
          "name": "stdout",
          "text": [
            "\n",
            "Data Pendidikan Perencanaan APBD 2018:\n",
            "     nama_urusan_program  nilai_anggaran  periode_data\n",
            "3083          PENDIDIKAN      51350000.0          2018\n",
            "3084          PENDIDIKAN     154050000.0          2018\n",
            "3124          PENDIDIKAN     363009000.0          2018\n",
            "3125          PENDIDIKAN      14151000.0          2018\n",
            "3126          PENDIDIKAN      11032350.0          2018\n"
          ]
        }
      ]
    },
    {
      "cell_type": "markdown",
      "source": [
        "# **Penggabungan Semua Dataset**"
      ],
      "metadata": {
        "id": "zSueEpaSjcYy"
      }
    },
    {
      "cell_type": "markdown",
      "source": [
        "**Kode ini menggabungkan berbagai dataset terkait anggaran dan belanja DKI Jakarta serta memfilter untuk menampilkan hanya data sektor pendidikan dalam huruf uppercase, beserta kolom 'nilai_anggaran' dan 'periode_data'.**\n"
      ],
      "metadata": {
        "id": "JHy3ZN1bp8cv"
      }
    },
    {
      "cell_type": "code",
      "source": [
        "# Menggabungkan dataset, kecuali yang disebutkan\n",
        "data_combined = pd.concat([\n",
        "    belanja2014[['nama_urusan_program', 'nilai_anggaran', 'periode_data']],  # Dataset Belanja 2014\n",
        "    data_pendidikan_2015[['nama_urusan_program', 'nilai_anggaran', 'periode_data']],  # Dataset APBD 2015 dengan pendidikan uppercase\n",
        "    apbd2016[['nama_urusan_program', 'nilai_anggaran', 'periode_data']],  # Dataset APBD 2016\n",
        "    apbd2017[['nama_urusan_program', 'nilai_anggaran', 'periode_data']],  # Dataset APBD 2017\n",
        "    apbd2018[['nama_urusan_program', 'nilai_anggaran', 'periode_data']],  # Dataset APBD 2018 dengan pendidikan uppercase\n",
        "    apbd2019[['nama_urusan_program', 'nilai_anggaran', 'periode_data']],  # Dataset APBD 2019\n",
        "    apbd2020[['nama_urusan_program', 'nilai_anggaran', 'periode_data']],  # Dataset APBD 2020\n",
        "#   pelaksanaan[['nama_urusan_program', 'nilai_anggaran', 'periode_data']]  # Dataset Capaian Pelaksanaan Kegiatan\n",
        "], ignore_index=True)\n",
        "\n",
        "# Memfilter data untuk sektor pendidikan\n",
        "data_pendidikan = data_combined[data_combined['nama_urusan_program'] == 'PENDIDIKAN'][['nama_urusan_program', 'nilai_anggaran', 'periode_data']]\n",
        "\n",
        "# Menampilkan hasil pemfilteran\n",
        "print(\"Data Gabungan Sektor Pendidikan:\")\n",
        "print(data_pendidikan.head())\n"
      ],
      "metadata": {
        "colab": {
          "base_uri": "https://localhost:8080/"
        },
        "id": "SndmM05Ujhqw",
        "outputId": "b053dae6-be0a-4d58-a962-85143a26fd0e"
      },
      "execution_count": null,
      "outputs": [
        {
          "output_type": "stream",
          "name": "stdout",
          "text": [
            "Data Gabungan Sektor Pendidikan:\n",
            "     nama_urusan_program  nilai_anggaran  periode_data\n",
            "8359          PENDIDIKAN       6077500.0          2014\n",
            "8360          PENDIDIKAN       6160000.0          2014\n",
            "8361          PENDIDIKAN             0.0          2014\n",
            "8362          PENDIDIKAN       2860000.0          2014\n",
            "8363          PENDIDIKAN      22099220.0          2014\n"
          ]
        }
      ]
    },
    {
      "cell_type": "markdown",
      "source": [
        "# **Proses Untuk Data yang Bernilai Null dan Nol**"
      ],
      "metadata": {
        "id": "3y-4PhQ5Aqae"
      }
    },
    {
      "cell_type": "code",
      "source": [
        "# Memfilter data untuk sektor pendidikan\n",
        "data_pendidikan = data_combined[data_combined['nama_urusan_program'] == 'PENDIDIKAN']\n",
        "\n",
        "# Menghitung jumlah nilai null di kolom 'nilai_anggaran'\n",
        "jumlah_null = data_pendidikan['nilai_anggaran'].isnull().sum()\n",
        "\n",
        "# Menghitung jumlah nilai nol di kolom 'nilai_anggaran'\n",
        "jumlah_nol = (data_pendidikan['nilai_anggaran'] == 0).sum()\n",
        "\n",
        "# Menampilkan hasil\n",
        "print(f\"Jumlah nilai null dalam sektor Pendidikan: {jumlah_null}\")\n",
        "print(f\"Jumlah nilai nol dalam sektor Pendidikan: {jumlah_nol}\")\n"
      ],
      "metadata": {
        "colab": {
          "base_uri": "https://localhost:8080/"
        },
        "id": "EYA6KNPN_LJP",
        "outputId": "9ff92047-56d0-4d08-e880-d0da20b1db04"
      },
      "execution_count": null,
      "outputs": [
        {
          "output_type": "stream",
          "name": "stdout",
          "text": [
            "Jumlah nilai null dalam sektor Pendidikan: 2\n",
            "Jumlah nilai nol dalam sektor Pendidikan: 180\n"
          ]
        }
      ]
    },
    {
      "cell_type": "code",
      "source": [
        "# Menghapus nilai null\n",
        "data_pendidikan = data_pendidikan.dropna(subset=['nilai_anggaran'])\n",
        "\n",
        "# Menghapus nilai nol\n",
        "data_pendidikan = data_pendidikan[data_pendidikan['nilai_anggaran'] != 0]\n",
        "\n",
        "# Memeriksa nilai null dan nol setelah penghapusan\n",
        "null_count = data_pendidikan['nilai_anggaran'].isnull().sum()\n",
        "zero_count = (data_pendidikan['nilai_anggaran'] == 0).sum()\n",
        "\n",
        "# Menampilkan jumlah nilai null dan nol\n",
        "print(f\"Jumlah nilai null setelah penghapusan: {null_count}\")\n",
        "print(f\"Jumlah nilai nol setelah penghapusan: {zero_count}\\n\")\n",
        "\n",
        "# Menampilkan hasil setelah menghapus nilai null dan nol\n",
        "print(\"Data Pendidikan setelah menghapus nilai null dan nol:\")\n",
        "print(data_pendidikan)\n"
      ],
      "metadata": {
        "colab": {
          "base_uri": "https://localhost:8080/"
        },
        "id": "ne2QSoI_ALQ4",
        "outputId": "f1944fb1-9330-42ee-f66f-0e901141f025"
      },
      "execution_count": null,
      "outputs": [
        {
          "output_type": "stream",
          "name": "stdout",
          "text": [
            "Jumlah nilai null setelah penghapusan: 0\n",
            "Jumlah nilai nol setelah penghapusan: 0\n",
            "\n",
            "Data Pendidikan setelah menghapus nilai null dan nol:\n",
            "       nama_urusan_program  nilai_anggaran  periode_data\n",
            "8359            PENDIDIKAN    6.077500e+06          2014\n",
            "8360            PENDIDIKAN    6.160000e+06          2014\n",
            "8362            PENDIDIKAN    2.860000e+06          2014\n",
            "8363            PENDIDIKAN    2.209922e+07          2014\n",
            "8364            PENDIDIKAN    1.100000e+07          2014\n",
            "...                    ...             ...           ...\n",
            "295182          PENDIDIKAN    4.872250e+09          2020\n",
            "295183          PENDIDIKAN    1.106800e+10          2020\n",
            "295289          PENDIDIKAN    1.260000e+12          2020\n",
            "295301          PENDIDIKAN    1.630000e+11          2020\n",
            "295303          PENDIDIKAN    2.299105e+09          2020\n",
            "\n",
            "[22298 rows x 3 columns]\n"
          ]
        }
      ]
    },
    {
      "cell_type": "markdown",
      "source": [
        "# **Penghitungan Nilai Anggaran Pertahun di sektor Pendidikan**"
      ],
      "metadata": {
        "id": "xrgy2miBGKpT"
      }
    },
    {
      "cell_type": "code",
      "source": [
        "# Menghitung total nilai anggaran per tahun\n",
        "total_anggaran_per_tahun = data_pendidikan.groupby('periode_data')['nilai_anggaran'].sum().reset_index()\n",
        "\n",
        "# Mengganti nama kolom untuk kemudahan pemahaman\n",
        "total_anggaran_per_tahun.rename(columns={'nilai_anggaran': 'total_nilai_anggaran'}, inplace=True)\n",
        "\n",
        "# Fungsi untuk mengonversi angka ke format Rupiah\n",
        "def format_rupiah(value):\n",
        "    if value >= 1e12:\n",
        "        return f\"Rp {value / 1e12:.2f} Triliun\"\n",
        "    elif value >= 1e9:\n",
        "        return f\"Rp {value / 1e9:.2f} Miliar\"\n",
        "    elif value >= 1e6:\n",
        "        return f\"Rp {value / 1e6:.2f} Juta\"\n",
        "    else:\n",
        "        return f\"Rp {value:.2f}\"\n",
        "\n",
        "# Terapkan format Rupiah ke kolom total_nilai_anggaran\n",
        "total_anggaran_per_tahun['total_nilai_anggaran'] = total_anggaran_per_tahun['total_nilai_anggaran'].apply(format_rupiah)\n",
        "\n",
        "# Menampilkan hasilnya\n",
        "print(\"Total Nilai Anggaran Pendidikan per Tahun:\")\n",
        "print(total_anggaran_per_tahun)\n"
      ],
      "metadata": {
        "colab": {
          "base_uri": "https://localhost:8080/"
        },
        "id": "jsGwse9aCAi_",
        "outputId": "b5c274f0-9fd0-4e41-d303-dbc192fdd1ca"
      },
      "execution_count": null,
      "outputs": [
        {
          "output_type": "stream",
          "name": "stdout",
          "text": [
            "Total Nilai Anggaran Pendidikan per Tahun:\n",
            "   periode_data total_nilai_anggaran\n",
            "0          2014      Rp 33.10 Miliar\n",
            "1          2015      Rp 3.90 Triliun\n",
            "2          2016      Rp 4.46 Triliun\n",
            "3          2017      Rp 4.09 Triliun\n",
            "4          2018     Rp 153.36 Miliar\n",
            "5          2019     Rp 21.85 Triliun\n",
            "6          2020     Rp 18.25 Triliun\n"
          ]
        }
      ]
    },
    {
      "cell_type": "markdown",
      "source": [
        "# **Membuat Grafik Tren Total Anggaran Pendidikan per Tahun**"
      ],
      "metadata": {
        "id": "pcOOWPzTGaaT"
      }
    },
    {
      "cell_type": "code",
      "source": [
        "# Menghitung total nilai anggaran per tahun\n",
        "total_anggaran_per_tahun = data_pendidikan.groupby('periode_data')['nilai_anggaran'].sum().reset_index()\n",
        "\n",
        "# Membuat plot time series\n",
        "plt.figure(figsize=(10, 6))\n",
        "plt.plot(total_anggaran_per_tahun['periode_data'], total_anggaran_per_tahun['nilai_anggaran'], marker='o', color='b', linestyle='-')\n",
        "plt.title(\"Tren Total Anggaran Pendidikan per Tahun\")\n",
        "plt.xlabel(\"Tahun\")\n",
        "plt.ylabel(\"Total Nilai Anggaran (Rupiah)\")\n",
        "plt.xticks(total_anggaran_per_tahun['periode_data'])  # Menampilkan setiap tahun sebagai label pada sumbu x\n",
        "plt.grid(True)\n",
        "\n",
        "# Tampilkan grafik\n",
        "plt.show()\n"
      ],
      "metadata": {
        "colab": {
          "base_uri": "https://localhost:8080/",
          "height": 564
        },
        "id": "Q8091bXVIUAC",
        "outputId": "d73aee9a-fa32-4a6c-b9a9-fa8931f79933"
      },
      "execution_count": null,
      "outputs": [
        {
          "output_type": "display_data",
          "data": {
            "text/plain": [
              "<Figure size 1000x600 with 1 Axes>"
            ],
            "image/png": "[encoded data removed]"
          },
          "metadata": {}
        }
      ]
    },
    {
      "cell_type": "markdown",
      "source": [
        "**Pada Tahun 2019, mengalami kenaikan anggaran yang sangat signifikan dikarenakan pada tahun tersebut DPRD DKI Jakarta menggenjot dana alokasi untuk sarana dan prasarana.**\n",
        "\n",
        "Sumber: DPRD DKI Jakarta. (Tahun). Peningkatan Alokasi Anggaran Pendidikan Sudah Seharusnya Dilakukan. Diakses dari https://dprd-dkijakartaprov.go.id/peningkatan-alokasi-anggaran-pendidikan-sudah-seharusnya-dilakukan/."
      ],
      "metadata": {
        "id": "ynxhU2dMIKrp"
      }
    },
    {
      "cell_type": "markdown",
      "source": [
        "**Filtering data untuk sektor Kesehatan pada dataset APBD 2019**"
      ],
      "metadata": {
        "id": "D4gVueEjJH4X"
      }
    },
    {
      "cell_type": "code",
      "source": [
        "# Memfilter data khusus untuk \"KESEHATAN\" pada dataset APBD 2019\n",
        "data_kesehatan_2019 = apbd2019.loc[apbd2019['nama_urusan_program'] == 'KESEHATAN', ['nama_urusan_program', 'nilai_anggaran', 'periode_data']]\n",
        "data_kesehatan_2019.reset_index(drop=True, inplace=True)\n",
        "\n",
        "# Menampilkan hasilnya\n",
        "print(data_kesehatan_2019.head())\n"
      ],
      "metadata": {
        "colab": {
          "base_uri": "https://localhost:8080/"
        },
        "id": "wcivyQlJmSYp",
        "outputId": "07dbd336-2a33-4439-cc9d-86462426655f"
      },
      "execution_count": null,
      "outputs": [
        {
          "output_type": "stream",
          "name": "stdout",
          "text": [
            "  nama_urusan_program  nilai_anggaran  periode_data\n",
            "0           KESEHATAN          349000          2019\n",
            "1           KESEHATAN        26902095          2019\n",
            "2           KESEHATAN       296450000          2019\n",
            "3           KESEHATAN        21385000          2019\n",
            "4           KESEHATAN       103890600          2019\n"
          ]
        }
      ]
    },
    {
      "cell_type": "markdown",
      "source": [
        "**Filtering data untuk sektor Kewilayahan pada dataset APBD 2019**"
      ],
      "metadata": {
        "id": "W71Zi6PKJWsN"
      }
    },
    {
      "cell_type": "code",
      "source": [
        "# Memfilter data khusus untuk \"KESEHATAN\" pada dataset APBD 2019\n",
        "data_kesehatan_2019 = apbd2019.loc[apbd2019['nama_urusan_program'] == 'KEWILAYAHAN', ['nama_urusan_program', 'nilai_anggaran', 'periode_data']]\n",
        "data_kesehatan_2019.reset_index(drop=True, inplace=True)\n",
        "\n",
        "# Menampilkan hasilnya\n",
        "print(data_kesehatan_2019.head())\n"
      ],
      "metadata": {
        "colab": {
          "base_uri": "https://localhost:8080/"
        },
        "id": "CNucVejJtR97",
        "outputId": "dba136e3-be40-48be-f70e-e7d148a5d397"
      },
      "execution_count": null,
      "outputs": [
        {
          "output_type": "stream",
          "name": "stdout",
          "text": [
            "  nama_urusan_program  nilai_anggaran  periode_data\n",
            "0         KEWILAYAHAN        10700250          2019\n",
            "1         KEWILAYAHAN       111888000          2019\n",
            "2         KEWILAYAHAN        42200413          2019\n",
            "3         KEWILAYAHAN         2053084          2019\n",
            "4         KEWILAYAHAN          174000          2019\n"
          ]
        }
      ]
    },
    {
      "cell_type": "markdown",
      "source": [
        "**Menghitung Total Nilai Anggaran Kesehatan pada dataset APBD 2019 dalam format Rupiah**"
      ],
      "metadata": {
        "id": "jpS1u0gJJhtH"
      }
    },
    {
      "cell_type": "code",
      "source": [
        "# Memfilter data untuk sektor kesehatan pada dataset APBD 2019\n",
        "data_kesehatan_2019 = apbd2019.loc[apbd2019['nama_urusan_program'] == 'KESEHATAN', ['nilai_anggaran']]\n",
        "\n",
        "# Menghapus koma dari nilai_anggaran dan mengubah tipe data menjadi integer\n",
        "data_kesehatan_2019['nilai_anggaran'] = (\n",
        "    data_kesehatan_2019['nilai_anggaran']\n",
        "    .replace(',', '', regex=True)  # Menghapus koma\n",
        "    .astype(int)  # Mengonversi ke integer\n",
        ")\n",
        "\n",
        "# Menghitung total nilai anggaran\n",
        "total_nilai_anggaran_kesehatan_2019 = data_kesehatan_2019['nilai_anggaran'].sum()\n",
        "\n",
        "# Fungsi untuk mengonversi angka ke format Rupiah\n",
        "def format_rupiah(value):\n",
        "    if value >= 1e12:\n",
        "        return f\"Rp {value / 1e12:.2f} Triliun\"\n",
        "    elif value >= 1e9:\n",
        "        return f\"Rp {value / 1e9:.2f} Miliar\"\n",
        "    elif value >= 1e6:\n",
        "        return f\"Rp {value / 1e6:.2f} Juta\"\n",
        "    else:\n",
        "        return f\"Rp {value:.2f}\"\n",
        "\n",
        "# Menggunakan fungsi untuk mengformat total nilai anggaran\n",
        "total_nilai_anggaran_kesehatan_2019_formatted = format_rupiah(total_nilai_anggaran_kesehatan_2019)\n",
        "\n",
        "# Menampilkan total nilai anggaran dalam format Rupiah\n",
        "print(f\"Total Nilai Anggaran Kesehatan DKI Jakarta tahun 2019: {total_nilai_anggaran_kesehatan_2019_formatted}\")\n"
      ],
      "metadata": {
        "colab": {
          "base_uri": "https://localhost:8080/"
        },
        "id": "NTgqD9t3qMi3",
        "outputId": "489aae4c-d474-4937-a794-c6b44399606c"
      },
      "execution_count": null,
      "outputs": [
        {
          "output_type": "stream",
          "name": "stdout",
          "text": [
            "Total Nilai Anggaran Kesehatan DKI Jakarta tahun 2019: Rp 12.12 Triliun\n"
          ]
        }
      ]
    },
    {
      "cell_type": "markdown",
      "source": [
        "**Menghitung Total Nilai Anggaran Kesehatan pada dataset APBD 2019 dalam format Rupiah**"
      ],
      "metadata": {
        "id": "4I5dTOYCKuU9"
      }
    },
    {
      "cell_type": "code",
      "source": [
        "# Memfilter data untuk sektor kesehatan pada dataset APBD 2019\n",
        "data_kewilayahan_2019 = apbd2019.loc[apbd2019['nama_urusan_program'] == 'KEWILAYAHAN', ['nilai_anggaran']]\n",
        "\n",
        "# Menghapus koma dari nilai_anggaran dan mengubah tipe data menjadi integer\n",
        "data_kewilayahan_2019['nilai_anggaran'] = (\n",
        "    data_kewilayahan_2019['nilai_anggaran']\n",
        "    .replace(',', '', regex=True)  # Menghapus koma\n",
        "    .astype(int)  # Mengonversi ke integer\n",
        ")\n",
        "\n",
        "# Menghitung total nilai anggaran\n",
        "total_nilai_anggaran_kewilayahan_2019 = data_kewilayahan_2019['nilai_anggaran'].sum()\n",
        "\n",
        "# Fungsi untuk mengonversi angka ke format Rupiah\n",
        "def format_rupiah(value):\n",
        "    if value >= 1e12:\n",
        "        return f\"Rp {value / 1e12:.2f} Triliun\"\n",
        "    elif value >= 1e9:\n",
        "        return f\"Rp {value / 1e9:.2f} Miliar\"\n",
        "    elif value >= 1e6:\n",
        "        return f\"Rp {value / 1e6:.2f} Juta\"\n",
        "    else:\n",
        "        return f\"Rp {value:.2f}\"\n",
        "\n",
        "# Menggunakan fungsi untuk mengformat total nilai anggaran\n",
        "total_nilai_anggaran_kewilayahan_2019_formatted = format_rupiah(total_nilai_anggaran_kewilayahan_2019)\n",
        "\n",
        "# Menampilkan total nilai anggaran dalam format Rupiah\n",
        "print(f\"Total Nilai Anggaran Kewilayahan DKI Jakarta tahun 2019: {total_nilai_anggaran_kewilayahan_2019_formatted}\")\n"
      ],
      "metadata": {
        "colab": {
          "base_uri": "https://localhost:8080/"
        },
        "id": "zBHvCUxntXEt",
        "outputId": "6d266d58-33a5-4e46-e4aa-1cf7b296418a"
      },
      "execution_count": null,
      "outputs": [
        {
          "output_type": "stream",
          "name": "stdout",
          "text": [
            "Total Nilai Anggaran Kewilayahan DKI Jakarta tahun 2019: Rp 4.05 Triliun\n"
          ]
        }
      ]
    },
    {
      "cell_type": "markdown",
      "source": [
        "# **Membuat Grafik untuk Perbandingan Total Nilai Anggaran pada sektor Pendidikan, Kesehatan, dan Kewilayahan pada Tahun 2019**"
      ],
      "metadata": {
        "id": "NKS23qS0K0W-"
      }
    },
    {
      "cell_type": "code",
      "source": [
        "# Menghitung total nilai anggaran untuk sektor pendidikan di tahun 2019\n",
        "data_pendidikan_2019 = apbd2019.loc[apbd2019['nama_urusan_program'] == 'PENDIDIKAN', ['nilai_anggaran']]\n",
        "data_pendidikan_2019['nilai_anggaran'] = (\n",
        "    data_pendidikan_2019['nilai_anggaran']\n",
        "    .replace(',', '', regex=True)  # Menghapus koma\n",
        "    .astype(int)  # Mengonversi ke integer\n",
        ")\n",
        "total_nilai_anggaran_pendidikan_2019 = data_pendidikan_2019['nilai_anggaran'].sum()\n",
        "\n",
        "# Menghitung total nilai anggaran untuk sektor kesehatan di tahun 2019\n",
        "data_kesehatan_2019 = apbd2019.loc[apbd2019['nama_urusan_program'] == 'KESEHATAN', ['nilai_anggaran']]\n",
        "data_kesehatan_2019['nilai_anggaran'] = (\n",
        "    data_kesehatan_2019['nilai_anggaran']\n",
        "    .replace(',', '', regex=True)  # Menghapus koma\n",
        "    .astype(int)  # Mengonversi ke integer\n",
        ")\n",
        "total_nilai_anggaran_kesehatan_2019 = data_kesehatan_2019['nilai_anggaran'].sum()\n",
        "\n",
        "# Menghitung total nilai anggaran untuk sektor kewilayahan di tahun 2019\n",
        "data_kewilayahan_2019 = apbd2019.loc[apbd2019['nama_urusan_program'] == 'KEWILAYAHAN', ['nilai_anggaran']]\n",
        "data_kewilayahan_2019['nilai_anggaran'] = (\n",
        "    data_kewilayahan_2019['nilai_anggaran']\n",
        "    .replace(',', '', regex=True)  # Menghapus koma\n",
        "    .astype(int)  # Mengonversi ke integer\n",
        ")\n",
        "total_nilai_anggaran_kewilayahan_2019 = data_kewilayahan_2019['nilai_anggaran'].sum()\n",
        "\n",
        "# Menyusun data untuk grafik\n",
        "sektor = ['Pendidikan', 'Kesehatan', 'Kewilayahan']\n",
        "total_nilai_anggaran = [\n",
        "    total_nilai_anggaran_pendidikan_2019,\n",
        "    total_nilai_anggaran_kesehatan_2019,\n",
        "    total_nilai_anggaran_kewilayahan_2019\n",
        "]\n",
        "\n",
        "# Membuat grafik batang\n",
        "plt.figure(figsize=(10, 6))\n",
        "bars = plt.bar(sektor, total_nilai_anggaran, color=['#4CAF50', '#2196F3', '#FF9800'], edgecolor='black')\n",
        "\n",
        "# Menambahkan detail pada grafik\n",
        "plt.title('Perbandingan Total Nilai Anggaran Pendidikan, Kesehatan, dan Kewilayahan DKI Jakarta Tahun 2019', fontsize=14, fontweight='bold')\n",
        "plt.xlabel('Sektor', fontsize=12)\n",
        "plt.ylabel('Total Nilai Anggaran (Rupiah)', fontsize=12)\n",
        "plt.xticks(sektor, fontsize=12)\n",
        "plt.yticks(fontsize=12)\n",
        "\n",
        "# Menambahkan format Rupiah ke sumbu Y\n",
        "def format_rupiah(value):\n",
        "    if value >= 1e12:\n",
        "        return f\"Rp {value / 1e12:.2f} Triliun\"\n",
        "    elif value >= 1e9:\n",
        "        return f\"Rp {value / 1e9:.2f} Miliar\"\n",
        "    elif value >= 1e6:\n",
        "        return f\"Rp {value / 1e6:.2f} Juta\"\n",
        "    else:\n",
        "        return f\"Rp {value:.2f}\"\n",
        "\n",
        "# Mengubah label sumbu Y menjadi format Rupiah\n",
        "plt.yticks(total_nilai_anggaran, [format_rupiah(x) for x in total_nilai_anggaran])\n",
        "\n",
        "# Menambahkan anotasi untuk nilai anggaran di atas setiap batang\n",
        "for bar in bars:\n",
        "    yval = bar.get_height()\n",
        "    plt.text(bar.get_x() + bar.get_width()/2, yval, format_rupiah(yval), ha='center', va='bottom', fontsize=10)\n",
        "\n",
        "# Menambahkan grid untuk memudahkan pembacaan\n",
        "plt.grid(axis='y', linestyle='--', alpha=0.7)\n",
        "plt.tight_layout()  # Mengatur layout agar lebih rapi\n",
        "plt.show()\n"
      ],
      "metadata": {
        "colab": {
          "base_uri": "https://localhost:8080/",
          "height": 607
        },
        "id": "kVzzQ-t3qwgl",
        "outputId": "85931596-30bd-4ed7-89fb-1bc7496d6199"
      },
      "execution_count": null,
      "outputs": [
        {
          "output_type": "display_data",
          "data": {
            "text/plain": [
              "<Figure size 1000x600 with 1 Axes>"
            ],
            "image/png": "[encoded data removed]"
          },
          "metadata": {}
        }
      ]
    },
    {
      "cell_type": "markdown",
      "source": [
        "**Pada Tahun 2019, Sektor Pendidikan memiliki anggaran yang lebih tinggi dibandingkan dengan sektor Kesehatan dan Kewilayahan dikarenakan Pendanaan pendidikan minimal 20 persen diatur dalam Undang-Undang Dasar 1945 Pasal 31 Ayat 4, yang menyebutkan anggaran pendidikan harus setidaknya 20% dari APBN dan APBD.**\n",
        "\n",
        "Sumber: DPRD DKI Jakarta. (Tahun). Peningkatan Alokasi Anggaran Pendidikan Sudah Seharusnya Dilakukan. Diakses dari https://dprd-dkijakartaprov.go.id/peningkatan-alokasi-anggaran-pendidikan-sudah-seharusnya-dilakukan/."
      ],
      "metadata": {
        "id": "F4UVCUoULp1z"
      }
    },
    {
      "cell_type": "code",
      "source": [
        "# Kamus singkatan untuk nama sektor\n",
        "singkatan_nama = {\n",
        "    \"OTONOMI DAERAH, PEMERINTAHAN UMUM, ADMINISTRASI KEUANGAN DAERAH, PERANGKAT DAERAH, KEPEGAWAIAN, DAN PERSANDIAN\": \"OTONOMI & ADMIN\",\n",
        "    \"PEKERJAAN UMUM DAN PENATAAN RUANG\": \"PEKERJAAN UMUM\",\n",
        "    \"FUNGSI LAIN SESUAI DENGAN KETENTUAN PERATURAN PERUNDANG-UNDANGAN\": \"FUNGSI LAIN\",\n",
        "    \"PEMBERDAYAAN PEREMPUAN DAN PERLINDUNGAN ANAK\": \"PEMBERDAYAAN ANAK\",\n",
        "    \"PENELITIAN DAN PENGEMBANGAN\": \"PENELITIAN & PENGEMBANGAN\",\n",
        "    \"KEARSIPAN\": \"ARSIP\",\n",
        "    \"PERSANDIAN\": \"SANDI\",\n",
        "    \"STATISTIK\": \"STATISTIK\",\n",
        "    \"KESEHATAN\": \"KESEHATAN\",\n",
        "    \"PENDIDIKAN\": \"PENDIDIKAN\"\n",
        "}\n",
        "\n",
        "# Terapkan singkatan pada nama sektor\n",
        "sektor_terbesar['nama_urusan_program'] = sektor_terbesar['nama_urusan_program'].replace(singkatan_nama)\n",
        "sektor_terkecil['nama_urusan_program'] = sektor_terkecil['nama_urusan_program'].replace(singkatan_nama)\n",
        "\n",
        "# Fungsi untuk memformat angka ke triliun\n",
        "def format_triliun(x, pos):\n",
        "    return f'{x * 1e-12:.1f}T'\n",
        "\n",
        "# Fungsi untuk memformat angka ke miliar\n",
        "def format_miliar(x, pos):\n",
        "    return f'{x * 1e-9:.1f}M'\n",
        "\n",
        "# Langkah 4: Buat subplot\n",
        "fig, axs = plt.subplots(1, 2, figsize=(14, 6))\n",
        "\n",
        "# Grafik untuk sektor terbesar\n",
        "axs[0].barh(sektor_terbesar['nama_urusan_program'], sektor_terbesar['nilai_anggaran'], color='blue')\n",
        "axs[0].set_title('5 Sektor Terbesar Anggaran APBD 2019')\n",
        "axs[0].set_xlabel('Total Anggaran (Triliun Rupiah)')\n",
        "axs[0].set_ylabel('Sektor')\n",
        "axs[0].xaxis.set_major_formatter(FuncFormatter(format_triliun))  # Terapkan format ke sumbu x sektor terbesar\n",
        "\n",
        "# Grafik untuk sektor terkecil\n",
        "axs[1].barh(sektor_terkecil['nama_urusan_program'], sektor_terkecil['nilai_anggaran'], color='orange')\n",
        "axs[1].set_title('5 Sektor Terkecil Anggaran APBD 2019')\n",
        "axs[1].set_xlabel('Total Anggaran (Miliar Rupiah)')\n",
        "axs[1].set_ylabel('Sektor')\n",
        "axs[1].xaxis.set_major_formatter(FuncFormatter(format_miliar))  # Terapkan format ke sumbu x sektor terkecil\n",
        "\n",
        "# Tampilkan 5 sektor terkecil\n",
        "print(sektor_terkecil.head())\n",
        "print(sektor_terbesar.head())\n",
        "\n",
        "# Atur tata letak\n",
        "plt.tight_layout()\n",
        "plt.show()\n"
      ],
      "metadata": {
        "colab": {
          "base_uri": "https://localhost:8080/",
          "height": 815
        },
        "id": "LwWoijZj_S7c",
        "outputId": "065700c1-627e-4f89-f3b1-06d8ecab07fb"
      },
      "execution_count": null,
      "outputs": [
        {
          "output_type": "stream",
          "name": "stdout",
          "text": [
            "          nama_urusan_program  nilai_anggaran\n",
            "33  PENELITIAN & PENGEMBANGAN      6525862955\n",
            "47                  STATISTIK      7961050583\n",
            "28          PEMBERDAYAAN ANAK     10499436755\n",
            "41                      SANDI     20540978744\n",
            "4                       ARSIP     28816010268\n",
            "   nama_urusan_program   nilai_anggaran\n",
            "22     OTONOMI & ADMIN  101385705083634\n",
            "32          PENDIDIKAN   21851026087092\n",
            "13           KESEHATAN   12121957907890\n",
            "26      PEKERJAAN UMUM    6873531471428\n",
            "2          FUNGSI LAIN    5834619322114\n"
          ]
        },
        {
          "output_type": "display_data",
          "data": {
            "text/plain": [
              "<Figure size 1400x600 with 2 Axes>"
            ],
            "image/png": "[encoded data removed]"
          },
          "metadata": {}
        }
      ]
    },
    {
      "cell_type": "markdown",
      "source": [
        "**Data diatas menunjukkan 5 Sektor Penerima Anggaran Terbesar dan Terkecil**"
      ],
      "metadata": {
        "id": "7t4wv49wNt-J"
      }
    },
    {
      "cell_type": "markdown",
      "source": [
        "**Kesimpulan**\n",
        "\n",
        "Analisis ini menunjukkan fluktuasi yang signifikan dalam anggaran pendidikan DKI Jakarta dari tahun 2014 hingga 2020. Pada tahun 2014, anggaran pendidikan mencapai IDR 33,10 miliar, angka terendah selama periode ini. Namun, pada tahun 2017, anggaran meningkat tajam menjadi IDR 4,09 triliun, mencerminkan perhatian yang lebih besar terhadap sektor pendidikan. Sayangnya, pada tahun 2018, anggaran pendidikan mengalami penurunan drastis menjadi IDR 153,36 miliar, menandakan adanya kendala dalam pengalokasian dana.\n",
        "\n",
        "Pada tahun 2019, terjadi lonjakan luar biasa hingga IDR 21,85 triliun, yang menunjukkan komitmen pemerintah daerah untuk meningkatkan kualitas pendidikan. Lonjakan ini dapat dilihat sebagai respons terhadap kebutuhan mendesak dalam pengembangan infrastruktur pendidikan dan peningkatan kualitas layanan pendidikan.\n",
        "\n",
        "Secara keseluruhan, meskipun terdapat beberapa tahun dengan pengurangan anggaran, tren peningkatan yang signifikan pada tahun-tahun tertentu menunjukkan bahwa anggaran pendidikan tetap menjadi prioritas dalam kebijakan APBD DKI Jakarta. Penelitian lebih lanjut diperlukan untuk menganalisis faktor-faktor yang memengaruhi perubahan ini dan untuk mengidentifikasi dampak nyata dari pengeluaran tersebut terhadap kualitas pendidikan di DKI Jakarta.\n",
        "\n"
      ],
      "metadata": {
        "id": "Ik_ULr2KdBGx"
      }
    }
  ]
}